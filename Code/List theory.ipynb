{
 "cells": [
  {
   "cell_type": "markdown",
   "id": "2c5e98f0",
   "metadata": {},
   "source": [
    "# Python Lists Notes\n",
    "**Shubham Verma**\n",
    "\n",
    "**Linkedin** https://www.linkedin.com/in/shubham-verma-3968a5119\n",
    "\n",
    "**Note:** Please follow my Linkedin for Question on Lists"
   ]
  },
  {
   "cell_type": "markdown",
   "id": "5f6a130b",
   "metadata": {},
   "source": [
    "## 1.0 List introduction"
   ]
  },
  {
   "cell_type": "markdown",
   "id": "f68ef563",
   "metadata": {},
   "source": [
    "### 1.1 Syntax\n",
    "\n",
    "1. Lists are used to store multiple items in a single variable.\n",
    "2. Lists are created using square brackets\n",
    "3. Lists can store multiple data types also for ex. tuple, sets, dict, bool, etc\n",
    "\n",
    "**for example see below list, l**"
   ]
  },
  {
   "cell_type": "code",
   "execution_count": 52,
   "id": "ad7c5856",
   "metadata": {},
   "outputs": [
    {
     "data": {
      "text/plain": [
       "[1, 2, 'shubham', [1, 23, 4], (1, 2, 3), {1, 2}, {'key': 'value'}, True]"
      ]
     },
     "execution_count": 52,
     "metadata": {},
     "output_type": "execute_result"
    }
   ],
   "source": [
    "l = [1,2,\"shubham\", [1,23,4], (1,2,3), {1,2}, {\"key\": \"value\"}, True]\n",
    "l"
   ]
  },
  {
   "cell_type": "markdown",
   "id": "b31d2f1f",
   "metadata": {},
   "source": [
    "### 1.2 type() and len() Method\n",
    "\n",
    "1. type() function is used to get data type\n",
    "2. len() function is used to get length of list"
   ]
  },
  {
   "cell_type": "code",
   "execution_count": 53,
   "id": "81c85701",
   "metadata": {},
   "outputs": [
    {
     "data": {
      "text/plain": [
       "list"
      ]
     },
     "execution_count": 53,
     "metadata": {},
     "output_type": "execute_result"
    }
   ],
   "source": [
    "type(l)"
   ]
  },
  {
   "cell_type": "code",
   "execution_count": 54,
   "id": "8149f1eb",
   "metadata": {},
   "outputs": [
    {
     "data": {
      "text/plain": [
       "8"
      ]
     },
     "execution_count": 54,
     "metadata": {},
     "output_type": "execute_result"
    }
   ],
   "source": [
    "len(l)"
   ]
  },
  {
   "cell_type": "markdown",
   "id": "ebc32975",
   "metadata": {},
   "source": [
    "### 1.3 List Properties\n",
    "\n",
    "1. lists are ordered, it means that if you add new items to a list, the new items will be placed at the end of the list. One exception to this is insert() method which inserts element at specified index.\n",
    "2. list is mutable, it means that we can change, add, and remove items in a list after it has been created.\n",
    "3. lists allow duplicates, since lists are indexed, so lists can have items with the same value."
   ]
  },
  {
   "cell_type": "markdown",
   "id": "a8037504",
   "metadata": {},
   "source": [
    "### 1.4 list() Method\n",
    "\n",
    "1. list() is used to convert other data types to list "
   ]
  },
  {
   "cell_type": "code",
   "execution_count": 55,
   "id": "e18e5729",
   "metadata": {},
   "outputs": [
    {
     "data": {
      "text/plain": [
       "['S', 'a', 'm', 'e', 'e', 'r']"
      ]
     },
     "execution_count": 55,
     "metadata": {},
     "output_type": "execute_result"
    }
   ],
   "source": [
    "s = \"Sameer\"\n",
    "list(s)"
   ]
  },
  {
   "cell_type": "code",
   "execution_count": 56,
   "id": "5da3b57f",
   "metadata": {},
   "outputs": [
    {
     "data": {
      "text/plain": [
       "[1, 2, 3, 4, 5, 6]"
      ]
     },
     "execution_count": 56,
     "metadata": {},
     "output_type": "execute_result"
    }
   ],
   "source": [
    "tuple1 = (1,2,3,4,5,6)\n",
    "list(tuple1)"
   ]
  },
  {
   "cell_type": "markdown",
   "id": "5230d914",
   "metadata": {},
   "source": [
    "## 2.0 Accessing list elements\n",
    "\n",
    "1. list can be accessed by positive and negative indexing."
   ]
  },
  {
   "cell_type": "code",
   "execution_count": 57,
   "id": "6f22b500",
   "metadata": {},
   "outputs": [],
   "source": [
    "list1 = [\"Red\", \"Blue\", \"Green\",\"Yellow\", True, False, 1,3]"
   ]
  },
  {
   "cell_type": "markdown",
   "id": "2b3009ae",
   "metadata": {},
   "source": [
    "### 2.1 Positive indexing "
   ]
  },
  {
   "cell_type": "code",
   "execution_count": 58,
   "id": "85b22b84",
   "metadata": {},
   "outputs": [
    {
     "data": {
      "text/plain": [
       "['Red', 'Blue', 'Green', 'Yellow', True, False, 1, 3]"
      ]
     },
     "execution_count": 58,
     "metadata": {},
     "output_type": "execute_result"
    }
   ],
   "source": [
    "# from first to last element\n",
    "list1[0:]"
   ]
  },
  {
   "cell_type": "code",
   "execution_count": 59,
   "id": "4f210e95",
   "metadata": {},
   "outputs": [
    {
     "data": {
      "text/plain": [
       "['Red', 'Blue', 'Green', 'Yellow']"
      ]
     },
     "execution_count": 59,
     "metadata": {},
     "output_type": "execute_result"
    }
   ],
   "source": [
    "# from first to nth element\n",
    "list1[:4]"
   ]
  },
  {
   "cell_type": "code",
   "execution_count": 60,
   "id": "cfc58d38",
   "metadata": {},
   "outputs": [
    {
     "data": {
      "text/plain": [
       "['Yellow', True, False]"
      ]
     },
     "execution_count": 60,
     "metadata": {},
     "output_type": "execute_result"
    }
   ],
   "source": [
    "# range of element\n",
    "list1[3:6]"
   ]
  },
  {
   "cell_type": "code",
   "execution_count": 61,
   "id": "aa2d6528",
   "metadata": {},
   "outputs": [
    {
     "data": {
      "text/plain": [
       "['Red', 'Green', True, 1]"
      ]
     },
     "execution_count": 61,
     "metadata": {},
     "output_type": "execute_result"
    }
   ],
   "source": [
    "# elements with a jump 2 by default jump is 1\n",
    "list1[0::2]"
   ]
  },
  {
   "cell_type": "markdown",
   "id": "f2e41b58",
   "metadata": {},
   "source": [
    "### 2.2 Negative indexing "
   ]
  },
  {
   "cell_type": "code",
   "execution_count": 62,
   "id": "e8de3d0a",
   "metadata": {},
   "outputs": [
    {
     "data": {
      "text/plain": [
       "['Red', 'Blue', 'Green', 'Yellow', True, False, 1]"
      ]
     },
     "execution_count": 62,
     "metadata": {},
     "output_type": "execute_result"
    }
   ],
   "source": [
    "# upto second last element\n",
    "list1[:-1]"
   ]
  },
  {
   "cell_type": "code",
   "execution_count": 63,
   "id": "e25e97ad",
   "metadata": {},
   "outputs": [
    {
     "data": {
      "text/plain": [
       "[3, 1, False, True, 'Yellow', 'Green', 'Blue', 'Red']"
      ]
     },
     "execution_count": 63,
     "metadata": {},
     "output_type": "execute_result"
    }
   ],
   "source": [
    "# to excess last element also but it reverses the list\n",
    "list1[-1::-1]"
   ]
  },
  {
   "cell_type": "code",
   "execution_count": 64,
   "id": "1cdcbbcd",
   "metadata": {},
   "outputs": [
    {
     "data": {
      "text/plain": [
       "[(1, 2, 3), {1, 2}, {'key': 'value'}]"
      ]
     },
     "execution_count": 64,
     "metadata": {},
     "output_type": "execute_result"
    }
   ],
   "source": [
    "# range of elements\n",
    "l[-4:-1]"
   ]
  },
  {
   "cell_type": "code",
   "execution_count": 65,
   "id": "08cdbedf",
   "metadata": {},
   "outputs": [
    {
     "data": {
      "text/plain": [
       "[3, 1, False, True, 'Yellow', 'Green', 'Blue', 'Red']"
      ]
     },
     "execution_count": 65,
     "metadata": {},
     "output_type": "execute_result"
    }
   ],
   "source": [
    "# reverse of list\n",
    "list1[::-1]"
   ]
  },
  {
   "cell_type": "markdown",
   "id": "51f2d4e7",
   "metadata": {},
   "source": [
    "## 3.0 Change list elements"
   ]
  },
  {
   "cell_type": "code",
   "execution_count": 66,
   "id": "b5dade95",
   "metadata": {},
   "outputs": [],
   "source": [
    "list1 = [\"Red\", \"Blue\", \"Green\",\"Yellow\", True, False, 1,3]"
   ]
  },
  {
   "cell_type": "markdown",
   "id": "bee8ddb5",
   "metadata": {},
   "source": [
    "### 3.1 Change item value at specific index"
   ]
  },
  {
   "cell_type": "code",
   "execution_count": 67,
   "id": "688d83c0",
   "metadata": {},
   "outputs": [
    {
     "data": {
      "text/plain": [
       "['Red', 1, 'Green', 'Yellow', True, False, 1, 3]"
      ]
     },
     "execution_count": 67,
     "metadata": {},
     "output_type": "execute_result"
    }
   ],
   "source": [
    "# using list assignment\n",
    "list1[1] = 1\n",
    "list1"
   ]
  },
  {
   "cell_type": "markdown",
   "id": "ac39567c",
   "metadata": {},
   "source": [
    "### 3.2 Insert multiple values"
   ]
  },
  {
   "cell_type": "code",
   "execution_count": 68,
   "id": "8f277390",
   "metadata": {},
   "outputs": [
    {
     "data": {
      "text/plain": [
       "['Red', 1, 'ramesh', 'Suresh', 'kamlesh', False, 1, 3]"
      ]
     },
     "execution_count": 68,
     "metadata": {},
     "output_type": "execute_result"
    }
   ],
   "source": [
    "list1[2:5] = [\"ramesh\", \"Suresh\", \"kamlesh\"]\n",
    "list1"
   ]
  },
  {
   "cell_type": "code",
   "execution_count": 69,
   "id": "cf025668",
   "metadata": {},
   "outputs": [
    {
     "name": "stdout",
     "output_type": "stream",
     "text": [
      "length of list before replacement 8\n",
      "length of list after replacement 9\n"
     ]
    },
    {
     "data": {
      "text/plain": [
       "['Red', 22, 34, 45, 'Suresh', 'kamlesh', False, 1, 3]"
      ]
     },
     "execution_count": 69,
     "metadata": {},
     "output_type": "execute_result"
    }
   ],
   "source": [
    "#if replacement items are not equal to items to be replaced then list length will increase or decrease\n",
    "print(\"length of list before replacement\", len(list1))\n",
    "list1[1:3] = [22,34,45]\n",
    "print(\"length of list after replacement\", len(list1))\n",
    "list1"
   ]
  },
  {
   "cell_type": "code",
   "execution_count": 70,
   "id": "f60e73a5",
   "metadata": {},
   "outputs": [
    {
     "name": "stdout",
     "output_type": "stream",
     "text": [
      "length of list before replacement 9\n",
      "length of list after replacement 8\n"
     ]
    },
    {
     "data": {
      "text/plain": [
       "['Red', 'sam', 45, 'Suresh', 'kamlesh', False, 1, 3]"
      ]
     },
     "execution_count": 70,
     "metadata": {},
     "output_type": "execute_result"
    }
   ],
   "source": [
    "print(\"length of list before replacement\", len(list1))\n",
    "list1[1:3] = [\"sam\"]\n",
    "print(\"length of list after replacement\", len(list1))\n",
    "list1"
   ]
  },
  {
   "cell_type": "markdown",
   "id": "3efbe552",
   "metadata": {},
   "source": [
    "## 4.0 Add elements to list "
   ]
  },
  {
   "cell_type": "code",
   "execution_count": 89,
   "id": "ed7316d9",
   "metadata": {},
   "outputs": [],
   "source": [
    "l = [1,2,3,4,5]"
   ]
  },
  {
   "cell_type": "markdown",
   "id": "22b0eaff",
   "metadata": {},
   "source": [
    "### 4.1 append() Method\n",
    "\n",
    "1. append() adds an item to the end of the list"
   ]
  },
  {
   "cell_type": "code",
   "execution_count": 90,
   "id": "e3235970",
   "metadata": {},
   "outputs": [
    {
     "data": {
      "text/plain": [
       "[1, 2, 3, 4, 5, 'iNeuron']"
      ]
     },
     "execution_count": 90,
     "metadata": {},
     "output_type": "execute_result"
    }
   ],
   "source": [
    "l.append(\"iNeuron\")\n",
    "l"
   ]
  },
  {
   "cell_type": "markdown",
   "id": "0639110f",
   "metadata": {},
   "source": [
    "### 4.2 insert() Method\n",
    "1. To insert a new list item, without replacing any of the existing values, we can use the insert() method.\n",
    "2. The insert() method inserts an item at the specified index.\n",
    "3. This increases list length"
   ]
  },
  {
   "cell_type": "code",
   "execution_count": 91,
   "id": "cd5e0b8c",
   "metadata": {},
   "outputs": [
    {
     "data": {
      "text/plain": [
       "[1, 2, 3, 'Krish', 4, 5, 'iNeuron']"
      ]
     },
     "execution_count": 91,
     "metadata": {},
     "output_type": "execute_result"
    }
   ],
   "source": [
    "l.insert(3,\"Krish\")\n",
    "l"
   ]
  },
  {
   "cell_type": "markdown",
   "id": "b7e4fec4",
   "metadata": {},
   "source": [
    "### 4.3 extend() method\n",
    "1. Any iterables can be added to list using extend() method\n",
    "2. iterables: list, tuple, set, dictionary, etc"
   ]
  },
  {
   "cell_type": "code",
   "execution_count": 92,
   "id": "4b3d3ccd",
   "metadata": {},
   "outputs": [
    {
     "data": {
      "text/plain": [
       "[1, 2, 3, 'Krish', 4, 5, 'iNeuron', 'developer', 'job', 'shubham', 'name']"
      ]
     },
     "execution_count": 92,
     "metadata": {},
     "output_type": "execute_result"
    }
   ],
   "source": [
    "l.extend({\"name\",\"shubham\", \"job\",\"developer\"})\n",
    "l"
   ]
  },
  {
   "cell_type": "markdown",
   "id": "c2ca68cf",
   "metadata": {},
   "source": [
    "## 5.0 Remove elements from list"
   ]
  },
  {
   "cell_type": "code",
   "execution_count": 97,
   "id": "3efdcf8f",
   "metadata": {},
   "outputs": [],
   "source": [
    "l = [1,2,3,4,5,6,7,8,9,10]"
   ]
  },
  {
   "cell_type": "markdown",
   "id": "ea65a0eb",
   "metadata": {},
   "source": [
    "### 5.1 remove() method\n",
    "1. It removes a specified element"
   ]
  },
  {
   "cell_type": "code",
   "execution_count": 98,
   "id": "1c98d50b",
   "metadata": {},
   "outputs": [
    {
     "data": {
      "text/plain": [
       "[1, 2, 3, 4, 5, 6, 7, 8, 9]"
      ]
     },
     "execution_count": 98,
     "metadata": {},
     "output_type": "execute_result"
    }
   ],
   "source": [
    "l.remove(10)\n",
    "l"
   ]
  },
  {
   "cell_type": "markdown",
   "id": "152daa04",
   "metadata": {},
   "source": [
    "### 5.2 pop()\n",
    "1. It removes item at specified index\n",
    "2. If no index specified pop() removes last element."
   ]
  },
  {
   "cell_type": "code",
   "execution_count": 100,
   "id": "bbedd40d",
   "metadata": {},
   "outputs": [
    {
     "data": {
      "text/plain": [
       "[2, 3, 4, 5, 6, 7, 8, 9]"
      ]
     },
     "execution_count": 100,
     "metadata": {},
     "output_type": "execute_result"
    }
   ],
   "source": [
    "l.pop(0)\n",
    "l"
   ]
  },
  {
   "cell_type": "code",
   "execution_count": 101,
   "id": "588dc81d",
   "metadata": {},
   "outputs": [
    {
     "data": {
      "text/plain": [
       "[2, 3, 4, 5, 6, 7, 8]"
      ]
     },
     "execution_count": 101,
     "metadata": {},
     "output_type": "execute_result"
    }
   ],
   "source": [
    "l.pop()\n",
    "l"
   ]
  },
  {
   "cell_type": "markdown",
   "id": "ccf3e85f",
   "metadata": {},
   "source": [
    "### 5.3 del keyword\n",
    "1. It also removes element at specified index"
   ]
  },
  {
   "cell_type": "code",
   "execution_count": 102,
   "id": "e5482205",
   "metadata": {},
   "outputs": [
    {
     "data": {
      "text/plain": [
       "[2, 3, 4, 6, 7, 8]"
      ]
     },
     "execution_count": 102,
     "metadata": {},
     "output_type": "execute_result"
    }
   ],
   "source": [
    "# at index 3 element value 5 will be removed\n",
    "del l[3]\n",
    "l"
   ]
  },
  {
   "cell_type": "markdown",
   "id": "9b8985aa",
   "metadata": {},
   "source": [
    "### 5.4 clear() method\n",
    "1. It is used to empty thr list."
   ]
  },
  {
   "cell_type": "code",
   "execution_count": 104,
   "id": "a7089efc",
   "metadata": {},
   "outputs": [
    {
     "data": {
      "text/plain": [
       "[]"
      ]
     },
     "execution_count": 104,
     "metadata": {},
     "output_type": "execute_result"
    }
   ],
   "source": [
    "l.clear()\n",
    "l"
   ]
  },
  {
   "cell_type": "markdown",
   "id": "acd78779",
   "metadata": {},
   "source": [
    "## 6.0 Loop through lists"
   ]
  },
  {
   "cell_type": "code",
   "execution_count": 2,
   "id": "36587d18",
   "metadata": {},
   "outputs": [],
   "source": [
    "l = [\"a\",'b','c', 'd']"
   ]
  },
  {
   "cell_type": "markdown",
   "id": "edf6fd00",
   "metadata": {},
   "source": [
    "### 6.1 Using for loop "
   ]
  },
  {
   "cell_type": "code",
   "execution_count": 3,
   "id": "ed41f8ce",
   "metadata": {},
   "outputs": [
    {
     "name": "stdout",
     "output_type": "stream",
     "text": [
      "a\n",
      "b\n",
      "c\n",
      "d\n"
     ]
    }
   ],
   "source": [
    "# for items without index\n",
    "for char in l:\n",
    "    print(char)"
   ]
  },
  {
   "cell_type": "code",
   "execution_count": 4,
   "id": "fadc08c1",
   "metadata": {},
   "outputs": [
    {
     "name": "stdout",
     "output_type": "stream",
     "text": [
      "a\n",
      "b\n",
      "c\n",
      "d\n"
     ]
    }
   ],
   "source": [
    "# using index\n",
    "for i in range(len(l)):\n",
    "    print(l[i])"
   ]
  },
  {
   "cell_type": "markdown",
   "id": "2c28717f",
   "metadata": {},
   "source": [
    "### 6.2 Using while loop"
   ]
  },
  {
   "cell_type": "code",
   "execution_count": 5,
   "id": "91ab49ea",
   "metadata": {},
   "outputs": [
    {
     "name": "stdout",
     "output_type": "stream",
     "text": [
      "a\n",
      "b\n",
      "c\n",
      "d\n"
     ]
    }
   ],
   "source": [
    "i=0\n",
    "while i< len(l):\n",
    "    print(l[i])\n",
    "    i+=1"
   ]
  },
  {
   "cell_type": "markdown",
   "id": "5de6d3f4",
   "metadata": {},
   "source": [
    "## 7.0 list comprehension \n",
    "1. list comprehension are one line of code inside [ ] brackets"
   ]
  },
  {
   "cell_type": "markdown",
   "id": "19056f9c",
   "metadata": {},
   "source": [
    "### 7.1 Syntax\n",
    "\n",
    "1. [expression for item in iterable if condition == True]\n",
    "2. The expression is the current item in the iteration, but it is also the outcome, which you can manipulate before it ends up like a list item in the new list.\n",
    "3. iterable can be list, tuple, set, etc\n",
    "4. Condition is filter that only accepts items that evaluate to True."
   ]
  },
  {
   "cell_type": "markdown",
   "id": "9f9f4264",
   "metadata": {},
   "source": [
    "### 7.2 Implementation with examples"
   ]
  },
  {
   "cell_type": "code",
   "execution_count": 14,
   "id": "616051e7",
   "metadata": {},
   "outputs": [],
   "source": [
    "colors = [\"red\", \"blue\", \"yellow\", \"brown\"]"
   ]
  },
  {
   "cell_type": "code",
   "execution_count": 15,
   "id": "24ed0b57",
   "metadata": {},
   "outputs": [
    {
     "data": {
      "text/plain": [
       "['yellow', 'brown']"
      ]
     },
     "execution_count": 15,
     "metadata": {},
     "output_type": "execute_result"
    }
   ],
   "source": [
    "# for condition and iterable\n",
    "[x for x in colors if x not in [\"red\", \"blue\"]]"
   ]
  },
  {
   "cell_type": "code",
   "execution_count": 16,
   "id": "1640f7f1",
   "metadata": {},
   "outputs": [
    {
     "data": {
      "text/plain": [
       "[0, 1, 2, 3, 4, 5, 6, 7, 8, 9]"
      ]
     },
     "execution_count": 16,
     "metadata": {},
     "output_type": "execute_result"
    }
   ],
   "source": [
    "# generator function\n",
    "[x for x in range(10)]"
   ]
  },
  {
   "cell_type": "code",
   "execution_count": 17,
   "id": "8756ebb2",
   "metadata": {},
   "outputs": [
    {
     "data": {
      "text/plain": [
       "[0, 1, 2, 3, 4]"
      ]
     },
     "execution_count": 17,
     "metadata": {},
     "output_type": "execute_result"
    }
   ],
   "source": [
    "# generator with condition\n",
    "[x for x in range(8) if x<5]"
   ]
  },
  {
   "cell_type": "code",
   "execution_count": 18,
   "id": "719d466b",
   "metadata": {},
   "outputs": [
    {
     "data": {
      "text/plain": [
       "['RED', 'BLUE', 'YELLOW', 'BROWN']"
      ]
     },
     "execution_count": 18,
     "metadata": {},
     "output_type": "execute_result"
    }
   ],
   "source": [
    "# expressions\n",
    "[x.upper() for x in colors]"
   ]
  },
  {
   "cell_type": "code",
   "execution_count": 19,
   "id": "6030de4b",
   "metadata": {},
   "outputs": [
    {
     "data": {
      "text/plain": [
       "['No color for you', 'blue', 'yellow', 'brown']"
      ]
     },
     "execution_count": 19,
     "metadata": {},
     "output_type": "execute_result"
    }
   ],
   "source": [
    "[x if x!='red' else 'No color for you' for x in colors]"
   ]
  },
  {
   "cell_type": "code",
   "execution_count": 23,
   "id": "19f29a2c",
   "metadata": {},
   "outputs": [
    {
     "data": {
      "text/plain": [
       "['even', 2, 'even', 4, 'even', 6, 'even', 8, 'even', 10]"
      ]
     },
     "execution_count": 23,
     "metadata": {},
     "output_type": "execute_result"
    }
   ],
   "source": [
    "# even no in list\n",
    "l_int = [1,2,3,4,5,6,7,8,9,10]\n",
    "\n",
    "[x if x%2==0 else \"even\" for x in l_int]"
   ]
  },
  {
   "cell_type": "code",
   "execution_count": 25,
   "id": "576aa86b",
   "metadata": {},
   "outputs": [
    {
     "data": {
      "text/plain": [
       "[2, 4, 6, 8, 10]"
      ]
     },
     "execution_count": 25,
     "metadata": {},
     "output_type": "execute_result"
    }
   ],
   "source": [
    "# better way to to even no example\n",
    "[x for x in l_int if x%2==0]"
   ]
  },
  {
   "cell_type": "markdown",
   "id": "0312461b",
   "metadata": {},
   "source": [
    "## 8.0 Sorting list element"
   ]
  },
  {
   "cell_type": "code",
   "execution_count": 42,
   "id": "841c44bf",
   "metadata": {},
   "outputs": [],
   "source": [
    "l_alpha = [\"Red\", \"Blue\", \"Green\",\"Yellow\"]\n",
    "l_num = [1,4,2,5,3,6,8]"
   ]
  },
  {
   "cell_type": "markdown",
   "id": "317e256c",
   "metadata": {},
   "source": [
    "### 8.1 Using sort() method"
   ]
  },
  {
   "cell_type": "code",
   "execution_count": 44,
   "id": "2f01c535",
   "metadata": {},
   "outputs": [
    {
     "data": {
      "text/plain": [
       "['Blue', 'Green', 'Red', 'Yellow']"
      ]
     },
     "execution_count": 44,
     "metadata": {},
     "output_type": "execute_result"
    }
   ],
   "source": [
    "l_alpha.sort()\n",
    "l_alpha"
   ]
  },
  {
   "cell_type": "code",
   "execution_count": 46,
   "id": "2ba4f56d",
   "metadata": {},
   "outputs": [
    {
     "data": {
      "text/plain": [
       "['Yellow', 'Red', 'Green', 'Blue']"
      ]
     },
     "execution_count": 46,
     "metadata": {},
     "output_type": "execute_result"
    }
   ],
   "source": [
    "l_alpha.sort(reverse=True)\n",
    "l_alpha"
   ]
  },
  {
   "cell_type": "code",
   "execution_count": 47,
   "id": "45772398",
   "metadata": {},
   "outputs": [
    {
     "data": {
      "text/plain": [
       "[1, 2, 3, 4, 5, 6, 8]"
      ]
     },
     "execution_count": 47,
     "metadata": {},
     "output_type": "execute_result"
    }
   ],
   "source": [
    "l_num.sort()\n",
    "l_num"
   ]
  },
  {
   "cell_type": "code",
   "execution_count": 49,
   "id": "f413759a",
   "metadata": {},
   "outputs": [
    {
     "data": {
      "text/plain": [
       "[8, 6, 5, 4, 3, 2, 1]"
      ]
     },
     "execution_count": 49,
     "metadata": {},
     "output_type": "execute_result"
    }
   ],
   "source": [
    "l_num.sort(reverse=True)\n",
    "l_num"
   ]
  },
  {
   "cell_type": "markdown",
   "id": "64cb0578",
   "metadata": {},
   "source": [
    "### 8.2 Case insensitive sort"
   ]
  },
  {
   "cell_type": "code",
   "execution_count": 51,
   "id": "0fbd20bc",
   "metadata": {},
   "outputs": [
    {
     "data": {
      "text/plain": [
       "['Blue', 'Yellow', 'green', 'red']"
      ]
     },
     "execution_count": 51,
     "metadata": {},
     "output_type": "execute_result"
    }
   ],
   "source": [
    "# case insensitive sort\n",
    "l_alpha_upper_lower = [\"red\", \"Blue\", \"green\",\"Yellow\"]\n",
    "l_alpha_upper_lower.sort()\n",
    "l_alpha_upper_lower"
   ]
  },
  {
   "cell_type": "code",
   "execution_count": 52,
   "id": "294a7762",
   "metadata": {},
   "outputs": [
    {
     "data": {
      "text/plain": [
       "['Blue', 'green', 'red', 'Yellow']"
      ]
     },
     "execution_count": 52,
     "metadata": {},
     "output_type": "execute_result"
    }
   ],
   "source": [
    "# now to make this sort case insensitive\n",
    "l_alpha_upper_lower.sort(key=str.lower)\n",
    "l_alpha_upper_lower"
   ]
  },
  {
   "cell_type": "markdown",
   "id": "1a68e5d6",
   "metadata": {},
   "source": [
    "### 8.3 Custom sort functions"
   ]
  },
  {
   "cell_type": "code",
   "execution_count": 64,
   "id": "443842c0",
   "metadata": {},
   "outputs": [],
   "source": [
    "l = [('apple', 4), ('banana', 2), ('orange', 1), ('mango',3)]"
   ]
  },
  {
   "cell_type": "code",
   "execution_count": 65,
   "id": "795a334a",
   "metadata": {},
   "outputs": [
    {
     "data": {
      "text/plain": [
       "[('orange', 1), ('banana', 2), ('mango', 3), ('apple', 4)]"
      ]
     },
     "execution_count": 65,
     "metadata": {},
     "output_type": "execute_result"
    }
   ],
   "source": [
    "# sorting based on numbers\n",
    "sorted(l, key=lambda x:x[1])"
   ]
  },
  {
   "cell_type": "code",
   "execution_count": 67,
   "id": "98051067",
   "metadata": {},
   "outputs": [
    {
     "data": {
      "text/plain": [
       "[('apple', 4), ('banana', 2), ('mango', 3), ('orange', 1)]"
      ]
     },
     "execution_count": 67,
     "metadata": {},
     "output_type": "execute_result"
    }
   ],
   "source": [
    "#sorting based on string\n",
    "sorted(l, key=lambda x:x[0])"
   ]
  },
  {
   "cell_type": "markdown",
   "id": "e64d963d",
   "metadata": {},
   "source": [
    "## 9.0 Creating copy of list\n",
    "\n",
    "Note: You cannot copy a list simply by typing list2 = list1, because: list2 will only be a reference to list1, and changes made in list1 will automatically also be made in list2. \n",
    "\n",
    "**For example see below code**"
   ]
  },
  {
   "cell_type": "code",
   "execution_count": 71,
   "id": "0adb6e91",
   "metadata": {},
   "outputs": [
    {
     "data": {
      "text/plain": [
       "[1, 2, 3, 4, 5]"
      ]
     },
     "execution_count": 71,
     "metadata": {},
     "output_type": "execute_result"
    }
   ],
   "source": [
    "l1 = [1,2,3,4,5]\n",
    "l2 = l1\n",
    "l2"
   ]
  },
  {
   "cell_type": "code",
   "execution_count": 72,
   "id": "1ef24e16",
   "metadata": {},
   "outputs": [
    {
     "data": {
      "text/plain": [
       "[1, 2, 3, 'shubham', 4, 5]"
      ]
     },
     "execution_count": 72,
     "metadata": {},
     "output_type": "execute_result"
    }
   ],
   "source": [
    "l1.insert(3, \"shubham\")\n",
    "l2"
   ]
  },
  {
   "cell_type": "markdown",
   "id": "f76446c7",
   "metadata": {},
   "source": [
    "### 9.1 Using copy() method"
   ]
  },
  {
   "cell_type": "code",
   "execution_count": 75,
   "id": "9b77a947",
   "metadata": {},
   "outputs": [
    {
     "data": {
      "text/plain": [
       "[1, 2, 3, 4, 5]"
      ]
     },
     "execution_count": 75,
     "metadata": {},
     "output_type": "execute_result"
    }
   ],
   "source": [
    "l = [1,2,3,4,5]\n",
    "l_copy = l.copy()\n",
    "\n",
    "# inserting element in list l which will not affect copy list l_copy\n",
    "l.insert(3,\"shubham\")\n",
    "l_copy"
   ]
  },
  {
   "cell_type": "markdown",
   "id": "fac78000",
   "metadata": {},
   "source": [
    "### 9.2 Using list() method"
   ]
  },
  {
   "cell_type": "code",
   "execution_count": 76,
   "id": "d53236fa",
   "metadata": {},
   "outputs": [
    {
     "data": {
      "text/plain": [
       "[1, 2, 3, 4, 5]"
      ]
     },
     "execution_count": 76,
     "metadata": {},
     "output_type": "execute_result"
    }
   ],
   "source": [
    "l1 = [1,2,3,4,5]\n",
    "l_copy1 = list(l1)\n",
    "\n",
    "# inserting element in list l1 which will not affect copy list l_copy1\n",
    "l1.insert(3,\"shubham\")\n",
    "l_copy1"
   ]
  },
  {
   "cell_type": "markdown",
   "id": "8df492a7",
   "metadata": {},
   "source": [
    "## 10.0 Joining lists"
   ]
  },
  {
   "cell_type": "markdown",
   "id": "e59093d1",
   "metadata": {},
   "source": [
    "### 10.1 Using `'+'` operator"
   ]
  },
  {
   "cell_type": "code",
   "execution_count": 77,
   "id": "c20b6972",
   "metadata": {},
   "outputs": [
    {
     "data": {
      "text/plain": [
       "['shubham', 'verma']"
      ]
     },
     "execution_count": 77,
     "metadata": {},
     "output_type": "execute_result"
    }
   ],
   "source": [
    "l1 = [\"shubham\"]\n",
    "l2 = [\"verma\"]\n",
    "l3 = l1 + l2\n",
    "l3"
   ]
  },
  {
   "cell_type": "markdown",
   "id": "6c1c48e3",
   "metadata": {},
   "source": [
    "**Note: creating duplicate items inside a list**"
   ]
  },
  {
   "cell_type": "code",
   "execution_count": 79,
   "id": "ad1136b2",
   "metadata": {},
   "outputs": [
    {
     "data": {
      "text/plain": [
       "['verma', 'verma', 'verma', 'verma']"
      ]
     },
     "execution_count": 79,
     "metadata": {},
     "output_type": "execute_result"
    }
   ],
   "source": [
    "l3 = l2*4\n",
    "l3"
   ]
  },
  {
   "cell_type": "markdown",
   "id": "db03d06f",
   "metadata": {},
   "source": [
    "### 10.2 Using append() method"
   ]
  },
  {
   "cell_type": "code",
   "execution_count": 86,
   "id": "5534cb83",
   "metadata": {},
   "outputs": [
    {
     "data": {
      "text/plain": [
       "[1, 2, 3, 2, 3, 4]"
      ]
     },
     "execution_count": 86,
     "metadata": {},
     "output_type": "execute_result"
    }
   ],
   "source": [
    "l1 = [1,2,3]\n",
    "l2 = [2,3,4]\n",
    "for x in l2:\n",
    "    l1.append(x)\n",
    "l1"
   ]
  },
  {
   "cell_type": "markdown",
   "id": "b7950958",
   "metadata": {},
   "source": [
    "### 10.3 Using extend() method"
   ]
  },
  {
   "cell_type": "code",
   "execution_count": 90,
   "id": "3d7796cb",
   "metadata": {},
   "outputs": [
    {
     "data": {
      "text/plain": [
       "['shubham', 'verma']"
      ]
     },
     "execution_count": 90,
     "metadata": {},
     "output_type": "execute_result"
    }
   ],
   "source": [
    "l1 = [\"shubham\"]\n",
    "l2 = [\"verma\"]\n",
    "l1.extend(l2)\n",
    "l1"
   ]
  },
  {
   "cell_type": "markdown",
   "id": "5c43b9ba",
   "metadata": {},
   "source": [
    "## 11.0 List methods\n",
    "\n",
    "1. append()\t   Adds an element at the end of the list\n",
    "2. clear()\t   Removes all the elements from the list\n",
    "3. copy()\t   Returns a copy of the list\n",
    "4. count()\t   Returns the number of elements with the specified value\n",
    "5. extend()\t   Add the elements of a list (or any iterable), to the end of the current list\n",
    "6. index()\t   Returns the index of the first element with the specified value\n",
    "7. insert()\t   Adds an element at the specified position\n",
    "8. pop()\t   Removes the element at the specified position\n",
    "9. remove()\t   Removes the item with the specified value\n",
    "10. reverse()  Reverses the order of the list\n",
    "11. sort()\t   Sorts the list\n",
    "\n",
    "**All above methods except reverse and count are covered above**"
   ]
  },
  {
   "cell_type": "markdown",
   "id": "36ffe719",
   "metadata": {},
   "source": [
    "### 11.1 reverse() method"
   ]
  },
  {
   "cell_type": "code",
   "execution_count": 92,
   "id": "6f7c41a3",
   "metadata": {},
   "outputs": [
    {
     "data": {
      "text/plain": [
       "[1, 2, 2, 3, 4, 5, 8, 9]"
      ]
     },
     "execution_count": 92,
     "metadata": {},
     "output_type": "execute_result"
    }
   ],
   "source": [
    "l = [9,8,5,4,3,2,2,1]\n",
    "l.reverse()\n",
    "l"
   ]
  },
  {
   "cell_type": "markdown",
   "id": "0342c921",
   "metadata": {},
   "source": [
    "### 11.2 count() method"
   ]
  },
  {
   "cell_type": "code",
   "execution_count": 93,
   "id": "adf30a46",
   "metadata": {},
   "outputs": [
    {
     "data": {
      "text/plain": [
       "3"
      ]
     },
     "execution_count": 93,
     "metadata": {},
     "output_type": "execute_result"
    }
   ],
   "source": [
    "l = [1,1,1,2,2,2,3,3,3,4,4,4,4,5,5,5,5]\n",
    "l.count(1)"
   ]
  },
  {
   "cell_type": "code",
   "execution_count": 96,
   "id": "c9cee351",
   "metadata": {},
   "outputs": [
    {
     "name": "stdout",
     "output_type": "stream",
     "text": [
      "Number: 1 and its count 3\n",
      "Number: 2 and its count 3\n",
      "Number: 3 and its count 3\n",
      "Number: 4 and its count 4\n",
      "Number: 5 and its count 4\n"
     ]
    }
   ],
   "source": [
    "# counting all elements\n",
    "for i in set(l):\n",
    "    print(\"Number: {} and its count {}\".format(i,l.count(i)))"
   ]
  }
 ],
 "metadata": {
  "kernelspec": {
   "display_name": "Python 3 (ipykernel)",
   "language": "python",
   "name": "python3"
  },
  "language_info": {
   "codemirror_mode": {
    "name": "ipython",
    "version": 3
   },
   "file_extension": ".py",
   "mimetype": "text/x-python",
   "name": "python",
   "nbconvert_exporter": "python",
   "pygments_lexer": "ipython3",
   "version": "3.9.12"
  }
 },
 "nbformat": 4,
 "nbformat_minor": 5
}
