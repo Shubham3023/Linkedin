{
 "cells": [
  {
   "cell_type": "code",
   "execution_count": null,
   "id": "c8bece2b",
   "metadata": {},
   "outputs": [],
   "source": []
  },
  {
   "cell_type": "markdown",
   "id": "431ca1ab",
   "metadata": {},
   "source": [
    "### 1. Write a Python program to calculate the length of a string."
   ]
  },
  {
   "cell_type": "code",
   "execution_count": 1,
   "id": "3e285683",
   "metadata": {},
   "outputs": [
    {
     "data": {
      "text/plain": [
       "7"
      ]
     },
     "execution_count": 1,
     "metadata": {},
     "output_type": "execute_result"
    }
   ],
   "source": [
    "s= 'iNeuron'\n",
    "\n",
    "def str_length(in_str):\n",
    "    len=0\n",
    "    for i in in_str:\n",
    "        len+=1\n",
    "    return len\n",
    "\n",
    "str_length(s)"
   ]
  },
  {
   "cell_type": "markdown",
   "id": "1a2772ea",
   "metadata": {},
   "source": [
    "### 2. Write a Python program to count the number of characters (character frequency) in a string."
   ]
  },
  {
   "cell_type": "code",
   "execution_count": 9,
   "id": "91fabdf8",
   "metadata": {},
   "outputs": [
    {
     "name": "stdout",
     "output_type": "stream",
     "text": [
      "N : 2\n",
      "n : 1\n",
      "u : 1\n",
      "r : 1\n",
      "i : 2\n",
      "e : 1\n",
      "0 : 1\n",
      "o : 1\n"
     ]
    }
   ],
   "source": [
    "s = 'iiNNeuro0n'\n",
    "\n",
    "def str_element_freq(in_str):\n",
    "    l = [i for i in in_str]\n",
    "    for i in set(l):\n",
    "        print(i,\":\", l.count(i))\n",
    "\n",
    "str_element_freq(s)"
   ]
  },
  {
   "cell_type": "markdown",
   "id": "ea5abccf",
   "metadata": {},
   "source": [
    "### 3. Write a Python program to get a string made of the first 2 and the last 2 chars from a given a string. If the string length is less than 2, return instead of the empty string."
   ]
  },
  {
   "cell_type": "code",
   "execution_count": 3,
   "id": "fa6b5241",
   "metadata": {},
   "outputs": [
    {
     "data": {
      "text/plain": [
       "'saer'"
      ]
     },
     "execution_count": 3,
     "metadata": {},
     "output_type": "execute_result"
    }
   ],
   "source": [
    "s='sameer'\n",
    "s1='ia'\n",
    "\n",
    "def custom_str_return(in_str):\n",
    "    if len(in_str) >2:\n",
    "        return in_str[:2]+in_str[-2:]\n",
    "    else:\n",
    "        return \" \"\n",
    "    \n",
    "custom_str_return(s)"
   ]
  },
  {
   "cell_type": "code",
   "execution_count": 4,
   "id": "3c6da2a3",
   "metadata": {},
   "outputs": [
    {
     "data": {
      "text/plain": [
       "' '"
      ]
     },
     "execution_count": 4,
     "metadata": {},
     "output_type": "execute_result"
    }
   ],
   "source": [
    "custom_str_return(s1)"
   ]
  },
  {
   "cell_type": "markdown",
   "id": "32b3af32",
   "metadata": {},
   "source": [
    "### 4. Write a Python program to get a string from a given string where all occurrences of its first char have been changed to dollar sign, except the first char itself."
   ]
  },
  {
   "cell_type": "code",
   "execution_count": 5,
   "id": "0a67909e",
   "metadata": {},
   "outputs": [
    {
     "data": {
      "text/plain": [
       "'submi$$ion'"
      ]
     },
     "execution_count": 5,
     "metadata": {},
     "output_type": "execute_result"
    }
   ],
   "source": [
    "s = \"submission\"\n",
    "\n",
    "def custom_return_dollar(in_str):\n",
    "    rep_char=in_str[0]\n",
    "    str_rep=in_str.replace(rep_char,\"$\")\n",
    "    return rep_char+str_rep[1:]\n",
    "\n",
    "custom_return_dollar(s)"
   ]
  },
  {
   "cell_type": "markdown",
   "id": "5ecdee4f",
   "metadata": {},
   "source": [
    "### 5. Write a Python program to get a string from a given string where all occurrences of its first char have been changed to user provided special character, except the first char itself."
   ]
  },
  {
   "cell_type": "code",
   "execution_count": 6,
   "id": "cc798d8a",
   "metadata": {},
   "outputs": [
    {
     "data": {
      "text/plain": [
       "'submi**ion'"
      ]
     },
     "execution_count": 6,
     "metadata": {},
     "output_type": "execute_result"
    }
   ],
   "source": [
    "s = \"submission\"\n",
    "\n",
    "def custom_return_dollar(in_str, user_char):\n",
    "    rep_char=in_str[0]\n",
    "    str_rep=in_str.replace(rep_char,user_char)\n",
    "    return rep_char+str_rep[1:]\n",
    "\n",
    "custom_return_dollar(s, '*')"
   ]
  },
  {
   "cell_type": "markdown",
   "id": "c24d08a1",
   "metadata": {},
   "source": [
    "### 6. Write a Python program to get a single string from two given strings, separated by a space and swap the first two characters of each string."
   ]
  },
  {
   "cell_type": "code",
   "execution_count": 7,
   "id": "8903300f",
   "metadata": {},
   "outputs": [
    {
     "data": {
      "text/plain": [
       "'korat vilhi'"
      ]
     },
     "execution_count": 7,
     "metadata": {},
     "output_type": "execute_result"
    }
   ],
   "source": [
    "s1= 'virat'\n",
    "s2= 'kolhi'\n",
    "\n",
    "def custom_string_join(in_str1, in_str2):\n",
    "    return in_str2[:2]+in_str1[2:] +\" \"+ in_str1[:2]+in_str2[2:]\n",
    "\n",
    "custom_string_join(s1,s2)"
   ]
  },
  {
   "cell_type": "markdown",
   "id": "acafc4e2",
   "metadata": {},
   "source": [
    "### 7. Write a Python program to add 'ing' at the end of a given string (length should be at least 3). If the given string already ends with 'ing' then add 'ly' instead. If the string length of the given string is less than 3, leave it unchanged. "
   ]
  },
  {
   "cell_type": "code",
   "execution_count": 5,
   "id": "9304e73d",
   "metadata": {},
   "outputs": [
    {
     "data": {
      "text/plain": [
       "'walkly'"
      ]
     },
     "execution_count": 5,
     "metadata": {},
     "output_type": "execute_result"
    }
   ],
   "source": [
    "s='walking'\n",
    "s1= 'cycle'\n",
    "s2='am'\n",
    "\n",
    "def custom_suffix_string(in_str):\n",
    "    if len(in_str)>2:\n",
    "        if in_str[-3:]=='ing':\n",
    "            return in_str[:len(in_str)-3]+'ly'\n",
    "        else:\n",
    "            return in_str[:len(in_str)-1]+'ing'\n",
    "    else: \n",
    "        return \"Length of input string should be greater than 2 characters\"\n",
    "    \n",
    "custom_suffix_string(s)"
   ]
  },
  {
   "cell_type": "code",
   "execution_count": 6,
   "id": "85a05db7",
   "metadata": {},
   "outputs": [
    {
     "data": {
      "text/plain": [
       "'cycling'"
      ]
     },
     "execution_count": 6,
     "metadata": {},
     "output_type": "execute_result"
    }
   ],
   "source": [
    "custom_suffix_string(s1)"
   ]
  },
  {
   "cell_type": "code",
   "execution_count": 7,
   "id": "7adc7809",
   "metadata": {},
   "outputs": [
    {
     "data": {
      "text/plain": [
       "'Length of input string should be greater than 2 characters'"
      ]
     },
     "execution_count": 7,
     "metadata": {},
     "output_type": "execute_result"
    }
   ],
   "source": [
    "custom_suffix_string(s2)"
   ]
  },
  {
   "cell_type": "markdown",
   "id": "745186bc",
   "metadata": {},
   "source": [
    "### 8. Write a Python program to find the first appearance of the substring 'not' and 'poor' from a given string, if 'not' follows the 'poor', replace the whole 'not'...'poor' substring with 'good'. Return the resulting string."
   ]
  },
  {
   "cell_type": "code",
   "execution_count": 16,
   "id": "8f8d5b19",
   "metadata": {},
   "outputs": [
    {
     "data": {
      "text/plain": [
       "'The lyrics is good!'"
      ]
     },
     "execution_count": 16,
     "metadata": {},
     "output_type": "execute_result"
    }
   ],
   "source": [
    "s = 'The lyrics is not that poor!'\n",
    "s1 = 'The lyrics is poor!'\n",
    "\n",
    "def custom_string_replace1(in_str):\n",
    "    loc_not= in_str.find('not')\n",
    "    loc_poor= in_str.find('poor')\n",
    "    if loc_poor > loc_not and loc_not>0 and loc_poor>0:\n",
    "        in_str=in_str.replace(in_str[loc_not:(loc_poor+4)], 'good')\n",
    "        return in_str\n",
    "    else:\n",
    "        return in_str\n",
    "\n",
    "        \n",
    "custom_string_replace1(s)"
   ]
  },
  {
   "cell_type": "code",
   "execution_count": 17,
   "id": "1524a19d",
   "metadata": {},
   "outputs": [
    {
     "data": {
      "text/plain": [
       "'The lyrics is poor!'"
      ]
     },
     "execution_count": 17,
     "metadata": {},
     "output_type": "execute_result"
    }
   ],
   "source": [
    "custom_string_replace1(s1)"
   ]
  },
  {
   "cell_type": "markdown",
   "id": "fd87432a",
   "metadata": {},
   "source": [
    "### 9. Write a Python program to remove the nth index character from a nonempty string."
   ]
  },
  {
   "cell_type": "code",
   "execution_count": 21,
   "id": "abf1995d",
   "metadata": {},
   "outputs": [
    {
     "data": {
      "text/plain": [
       "'Saeer'"
      ]
     },
     "execution_count": 21,
     "metadata": {},
     "output_type": "execute_result"
    }
   ],
   "source": [
    "s = 'Sameer'\n",
    "\n",
    "def nth_index_remover(in_str, position):\n",
    "    return in_str[:position]+in_str[position+1:]\n",
    "\n",
    "nth_index_remover(s,2)"
   ]
  },
  {
   "cell_type": "markdown",
   "id": "d8a85d24",
   "metadata": {},
   "source": [
    "### 10. Write a Python program to change a given string to a new string where the first and last chars have been exchanged."
   ]
  },
  {
   "cell_type": "code",
   "execution_count": 24,
   "id": "6f35da2c",
   "metadata": {},
   "outputs": [
    {
     "data": {
      "text/plain": [
       "'iNeuron'"
      ]
     },
     "execution_count": 24,
     "metadata": {},
     "output_type": "execute_result"
    }
   ],
   "source": [
    "s = \"nNeuroi\"\n",
    "\n",
    "def custom_replace_string2(in_str):\n",
    "    return in_str[-1:]+in_str[1:len(in_str)-1]+in_str[0]\n",
    "\n",
    "custom_replace_string2(s)"
   ]
  },
  {
   "cell_type": "markdown",
   "id": "491c9640",
   "metadata": {},
   "source": [
    "### 11. Write a Python program to remove the characters which have odd index values of a given string. "
   ]
  },
  {
   "cell_type": "code",
   "execution_count": 31,
   "id": "7df5c787",
   "metadata": {},
   "outputs": [
    {
     "data": {
      "text/plain": [
       "'02468'"
      ]
     },
     "execution_count": 31,
     "metadata": {},
     "output_type": "execute_result"
    }
   ],
   "source": [
    "s = '0123456789'\n",
    "\n",
    "def odd_index_remover(in_str):\n",
    "    return in_str[::2]\n",
    "\n",
    "odd_index_remover(s)"
   ]
  },
  {
   "cell_type": "markdown",
   "id": "2cd76951",
   "metadata": {},
   "source": [
    "### 12. Write a Python program to count the occurrences of each word in a given sentence. "
   ]
  },
  {
   "cell_type": "code",
   "execution_count": 34,
   "id": "5c33cba5",
   "metadata": {},
   "outputs": [
    {
     "name": "stdout",
     "output_type": "stream",
     "text": [
      "Shubham : 1\n",
      "My : 2\n",
      "name : 2\n",
      "is : 2\n",
      "Verma : 1\n"
     ]
    }
   ],
   "source": [
    "s= 'My My name name is is Shubham Verma'\n",
    "\n",
    "def word_occurance_counter(in_str):\n",
    "    l = s.split(\" \")\n",
    "    for i in set(l):\n",
    "        print(i,\":\", l.count(i))\n",
    "        \n",
    "word_occurance_counter(s)"
   ]
  },
  {
   "cell_type": "markdown",
   "id": "85cc7332",
   "metadata": {},
   "source": [
    "### 13. Write a Python script that takes input from the user and displays that input back in upper and lower cases."
   ]
  },
  {
   "cell_type": "code",
   "execution_count": 35,
   "id": "a8ef94cd",
   "metadata": {},
   "outputs": [
    {
     "data": {
      "text/plain": [
       "'Lower case: ineuron and Upper case: INEURON'"
      ]
     },
     "execution_count": 35,
     "metadata": {},
     "output_type": "execute_result"
    }
   ],
   "source": [
    "s = 'iNeuron'\n",
    "\n",
    "def custom_return_string(in_str):\n",
    "    return \"Lower case: {} and Upper case: {}\".format(in_str.lower(), in_str.upper())\n",
    "\n",
    "custom_return_string(s)"
   ]
  },
  {
   "cell_type": "markdown",
   "id": "ef22b35f",
   "metadata": {},
   "source": [
    "### 14. Write a Python function to create the HTML string with tags around the word(s)."
   ]
  },
  {
   "cell_type": "code",
   "execution_count": 39,
   "id": "159d87d4",
   "metadata": {},
   "outputs": [
    {
     "name": "stdout",
     "output_type": "stream",
     "text": [
      "<h1>Full Stack Data Science</h1>\n"
     ]
    }
   ],
   "source": [
    "def html_tag_string(in_str, tag):\n",
    "    print(\"<{}>{}</{}>\".format(tag, in_str, tag))\n",
    "    \n",
    "html_tag_string(\"Full Stack Data Science\", \"h1\")"
   ]
  },
  {
   "cell_type": "markdown",
   "id": "f36aaf4d",
   "metadata": {},
   "source": [
    "### 15.Write a Python function to get a string made of 4 copies of the last two characters of a specified string (length must be at least 2)."
   ]
  },
  {
   "cell_type": "code",
   "execution_count": 41,
   "id": "1cb2cc39",
   "metadata": {},
   "outputs": [
    {
     "data": {
      "text/plain": [
       "'onononon'"
      ]
     },
     "execution_count": 41,
     "metadata": {},
     "output_type": "execute_result"
    }
   ],
   "source": [
    "s = \"python\"\n",
    "def last_two_char_copy(in_str, no_of_copies):\n",
    "    if len(in_str) >1:\n",
    "        return in_str[-2:]*no_of_copies\n",
    "    else:\n",
    "        return \"Lenth of input string be minimum 2 characters\"\n",
    "\n",
    "last_two_char_copy(s,4)"
   ]
  },
  {
   "cell_type": "markdown",
   "id": "62537766",
   "metadata": {},
   "source": [
    "### 16. Write a Python function to get a string made of its first three characters repeated twice of a specified string. If the length of the string is less than 3 then return the original string. "
   ]
  },
  {
   "cell_type": "code",
   "execution_count": 43,
   "id": "c2232be3",
   "metadata": {},
   "outputs": [
    {
     "data": {
      "text/plain": [
       "'pytpyt'"
      ]
     },
     "execution_count": 43,
     "metadata": {},
     "output_type": "execute_result"
    }
   ],
   "source": [
    "def first_three_char_string(in_str, no_of_copies):\n",
    "    if len(in_str) >=3:\n",
    "        return in_str[:3]*no_of_copies\n",
    "    else:\n",
    "        return in_str\n",
    "    \n",
    "first_three_char_string(\"python\", 2)"
   ]
  },
  {
   "cell_type": "code",
   "execution_count": 44,
   "id": "0106aaa8",
   "metadata": {},
   "outputs": [
    {
     "data": {
      "text/plain": [
       "'py'"
      ]
     },
     "execution_count": 44,
     "metadata": {},
     "output_type": "execute_result"
    }
   ],
   "source": [
    "first_three_char_string(\"py\", 2)"
   ]
  },
  {
   "cell_type": "code",
   "execution_count": null,
   "id": "189cfa69",
   "metadata": {},
   "outputs": [],
   "source": []
  },
  {
   "cell_type": "code",
   "execution_count": null,
   "id": "b6902c29",
   "metadata": {},
   "outputs": [],
   "source": []
  },
  {
   "cell_type": "code",
   "execution_count": null,
   "id": "fac9ecb0",
   "metadata": {},
   "outputs": [],
   "source": []
  },
  {
   "cell_type": "code",
   "execution_count": null,
   "id": "7b452f00",
   "metadata": {},
   "outputs": [],
   "source": []
  },
  {
   "cell_type": "code",
   "execution_count": null,
   "id": "0af06489",
   "metadata": {},
   "outputs": [],
   "source": []
  },
  {
   "cell_type": "code",
   "execution_count": null,
   "id": "cb753d43",
   "metadata": {},
   "outputs": [],
   "source": []
  },
  {
   "cell_type": "code",
   "execution_count": null,
   "id": "8ec371f4",
   "metadata": {},
   "outputs": [],
   "source": []
  },
  {
   "cell_type": "code",
   "execution_count": null,
   "id": "e977c42a",
   "metadata": {},
   "outputs": [],
   "source": []
  },
  {
   "cell_type": "code",
   "execution_count": null,
   "id": "e2caa045",
   "metadata": {},
   "outputs": [],
   "source": []
  },
  {
   "cell_type": "code",
   "execution_count": null,
   "id": "9c6a9023",
   "metadata": {},
   "outputs": [],
   "source": []
  },
  {
   "cell_type": "code",
   "execution_count": null,
   "id": "d42be86d",
   "metadata": {},
   "outputs": [],
   "source": []
  },
  {
   "cell_type": "code",
   "execution_count": null,
   "id": "f62d2fc7",
   "metadata": {},
   "outputs": [],
   "source": []
  },
  {
   "cell_type": "code",
   "execution_count": null,
   "id": "4a4f9269",
   "metadata": {},
   "outputs": [],
   "source": []
  }
 ],
 "metadata": {
  "kernelspec": {
   "display_name": "Python 3 (ipykernel)",
   "language": "python",
   "name": "python3"
  },
  "language_info": {
   "codemirror_mode": {
    "name": "ipython",
    "version": 3
   },
   "file_extension": ".py",
   "mimetype": "text/x-python",
   "name": "python",
   "nbconvert_exporter": "python",
   "pygments_lexer": "ipython3",
   "version": "3.9.12"
  }
 },
 "nbformat": 4,
 "nbformat_minor": 5
}
