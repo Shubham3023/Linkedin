{
 "cells": [
  {
   "cell_type": "markdown",
   "id": "bc77b925",
   "metadata": {},
   "source": [
    "# Python Strings\n",
    "**Shubham Verma**\n",
    "\n",
    "**Linkedin** https://lnkd.in/gPxctEja\n",
    "\n",
    "**GitHub** https://lnkd.in/gky-wyFJ\n",
    "\n",
    "**Note:** Please follow me on Linkedin and GitHub for Questions on Python Strings."
   ]
  },
  {
   "cell_type": "markdown",
   "id": "c8462f90",
   "metadata": {},
   "source": [
    "# 1.0 Introduction\n",
    "\n",
    "1. Like many other popular programming languages, strings in Python are arrays of bytes representing unicode characters. However, Python does not have a character data type, a single character is simply a string with a length of 1.\n",
    "2. Strings in python are surrounded by either single quotation marks, or double quotation marks.\n",
    "3. Multiline string can be attached to a variable by using three quotes."
   ]
  },
  {
   "cell_type": "markdown",
   "id": "91f7c24a",
   "metadata": {},
   "source": [
    "### 1.1 Assigning a variable to string. "
   ]
  },
  {
   "cell_type": "code",
   "execution_count": 6,
   "id": "c4495258",
   "metadata": {},
   "outputs": [
    {
     "name": "stdout",
     "output_type": "stream",
     "text": [
      "iNeuron <class 'str'>\n"
     ]
    }
   ],
   "source": [
    "s1 = 'iNeuron'\n",
    "\n",
    "print(s1, type(s1))"
   ]
  },
  {
   "cell_type": "markdown",
   "id": "afd91953",
   "metadata": {},
   "source": [
    "### 1.2 Multi-Line String"
   ]
  },
  {
   "cell_type": "code",
   "execution_count": 7,
   "id": "3bd8d1cd",
   "metadata": {},
   "outputs": [
    {
     "name": "stdout",
     "output_type": "stream",
     "text": [
      "\n",
      "     I live in maharashtra,\n",
      "     I am a Mechanical Engineer, \n",
      "     I want to become a data scientist.\n",
      "      <class 'str'>\n"
     ]
    }
   ],
   "source": [
    "s2 = '''\n",
    "     I live in maharashtra,\n",
    "     I am a Mechanical Engineer, \n",
    "     I want to become a data scientist.\n",
    "     '''\n",
    "print(s2, type(s2))"
   ]
  },
  {
   "cell_type": "markdown",
   "id": "cffbef28",
   "metadata": {},
   "source": [
    "### 1.3 Looping through a string"
   ]
  },
  {
   "cell_type": "code",
   "execution_count": 11,
   "id": "dfad271d",
   "metadata": {},
   "outputs": [
    {
     "name": "stdout",
     "output_type": "stream",
     "text": [
      "i  N  e  u  r  o  n  "
     ]
    }
   ],
   "source": [
    "for character in s1:\n",
    "    print(character, end=\"  \")"
   ]
  },
  {
   "cell_type": "markdown",
   "id": "f749be6e",
   "metadata": {},
   "source": [
    "### 1.4 String Length"
   ]
  },
  {
   "cell_type": "code",
   "execution_count": 12,
   "id": "0f6293fe",
   "metadata": {},
   "outputs": [
    {
     "data": {
      "text/plain": [
       "108"
      ]
     },
     "execution_count": 12,
     "metadata": {},
     "output_type": "execute_result"
    }
   ],
   "source": [
    "len(s2)"
   ]
  },
  {
   "cell_type": "markdown",
   "id": "340618bd",
   "metadata": {},
   "source": [
    "### 1.5 in and not keyword\n",
    "1. To check if a certain phrase or character is present in a string, we can use the keyword `in`.\n",
    "2. To check if a certain phrase or character is NOT present in a string, we can use the keyword `not in`."
   ]
  },
  {
   "cell_type": "code",
   "execution_count": 13,
   "id": "2aafd0a5",
   "metadata": {},
   "outputs": [
    {
     "name": "stdout",
     "output_type": "stream",
     "text": [
      "True\n"
     ]
    }
   ],
   "source": [
    "print('Mechanical' in s2 )"
   ]
  },
  {
   "cell_type": "code",
   "execution_count": 19,
   "id": "cc5a8a58",
   "metadata": {},
   "outputs": [
    {
     "name": "stdout",
     "output_type": "stream",
     "text": [
      "True\n"
     ]
    }
   ],
   "source": [
    "print('Civil' not in s2)"
   ]
  },
  {
   "cell_type": "markdown",
   "id": "6ce46c9a",
   "metadata": {},
   "source": [
    "### 1.6 if and if not"
   ]
  },
  {
   "cell_type": "code",
   "execution_count": 16,
   "id": "7f38b400",
   "metadata": {},
   "outputs": [],
   "source": [
    "s2 = '''I live in maharashtra,\n",
    "I am a Mechanical Engineer, \n",
    "I want to become a data scientist.'''"
   ]
  },
  {
   "cell_type": "code",
   "execution_count": 22,
   "id": "b030da90",
   "metadata": {},
   "outputs": [
    {
     "data": {
      "text/plain": [
       "'Yes, Mechanical is present in given string.'"
      ]
     },
     "execution_count": 22,
     "metadata": {},
     "output_type": "execute_result"
    }
   ],
   "source": [
    "def word_checker(in_str, word):\n",
    "    if word in in_str:\n",
    "        return \"Yes, {} is present in given string.\".format(word)\n",
    "    elif word not in in_str:\n",
    "        return \"No, {} is not present in given string.\".format(word)\n",
    "\n",
    "word_checker(s2, 'Mechanical')"
   ]
  },
  {
   "cell_type": "code",
   "execution_count": 23,
   "id": "38336bf9",
   "metadata": {},
   "outputs": [
    {
     "data": {
      "text/plain": [
       "'No, Electrical is not present in given string.'"
      ]
     },
     "execution_count": 23,
     "metadata": {},
     "output_type": "execute_result"
    }
   ],
   "source": [
    "word_checker(s2, 'Electrical')"
   ]
  },
  {
   "cell_type": "markdown",
   "id": "8a739008",
   "metadata": {},
   "source": [
    "# 2.0 String Slicing\n",
    "1. You can return a range of characters by using the slice syntax.\n",
    "2. Specify the start index and the end index, separated by a colon, to return a part of the string.\n",
    "3. The first character has index 0."
   ]
  },
  {
   "cell_type": "code",
   "execution_count": 24,
   "id": "122e7b90",
   "metadata": {},
   "outputs": [
    {
     "data": {
      "text/plain": [
       "'y nam'"
      ]
     },
     "execution_count": 24,
     "metadata": {},
     "output_type": "execute_result"
    }
   ],
   "source": [
    "s3 = \"My name is Sameer\"\n",
    "s3[1:6]"
   ]
  },
  {
   "cell_type": "markdown",
   "id": "ce8aaef1",
   "metadata": {},
   "source": [
    "### 2.1 Slicing from start\n",
    "1. if we leave start index blank, the range will start at the first character."
   ]
  },
  {
   "cell_type": "code",
   "execution_count": 26,
   "id": "47a918ba",
   "metadata": {},
   "outputs": [
    {
     "data": {
      "text/plain": [
       "'My name is Same'"
      ]
     },
     "execution_count": 26,
     "metadata": {},
     "output_type": "execute_result"
    }
   ],
   "source": [
    "s3[:15]"
   ]
  },
  {
   "cell_type": "markdown",
   "id": "d2859a6a",
   "metadata": {},
   "source": [
    "### 2.2 Slicing to end\n",
    "1. If we leave last index blank the range will go to the end."
   ]
  },
  {
   "cell_type": "code",
   "execution_count": 27,
   "id": "a0a9d0b3",
   "metadata": {},
   "outputs": [
    {
     "data": {
      "text/plain": [
       "'y name is Sameer'"
      ]
     },
     "execution_count": 27,
     "metadata": {},
     "output_type": "execute_result"
    }
   ],
   "source": [
    "s3 = \"My name is Sameer\"\n",
    "s3[1:]"
   ]
  },
  {
   "cell_type": "markdown",
   "id": "5aeca50d",
   "metadata": {},
   "source": [
    "### 2.3 Jump\n",
    "1. After start and end index we can also specify jump, by default jump value is one."
   ]
  },
  {
   "cell_type": "code",
   "execution_count": 29,
   "id": "36626c2d",
   "metadata": {},
   "outputs": [
    {
     "data": {
      "text/plain": [
       "'M aei aer'"
      ]
     },
     "execution_count": 29,
     "metadata": {},
     "output_type": "execute_result"
    }
   ],
   "source": [
    "s3[0:17:2]"
   ]
  },
  {
   "cell_type": "markdown",
   "id": "36f31d48",
   "metadata": {},
   "source": [
    "### 2.4 Negative indexing\n",
    "1. similar to list strings can also be negatively indexed."
   ]
  },
  {
   "cell_type": "code",
   "execution_count": 31,
   "id": "c73762ad",
   "metadata": {},
   "outputs": [
    {
     "data": {
      "text/plain": [
       "'123456789'"
      ]
     },
     "execution_count": 31,
     "metadata": {},
     "output_type": "execute_result"
    }
   ],
   "source": [
    "s4= '1234567890'\n",
    "s4[:-1]"
   ]
  },
  {
   "cell_type": "code",
   "execution_count": 32,
   "id": "e4f34cae",
   "metadata": {},
   "outputs": [
    {
     "data": {
      "text/plain": [
       "'0'"
      ]
     },
     "execution_count": 32,
     "metadata": {},
     "output_type": "execute_result"
    }
   ],
   "source": [
    "s4[-1:]"
   ]
  },
  {
   "cell_type": "code",
   "execution_count": 33,
   "id": "9095252e",
   "metadata": {},
   "outputs": [
    {
     "data": {
      "text/plain": [
       "'1234567890'"
      ]
     },
     "execution_count": 33,
     "metadata": {},
     "output_type": "execute_result"
    }
   ],
   "source": [
    "### Note to get whole string using negative index use below mentioned code.\n",
    "s4[:-1]+s4[-1:]"
   ]
  },
  {
   "cell_type": "markdown",
   "id": "00ca97b3",
   "metadata": {},
   "source": [
    "# 3.0 Modifying Strings\n",
    "1. Python has a set of built-in methods that we can use on strings."
   ]
  },
  {
   "cell_type": "markdown",
   "id": "5cc3bc22",
   "metadata": {},
   "source": [
    "### 3.1 Upper case and lower case\n",
    "1. The upper() method returns the string in upper case.\n",
    "2. The lower() method returns the string in lower case."
   ]
  },
  {
   "cell_type": "code",
   "execution_count": 34,
   "id": "02758b38",
   "metadata": {},
   "outputs": [
    {
     "data": {
      "text/plain": [
       "'INEURON'"
      ]
     },
     "execution_count": 34,
     "metadata": {},
     "output_type": "execute_result"
    }
   ],
   "source": [
    "s = 'ineuron'\n",
    "s.upper()"
   ]
  },
  {
   "cell_type": "code",
   "execution_count": 35,
   "id": "7d7a5a00",
   "metadata": {},
   "outputs": [
    {
     "data": {
      "text/plain": [
       "'ineuron'"
      ]
     },
     "execution_count": 35,
     "metadata": {},
     "output_type": "execute_result"
    }
   ],
   "source": [
    "s= 'INEURON'\n",
    "s.lower()"
   ]
  },
  {
   "cell_type": "markdown",
   "id": "ef1a8215",
   "metadata": {},
   "source": [
    "### 3.2 Remove Whitespace\n",
    "1. The strip() method removes any whitespace from the beginning or the end.\n",
    "2. The replace() method can remove space from whole string."
   ]
  },
  {
   "cell_type": "code",
   "execution_count": 36,
   "id": "d4c5c296",
   "metadata": {},
   "outputs": [],
   "source": [
    "s= \"  my name is sameer  \""
   ]
  },
  {
   "cell_type": "code",
   "execution_count": 37,
   "id": "5933c9ee",
   "metadata": {},
   "outputs": [
    {
     "data": {
      "text/plain": [
       "'my name is sameer'"
      ]
     },
     "execution_count": 37,
     "metadata": {},
     "output_type": "execute_result"
    }
   ],
   "source": [
    "s.strip()"
   ]
  },
  {
   "cell_type": "code",
   "execution_count": 41,
   "id": "075c0d80",
   "metadata": {},
   "outputs": [
    {
     "data": {
      "text/plain": [
       "'MynameisKamlesh'"
      ]
     },
     "execution_count": 41,
     "metadata": {},
     "output_type": "execute_result"
    }
   ],
   "source": [
    "s1 = '  My name is Kamlesh  '\n",
    "s1.replace(\" \",\"\")"
   ]
  },
  {
   "cell_type": "markdown",
   "id": "918bce11",
   "metadata": {},
   "source": [
    "### 3.3 Replace String\n",
    "1. The replace() method replaces a string with another string"
   ]
  },
  {
   "cell_type": "code",
   "execution_count": 43,
   "id": "e6a6c43e",
   "metadata": {},
   "outputs": [
    {
     "data": {
      "text/plain": [
       "'My Nrme is Srmeer'"
      ]
     },
     "execution_count": 43,
     "metadata": {},
     "output_type": "execute_result"
    }
   ],
   "source": [
    "s = \"My Name is Sameer\"\n",
    "s.replace('a','r')"
   ]
  },
  {
   "cell_type": "markdown",
   "id": "48144fce",
   "metadata": {},
   "source": [
    "### 3.4 Split String\n",
    "1. The split() method splits the string into substrings if it finds instances of the specified separator. "
   ]
  },
  {
   "cell_type": "code",
   "execution_count": 46,
   "id": "a5694f1c",
   "metadata": {},
   "outputs": [
    {
     "data": {
      "text/plain": [
       "['My', 'Name', 'Is', 'Shubham']"
      ]
     },
     "execution_count": 46,
     "metadata": {},
     "output_type": "execute_result"
    }
   ],
   "source": [
    "s = \"My,Name,Is,Shubham\"\n",
    "p = s.split(\",\")\n",
    "p"
   ]
  },
  {
   "cell_type": "markdown",
   "id": "d979c421",
   "metadata": {},
   "source": [
    "**Note: join method can be used to get the string without seperator after splitting as shown below.**"
   ]
  },
  {
   "cell_type": "code",
   "execution_count": 47,
   "id": "df9524a9",
   "metadata": {},
   "outputs": [
    {
     "data": {
      "text/plain": [
       "'My Name Is Shubham'"
      ]
     },
     "execution_count": 47,
     "metadata": {},
     "output_type": "execute_result"
    }
   ],
   "source": [
    "\" \".join(p)"
   ]
  },
  {
   "cell_type": "markdown",
   "id": "7ec63e14",
   "metadata": {},
   "source": [
    "# 4.0 Concatenate Strings\n",
    "1. We can use + operator to concatenate two strings."
   ]
  },
  {
   "cell_type": "code",
   "execution_count": 49,
   "id": "705769f8",
   "metadata": {},
   "outputs": [
    {
     "data": {
      "text/plain": [
       "'SameerPanchkule'"
      ]
     },
     "execution_count": 49,
     "metadata": {},
     "output_type": "execute_result"
    }
   ],
   "source": [
    "first_name=\"Sameer\"\n",
    "last_name=\"Panchkule\"\n",
    "Name=first_name+last_name\n",
    "Name"
   ]
  },
  {
   "cell_type": "code",
   "execution_count": 50,
   "id": "05113fdb",
   "metadata": {},
   "outputs": [
    {
     "data": {
      "text/plain": [
       "'Sameer Panchkule'"
      ]
     },
     "execution_count": 50,
     "metadata": {},
     "output_type": "execute_result"
    }
   ],
   "source": [
    "Name = first_name +\" \"+last_name\n",
    "Name"
   ]
  },
  {
   "cell_type": "markdown",
   "id": "da421c8f",
   "metadata": {},
   "source": [
    "# 5.0 String Format and f-string"
   ]
  },
  {
   "cell_type": "markdown",
   "id": "6d3e9393",
   "metadata": {},
   "source": [
    "### 5.1 String Format\n",
    "1. The format() method takes unlimited number of arguments, and are placed into the respective placeholders.\n",
    "2. we can use index numbers {0} to be sure the arguments are placed in the correct placeholders"
   ]
  },
  {
   "cell_type": "code",
   "execution_count": 52,
   "id": "6821de3c",
   "metadata": {},
   "outputs": [
    {
     "name": "stdout",
     "output_type": "stream",
     "text": [
      "shubham@gmail.com\n",
      "simran@gmail.com\n",
      "manpreet@gmail.com\n"
     ]
    }
   ],
   "source": [
    "for i in [\"shubham\",\"simran\", \"manpreet\"]:\n",
    "    print(\"{}@gmail.com\".format(i))"
   ]
  },
  {
   "cell_type": "code",
   "execution_count": 55,
   "id": "ecb1373a",
   "metadata": {},
   "outputs": [
    {
     "name": "stdout",
     "output_type": "stream",
     "text": [
      "My name is Samar Amar Fule.\n"
     ]
    }
   ],
   "source": [
    "print(\"My name is {0} {2} {1}.\".format(\"Samar\", \"Fule\", \"Amar\"))"
   ]
  },
  {
   "cell_type": "markdown",
   "id": "d67c3f58",
   "metadata": {},
   "source": [
    "### 5.2 f-string\n",
    "1. To create an f-string, prefix the string with the letter “ f ”. The string itself can be formatted in much the same way that you would with str.format()."
   ]
  },
  {
   "cell_type": "code",
   "execution_count": 56,
   "id": "fec84e50",
   "metadata": {},
   "outputs": [
    {
     "name": "stdout",
     "output_type": "stream",
     "text": [
      "My name is sameer vidyut and I am 33 years old. \n"
     ]
    }
   ],
   "source": [
    "first_name=\"sameer\"\n",
    "last_name=\"vidyut\"\n",
    "age=33\n",
    "print(f\"My name is {first_name} {last_name} and I am {age} years old. \")"
   ]
  },
  {
   "cell_type": "markdown",
   "id": "78786a53",
   "metadata": {},
   "source": [
    "# 6.0 Escape characters \n",
    "1. To insert characters that are illegal in a string, use an escape character.\n",
    "2. An escape character is a backslash \\ followed by the character you want to insert."
   ]
  },
  {
   "cell_type": "markdown",
   "id": "f52b1dd5",
   "metadata": {},
   "source": [
    "1. \\\\' or \\\\\" Single or double quote.\n",
    "2. \\\\\\ Backslash\n",
    "3. \\n new line\n",
    "4. \\t Tab\n",
    "5. \\b Backspace"
   ]
  },
  {
   "cell_type": "code",
   "execution_count": 63,
   "id": "5b832137",
   "metadata": {},
   "outputs": [
    {
     "name": "stdout",
     "output_type": "stream",
     "text": [
      "It's my right\n"
     ]
    }
   ],
   "source": [
    "s='It\\'s my right'\n",
    "print(s)"
   ]
  },
  {
   "cell_type": "code",
   "execution_count": 62,
   "id": "68525c5b",
   "metadata": {},
   "outputs": [
    {
     "name": "stdout",
     "output_type": "stream",
     "text": [
      "01\\09\\1005\n"
     ]
    }
   ],
   "source": [
    "date='01\\\\09\\\\1005'\n",
    "print(date)"
   ]
  },
  {
   "cell_type": "code",
   "execution_count": 65,
   "id": "a9ed1d0e",
   "metadata": {},
   "outputs": [
    {
     "name": "stdout",
     "output_type": "stream",
     "text": [
      "My name is sameer.\n",
      "My age is 34.\n",
      "I live in kathmandu.\n"
     ]
    }
   ],
   "source": [
    "multiline= \"My name is sameer.\\nMy age is 34.\\nI live in kathmandu.\"\n",
    "print(multiline)"
   ]
  },
  {
   "cell_type": "code",
   "execution_count": 67,
   "id": "6297253c",
   "metadata": {},
   "outputs": [
    {
     "name": "stdout",
     "output_type": "stream",
     "text": [
      "Hello\tWorld\t!\n"
     ]
    }
   ],
   "source": [
    "tab = \"Hello\\tWorld\\t!\"\n",
    "print(tab) "
   ]
  },
  {
   "cell_type": "code",
   "execution_count": 68,
   "id": "bfcad413",
   "metadata": {},
   "outputs": [
    {
     "name": "stdout",
     "output_type": "stream",
     "text": [
      "Hello \bWorld \b!\n"
     ]
    }
   ],
   "source": [
    "backspace = \"Hello \\bWorld \\b!\"\n",
    "print(backspace) "
   ]
  },
  {
   "cell_type": "markdown",
   "id": "5e4b696e",
   "metadata": {},
   "source": [
    "# 7.0 String methods"
   ]
  },
  {
   "cell_type": "markdown",
   "id": "c9c2a719",
   "metadata": {},
   "source": [
    "### 7.1 capitalize() \n",
    "1. Converts the first character to upper case."
   ]
  },
  {
   "cell_type": "code",
   "execution_count": 69,
   "id": "981a49c8",
   "metadata": {},
   "outputs": [
    {
     "data": {
      "text/plain": [
       "'My name is sameer'"
      ]
     },
     "execution_count": 69,
     "metadata": {},
     "output_type": "execute_result"
    }
   ],
   "source": [
    "s = \"my name is sameer\"\n",
    "s.capitalize()"
   ]
  },
  {
   "cell_type": "markdown",
   "id": "b8c1e33f",
   "metadata": {},
   "source": [
    "### 7.2 casefold()\n",
    "1. The casefold() method returns a string where all the characters are lower case.\n",
    "\n",
    "2. This method is similar to the lower() method, but the casefold() method is stronger, more aggressive, meaning that it will convert more characters into lower case, and will find more matches when comparing two strings and both are converted using the casefold() method."
   ]
  },
  {
   "cell_type": "code",
   "execution_count": 70,
   "id": "8810836a",
   "metadata": {},
   "outputs": [
    {
     "data": {
      "text/plain": [
       "'my name is sameer'"
      ]
     },
     "execution_count": 70,
     "metadata": {},
     "output_type": "execute_result"
    }
   ],
   "source": [
    "s= \"MY Name IS SAMEER\"\n",
    "s.casefold()"
   ]
  },
  {
   "cell_type": "markdown",
   "id": "6b3b1fc0",
   "metadata": {},
   "source": [
    "### 7.3 center()\n",
    "1. The center() method will center align the string, using a specified character (space is default) as the fill character.\n",
    "2. Syntax: `string.center(length, character)`"
   ]
  },
  {
   "cell_type": "code",
   "execution_count": 72,
   "id": "c4668b6a",
   "metadata": {},
   "outputs": [
    {
     "data": {
      "text/plain": [
       "'      iNeuron       '"
      ]
     },
     "execution_count": 72,
     "metadata": {},
     "output_type": "execute_result"
    }
   ],
   "source": [
    "s = \"iNeuron\"\n",
    "s.center(20)"
   ]
  },
  {
   "cell_type": "markdown",
   "id": "541e5e1d",
   "metadata": {},
   "source": [
    "### 7.4 count()\n",
    "1. Return the number of times the specified value appears in the string.\n",
    "2. Syntax: `string.count(value, start, end)`\n",
    "3. start: Optional. An Integer. The position to start the search. Default is 0.\n",
    "4. end: Optional. An Integer. The position to end the search. Default is the end of the string"
   ]
  },
  {
   "cell_type": "code",
   "execution_count": 1,
   "id": "a04e3a6f",
   "metadata": {},
   "outputs": [
    {
     "data": {
      "text/plain": [
       "3"
      ]
     },
     "execution_count": 1,
     "metadata": {},
     "output_type": "execute_result"
    }
   ],
   "source": [
    "s='aabbcccdh'\n",
    "s.count('c')"
   ]
  },
  {
   "cell_type": "markdown",
   "id": "097bbff2",
   "metadata": {},
   "source": [
    "### 7.5 encode()\n",
    "1. The encode() method encodes the string, using the specified encoding. If no encoding is specified, UTF-8 will be used.\n",
    "2. syntax: `string.encode(encoding=encoding, errors=errors)`"
   ]
  },
  {
   "cell_type": "code",
   "execution_count": 8,
   "id": "0f1361cb",
   "metadata": {},
   "outputs": [
    {
     "name": "stdout",
     "output_type": "stream",
     "text": [
      "b'My name is s&#229;meer'\n"
     ]
    }
   ],
   "source": [
    "s= 'My name is såmeer'\n",
    "enc = s.encode(encoding='ascii', errors='xmlcharrefreplace')\n",
    "print(enc)"
   ]
  },
  {
   "cell_type": "markdown",
   "id": "dd0b0fff",
   "metadata": {},
   "source": [
    "### 7.6 endswith() and startswith()\n",
    "1. Returns true if the string ends with the specified value.\n",
    "2. Returns true if the string starts with the specified value."
   ]
  },
  {
   "cell_type": "code",
   "execution_count": 9,
   "id": "96e71f06",
   "metadata": {},
   "outputs": [
    {
     "data": {
      "text/plain": [
       "True"
      ]
     },
     "execution_count": 9,
     "metadata": {},
     "output_type": "execute_result"
    }
   ],
   "source": [
    "s='Are you going to school?'\n",
    "s.endswith('?')"
   ]
  },
  {
   "cell_type": "code",
   "execution_count": 10,
   "id": "a7c8dfe4",
   "metadata": {},
   "outputs": [
    {
     "data": {
      "text/plain": [
       "True"
      ]
     },
     "execution_count": 10,
     "metadata": {},
     "output_type": "execute_result"
    }
   ],
   "source": [
    "s.startswith('A')"
   ]
  },
  {
   "cell_type": "markdown",
   "id": "19e8c802",
   "metadata": {},
   "source": [
    "### 7.7 expandtabs()\n",
    "1. The expandtabs() method sets the tab size to the specified number of whitespaces.\n",
    "2. syntax: `string.expandtabs(tabsize)`"
   ]
  },
  {
   "cell_type": "code",
   "execution_count": 13,
   "id": "f23df563",
   "metadata": {},
   "outputs": [
    {
     "data": {
      "text/plain": [
       "'My  name  is  R2D2'"
      ]
     },
     "execution_count": 13,
     "metadata": {},
     "output_type": "execute_result"
    }
   ],
   "source": [
    "s=\"My\\tname\\tis\\tR2D2\"\n",
    "s.expandtabs(2)"
   ]
  },
  {
   "cell_type": "markdown",
   "id": "57ba814b",
   "metadata": {},
   "source": [
    "### 7.8 index()\n",
    "1. Searches the string for a specified value and returns the position of where it was found"
   ]
  },
  {
   "cell_type": "code",
   "execution_count": 14,
   "id": "e78c986b",
   "metadata": {},
   "outputs": [
    {
     "data": {
      "text/plain": [
       "7"
      ]
     },
     "execution_count": 14,
     "metadata": {},
     "output_type": "execute_result"
    }
   ],
   "source": [
    "s='SameerShrivastav'\n",
    "s.index('h')"
   ]
  },
  {
   "cell_type": "markdown",
   "id": "4aecbb48",
   "metadata": {},
   "source": [
    "### 7.9 isalnum()\n",
    "1. Returns True if all characters in the string are alphanumeric"
   ]
  },
  {
   "cell_type": "code",
   "execution_count": 15,
   "id": "985f774f",
   "metadata": {},
   "outputs": [
    {
     "data": {
      "text/plain": [
       "True"
      ]
     },
     "execution_count": 15,
     "metadata": {},
     "output_type": "execute_result"
    }
   ],
   "source": [
    "s=\"sam01\"\n",
    "s.isalnum()"
   ]
  },
  {
   "cell_type": "markdown",
   "id": "b97f252a",
   "metadata": {},
   "source": [
    "### 7.10 isalpha()\n",
    "1. Returns True if all characters in the string are in the alphabet"
   ]
  },
  {
   "cell_type": "code",
   "execution_count": 16,
   "id": "94ded9d8",
   "metadata": {},
   "outputs": [
    {
     "data": {
      "text/plain": [
       "False"
      ]
     },
     "execution_count": 16,
     "metadata": {},
     "output_type": "execute_result"
    }
   ],
   "source": [
    "s='sam01'\n",
    "s.isalpha()"
   ]
  },
  {
   "cell_type": "markdown",
   "id": "4827d5e9",
   "metadata": {},
   "source": [
    "### 7.11 isdigit() \n",
    "1. Returns True if all characters in the string are digits"
   ]
  },
  {
   "cell_type": "code",
   "execution_count": 17,
   "id": "4117c4ad",
   "metadata": {},
   "outputs": [
    {
     "data": {
      "text/plain": [
       "True"
      ]
     },
     "execution_count": 17,
     "metadata": {},
     "output_type": "execute_result"
    }
   ],
   "source": [
    "s='12345'\n",
    "s.isdigit()"
   ]
  },
  {
   "cell_type": "markdown",
   "id": "5d515e5b",
   "metadata": {},
   "source": [
    "### 7.12 strip(), rstrip() and lstrip()\n",
    "1. Returns a trimmed version of the string\n",
    "2. Returns a right trim version of the string\n",
    "3. Returns a left trim version of the string"
   ]
  },
  {
   "cell_type": "code",
   "execution_count": 18,
   "id": "b8d5ad4b",
   "metadata": {},
   "outputs": [
    {
     "data": {
      "text/plain": [
       "'sameera'"
      ]
     },
     "execution_count": 18,
     "metadata": {},
     "output_type": "execute_result"
    }
   ],
   "source": [
    "s='  sameera  '\n",
    "s.strip()"
   ]
  },
  {
   "cell_type": "code",
   "execution_count": 19,
   "id": "8597099c",
   "metadata": {},
   "outputs": [
    {
     "data": {
      "text/plain": [
       "'  sameera'"
      ]
     },
     "execution_count": 19,
     "metadata": {},
     "output_type": "execute_result"
    }
   ],
   "source": [
    "s='  sameera  '\n",
    "s.rstrip()"
   ]
  },
  {
   "cell_type": "code",
   "execution_count": 20,
   "id": "3eeb973c",
   "metadata": {},
   "outputs": [
    {
     "data": {
      "text/plain": [
       "'sameera  '"
      ]
     },
     "execution_count": 20,
     "metadata": {},
     "output_type": "execute_result"
    }
   ],
   "source": [
    "s='  sameera  '\n",
    "s.lstrip()"
   ]
  },
  {
   "cell_type": "markdown",
   "id": "507d76f0",
   "metadata": {},
   "source": [
    "### 7.13 swapcase()\n",
    "1. Swaps cases, lower case becomes upper case and vice versa"
   ]
  },
  {
   "cell_type": "code",
   "execution_count": 21,
   "id": "ed1d998d",
   "metadata": {},
   "outputs": [
    {
     "data": {
      "text/plain": [
       "'sHAKTImAAN'"
      ]
     },
     "execution_count": 21,
     "metadata": {},
     "output_type": "execute_result"
    }
   ],
   "source": [
    "s='ShaktiMaan'\n",
    "s.swapcase()"
   ]
  },
  {
   "cell_type": "markdown",
   "id": "4109db0b",
   "metadata": {},
   "source": [
    "### 7.14 title()\n",
    "1. Converts the first character of each word to upper case"
   ]
  },
  {
   "cell_type": "code",
   "execution_count": 22,
   "id": "2b56f358",
   "metadata": {},
   "outputs": [
    {
     "data": {
      "text/plain": [
       "'My Village Is Located In Up'"
      ]
     },
     "execution_count": 22,
     "metadata": {},
     "output_type": "execute_result"
    }
   ],
   "source": [
    "s= 'my village is located in UP'\n",
    "s.title()"
   ]
  },
  {
   "cell_type": "markdown",
   "id": "7569a705",
   "metadata": {},
   "source": [
    "### 7.15 split()\n",
    "1. Splits the string at the specified separator, and returns a list"
   ]
  },
  {
   "cell_type": "code",
   "execution_count": 23,
   "id": "a9b792c5",
   "metadata": {},
   "outputs": [
    {
     "data": {
      "text/plain": [
       "['I', 'live', 'in', 'India']"
      ]
     },
     "execution_count": 23,
     "metadata": {},
     "output_type": "execute_result"
    }
   ],
   "source": [
    "s=\"I live in India\"\n",
    "s.split(\" \")"
   ]
  }
 ],
 "metadata": {
  "kernelspec": {
   "display_name": "Python 3 (ipykernel)",
   "language": "python",
   "name": "python3"
  },
  "language_info": {
   "codemirror_mode": {
    "name": "ipython",
    "version": 3
   },
   "file_extension": ".py",
   "mimetype": "text/x-python",
   "name": "python",
   "nbconvert_exporter": "python",
   "pygments_lexer": "ipython3",
   "version": "3.9.12"
  }
 },
 "nbformat": 4,
 "nbformat_minor": 5
}
