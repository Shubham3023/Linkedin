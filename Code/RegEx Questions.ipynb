{
 "cells": [
  {
   "cell_type": "markdown",
   "id": "b4632ad2",
   "metadata": {},
   "source": [
    "# Questions on RegEx\n",
    "**Shubham Verma**\n",
    "\n",
    "**RegEx Concept** https://www.linkedin.com/posts/shubham-verma-3968a5119_regular-expression-regex-activity-6973592766576545792-GI2R?utm_source=share&utm_medium=member_desktop\n",
    "\n",
    "\n",
    "**Linkedin** https://www.linkedin.com/in/shubham-verma-3968a5119\n",
    "\n",
    "**Credits** W3School for questions"
   ]
  },
  {
   "cell_type": "code",
   "execution_count": null,
   "id": "18cc1f60",
   "metadata": {},
   "outputs": [],
   "source": [
    "import re"
   ]
  },
  {
   "cell_type": "markdown",
   "id": "4817de78",
   "metadata": {},
   "source": [
    "### 1. Write a Python program to check that a string contains only a certain set of characters (in this case a-z, A-Z and 0-9)."
   ]
  },
  {
   "cell_type": "code",
   "execution_count": 2,
   "id": "2d418f24",
   "metadata": {},
   "outputs": [],
   "source": [
    "s1 = \"asjdJASDJA123asd123\"\n",
    "s2 = \"&%576%^&%7^$%#$$%#)\""
   ]
  },
  {
   "cell_type": "code",
   "execution_count": 3,
   "id": "6b2c8b40",
   "metadata": {},
   "outputs": [],
   "source": [
    "def char_check(test_string):\n",
    "    pattern = re.compile(r\"[^(a-z)+(A-Z)+(0-9)+]\")\n",
    "    check_str = pattern.search(test_string)\n",
    "    return not bool(check_str)"
   ]
  },
  {
   "cell_type": "code",
   "execution_count": 4,
   "id": "51740466",
   "metadata": {},
   "outputs": [
    {
     "data": {
      "text/plain": [
       "True"
      ]
     },
     "execution_count": 4,
     "metadata": {},
     "output_type": "execute_result"
    }
   ],
   "source": [
    "char_check(s1)"
   ]
  },
  {
   "cell_type": "code",
   "execution_count": 5,
   "id": "5aff137d",
   "metadata": {},
   "outputs": [
    {
     "data": {
      "text/plain": [
       "False"
      ]
     },
     "execution_count": 5,
     "metadata": {},
     "output_type": "execute_result"
    }
   ],
   "source": [
    "char_check(s2)"
   ]
  },
  {
   "cell_type": "markdown",
   "id": "38a727b4",
   "metadata": {},
   "source": [
    "### 2. Write a Python program that matches a string that has an a followed by zero or more b's."
   ]
  },
  {
   "cell_type": "code",
   "execution_count": 6,
   "id": "38d7f405",
   "metadata": {},
   "outputs": [],
   "source": [
    "def custom_string_match(test_string):\n",
    "    pattern = re.compile(r\"^a(b*)\")\n",
    "    if pattern.search(test_string):\n",
    "        return \"match found\"\n",
    "    else:\n",
    "        return \"match not found\""
   ]
  },
  {
   "cell_type": "code",
   "execution_count": 7,
   "id": "bb867719",
   "metadata": {},
   "outputs": [
    {
     "data": {
      "text/plain": [
       "'match found'"
      ]
     },
     "execution_count": 7,
     "metadata": {},
     "output_type": "execute_result"
    }
   ],
   "source": [
    "s1 = \"aaaa\"\n",
    "custom_string_match(s1)"
   ]
  },
  {
   "cell_type": "code",
   "execution_count": 8,
   "id": "88ea95d0",
   "metadata": {},
   "outputs": [
    {
     "data": {
      "text/plain": [
       "'match found'"
      ]
     },
     "execution_count": 8,
     "metadata": {},
     "output_type": "execute_result"
    }
   ],
   "source": [
    "s2 = \"abbb\"\n",
    "custom_string_match(s2)"
   ]
  },
  {
   "cell_type": "code",
   "execution_count": 9,
   "id": "86a2c26a",
   "metadata": {},
   "outputs": [
    {
     "data": {
      "text/plain": [
       "'match found'"
      ]
     },
     "execution_count": 9,
     "metadata": {},
     "output_type": "execute_result"
    }
   ],
   "source": [
    "s3 = \"abc\"\n",
    "custom_string_match(s3)"
   ]
  },
  {
   "cell_type": "code",
   "execution_count": 10,
   "id": "d7ea9dc6",
   "metadata": {},
   "outputs": [
    {
     "data": {
      "text/plain": [
       "'match not found'"
      ]
     },
     "execution_count": 10,
     "metadata": {},
     "output_type": "execute_result"
    }
   ],
   "source": [
    "s4 = \"babbbc\"\n",
    "custom_string_match(s4)"
   ]
  },
  {
   "cell_type": "markdown",
   "id": "48c0d9c7",
   "metadata": {},
   "source": [
    "### 3. Write a Python program that matches a string that has an a followed by one or more b's."
   ]
  },
  {
   "cell_type": "code",
   "execution_count": 11,
   "id": "4034be14",
   "metadata": {},
   "outputs": [],
   "source": [
    "def custom_string_match1(test_string):\n",
    "    pattern = re.compile(r\"^a(b+)\")\n",
    "    if pattern.search(test_string):\n",
    "        return \"match found\"\n",
    "    else:\n",
    "        return \"match not found\""
   ]
  },
  {
   "cell_type": "code",
   "execution_count": 12,
   "id": "b3de02c8",
   "metadata": {},
   "outputs": [
    {
     "data": {
      "text/plain": [
       "'match not found'"
      ]
     },
     "execution_count": 12,
     "metadata": {},
     "output_type": "execute_result"
    }
   ],
   "source": [
    "s1 = \"aaaa\"\n",
    "custom_string_match1(s1)"
   ]
  },
  {
   "cell_type": "code",
   "execution_count": 13,
   "id": "ecb628da",
   "metadata": {},
   "outputs": [
    {
     "data": {
      "text/plain": [
       "'match found'"
      ]
     },
     "execution_count": 13,
     "metadata": {},
     "output_type": "execute_result"
    }
   ],
   "source": [
    "s2 = \"abbb\"\n",
    "custom_string_match1(s2)"
   ]
  },
  {
   "cell_type": "code",
   "execution_count": 14,
   "id": "f9d3c5ab",
   "metadata": {},
   "outputs": [
    {
     "data": {
      "text/plain": [
       "'match found'"
      ]
     },
     "execution_count": 14,
     "metadata": {},
     "output_type": "execute_result"
    }
   ],
   "source": [
    "s3 = \"abc\"\n",
    "custom_string_match1(s3)"
   ]
  },
  {
   "cell_type": "code",
   "execution_count": 15,
   "id": "6d3e8a1c",
   "metadata": {},
   "outputs": [
    {
     "data": {
      "text/plain": [
       "'match not found'"
      ]
     },
     "execution_count": 15,
     "metadata": {},
     "output_type": "execute_result"
    }
   ],
   "source": [
    "s4 = \"babbbc\"\n",
    "custom_string_match1(s4)"
   ]
  },
  {
   "cell_type": "markdown",
   "id": "94e36c89",
   "metadata": {},
   "source": [
    "### 4. Write a Python program that matches a string that has an a followed by zero or one 'b'."
   ]
  },
  {
   "cell_type": "code",
   "execution_count": 16,
   "id": "ee253dc7",
   "metadata": {},
   "outputs": [],
   "source": [
    "def custom_string_match2(test_string):\n",
    "    pattern = re.compile(r\"ab?\")\n",
    "    if pattern.search(test_string):\n",
    "        return \"match found\"\n",
    "    else:\n",
    "        return \"match not found\""
   ]
  },
  {
   "cell_type": "code",
   "execution_count": 17,
   "id": "f796f502",
   "metadata": {},
   "outputs": [
    {
     "data": {
      "text/plain": [
       "'match found'"
      ]
     },
     "execution_count": 17,
     "metadata": {},
     "output_type": "execute_result"
    }
   ],
   "source": [
    "s1 = \"aaaa\"\n",
    "custom_string_match2(s1)"
   ]
  },
  {
   "cell_type": "code",
   "execution_count": 18,
   "id": "97f7669d",
   "metadata": {},
   "outputs": [
    {
     "data": {
      "text/plain": [
       "'match found'"
      ]
     },
     "execution_count": 18,
     "metadata": {},
     "output_type": "execute_result"
    }
   ],
   "source": [
    "s2 = \"aabbb\"\n",
    "custom_string_match2(s2)"
   ]
  },
  {
   "cell_type": "code",
   "execution_count": 19,
   "id": "45d19d80",
   "metadata": {},
   "outputs": [
    {
     "data": {
      "text/plain": [
       "'match found'"
      ]
     },
     "execution_count": 19,
     "metadata": {},
     "output_type": "execute_result"
    }
   ],
   "source": [
    "s3 = \"abc\"\n",
    "custom_string_match2(s3)"
   ]
  },
  {
   "cell_type": "code",
   "execution_count": 20,
   "id": "122f7ed5",
   "metadata": {},
   "outputs": [
    {
     "data": {
      "text/plain": [
       "'match found'"
      ]
     },
     "execution_count": 20,
     "metadata": {},
     "output_type": "execute_result"
    }
   ],
   "source": [
    "s4 = \"baabbbc\"\n",
    "custom_string_match2(s4)"
   ]
  },
  {
   "cell_type": "markdown",
   "id": "d72ce8b7",
   "metadata": {},
   "source": [
    "### 5. Write a Python program that matches a string that has an a followed by three 'b'."
   ]
  },
  {
   "cell_type": "code",
   "execution_count": 21,
   "id": "5746c96a",
   "metadata": {},
   "outputs": [],
   "source": [
    "def custom_string_match3(test_string):\n",
    "    pattern = re.compile(r\"ab{3}\")\n",
    "    if pattern.search(test_string):\n",
    "        return \"match found\"\n",
    "    else:\n",
    "        return \"match not found\""
   ]
  },
  {
   "cell_type": "code",
   "execution_count": 22,
   "id": "d4ffa016",
   "metadata": {},
   "outputs": [
    {
     "data": {
      "text/plain": [
       "'match found'"
      ]
     },
     "execution_count": 22,
     "metadata": {},
     "output_type": "execute_result"
    }
   ],
   "source": [
    "s1 = \"abbb\"\n",
    "custom_string_match3(s1)"
   ]
  },
  {
   "cell_type": "code",
   "execution_count": 23,
   "id": "04889b75",
   "metadata": {},
   "outputs": [
    {
     "data": {
      "text/plain": [
       "'match not found'"
      ]
     },
     "execution_count": 23,
     "metadata": {},
     "output_type": "execute_result"
    }
   ],
   "source": [
    "s2 = \"ababb\"\n",
    "custom_string_match3(s2)"
   ]
  },
  {
   "cell_type": "markdown",
   "id": "91f016e2",
   "metadata": {},
   "source": [
    "### 6. Write a Python program that matches a string that has an a followed by two to three 'b'."
   ]
  },
  {
   "cell_type": "code",
   "execution_count": 24,
   "id": "580c703d",
   "metadata": {},
   "outputs": [],
   "source": [
    "def custom_string_match4(test_string):\n",
    "    pattern = re.compile(r\"ab{2,3}\")\n",
    "    if pattern.search(test_string):\n",
    "        return \"match found\"\n",
    "    else:\n",
    "        return \"match not found\""
   ]
  },
  {
   "cell_type": "code",
   "execution_count": 25,
   "id": "d51ff9b6",
   "metadata": {},
   "outputs": [
    {
     "data": {
      "text/plain": [
       "'match found'"
      ]
     },
     "execution_count": 25,
     "metadata": {},
     "output_type": "execute_result"
    }
   ],
   "source": [
    "s1 = \"ababb\"\n",
    "custom_string_match4(s1)"
   ]
  },
  {
   "cell_type": "code",
   "execution_count": 26,
   "id": "c6975033",
   "metadata": {},
   "outputs": [
    {
     "data": {
      "text/plain": [
       "'match found'"
      ]
     },
     "execution_count": 26,
     "metadata": {},
     "output_type": "execute_result"
    }
   ],
   "source": [
    "s2 = \"abbbab\"\n",
    "custom_string_match4(s2)"
   ]
  },
  {
   "cell_type": "code",
   "execution_count": 27,
   "id": "cbe382f5",
   "metadata": {},
   "outputs": [
    {
     "data": {
      "text/plain": [
       "'match not found'"
      ]
     },
     "execution_count": 27,
     "metadata": {},
     "output_type": "execute_result"
    }
   ],
   "source": [
    "s3 = \"abab\"\n",
    "custom_string_match4(s3)"
   ]
  },
  {
   "cell_type": "markdown",
   "id": "cb034774",
   "metadata": {},
   "source": [
    "### 7. Write a Python program to find sequences of lowercase letters joined with a underscore."
   ]
  },
  {
   "cell_type": "code",
   "execution_count": 28,
   "id": "2aef6a2a",
   "metadata": {},
   "outputs": [],
   "source": [
    "def custom_string_match5(test_string):\n",
    "    pattern = re.compile(r\"^[a-z]+_[a-z]+$\")\n",
    "    if pattern.search(test_string):\n",
    "        return \"match found\"\n",
    "    else:\n",
    "        return \"match not found\""
   ]
  },
  {
   "cell_type": "code",
   "execution_count": 29,
   "id": "5f6ecfa8",
   "metadata": {},
   "outputs": [
    {
     "data": {
      "text/plain": [
       "'match found'"
      ]
     },
     "execution_count": 29,
     "metadata": {},
     "output_type": "execute_result"
    }
   ],
   "source": [
    "s1 = \"krish_naik\"\n",
    "custom_string_match5(s1)"
   ]
  },
  {
   "cell_type": "code",
   "execution_count": 30,
   "id": "4707e293",
   "metadata": {},
   "outputs": [
    {
     "data": {
      "text/plain": [
       "'match not found'"
      ]
     },
     "execution_count": 30,
     "metadata": {},
     "output_type": "execute_result"
    }
   ],
   "source": [
    "s2 = \"Krish_naik\"\n",
    "custom_string_match5(s2)"
   ]
  },
  {
   "cell_type": "markdown",
   "id": "3ed3d86a",
   "metadata": {},
   "source": [
    "### 8. Write a Python program to find the sequences of one upper case letter followed by lower case letters. "
   ]
  },
  {
   "cell_type": "code",
   "execution_count": 31,
   "id": "838c58de",
   "metadata": {},
   "outputs": [],
   "source": [
    "def custom_string_match6(test_string):\n",
    "    pattern = re.compile(r\"[A-Z]+[a-z]+\")\n",
    "    if pattern.search(test_string):\n",
    "        return \"match found\"\n",
    "    else:\n",
    "        return \"match not found\""
   ]
  },
  {
   "cell_type": "code",
   "execution_count": 32,
   "id": "308ea1b9",
   "metadata": {},
   "outputs": [
    {
     "data": {
      "text/plain": [
       "'match found'"
      ]
     },
     "execution_count": 32,
     "metadata": {},
     "output_type": "execute_result"
    }
   ],
   "source": [
    "s1 = \"Python\"\n",
    "custom_string_match6(s1)"
   ]
  },
  {
   "cell_type": "code",
   "execution_count": 33,
   "id": "8463ed27",
   "metadata": {},
   "outputs": [
    {
     "data": {
      "text/plain": [
       "'match found'"
      ]
     },
     "execution_count": 33,
     "metadata": {},
     "output_type": "execute_result"
    }
   ],
   "source": [
    "s2 = \"pyThon\"\n",
    "custom_string_match6(s2)"
   ]
  },
  {
   "cell_type": "code",
   "execution_count": 34,
   "id": "d6acd0c8",
   "metadata": {},
   "outputs": [
    {
     "data": {
      "text/plain": [
       "'match not found'"
      ]
     },
     "execution_count": 34,
     "metadata": {},
     "output_type": "execute_result"
    }
   ],
   "source": [
    "s3 = \"PYTHON\"\n",
    "custom_string_match6(s3)"
   ]
  },
  {
   "cell_type": "markdown",
   "id": "e9432e83",
   "metadata": {},
   "source": [
    "### 9. Write a Python program that matches a string that has an 'a' followed by anything, ending in 'b'. "
   ]
  },
  {
   "cell_type": "code",
   "execution_count": 35,
   "id": "b28359a0",
   "metadata": {},
   "outputs": [],
   "source": [
    "def custom_string_match7(test_string):\n",
    "    pattern = re.compile(r\"a.*b$\")\n",
    "    if pattern.search(test_string):\n",
    "        return \"match found\"\n",
    "    else:\n",
    "        return \"match not found\""
   ]
  },
  {
   "cell_type": "code",
   "execution_count": 36,
   "id": "7be2532f",
   "metadata": {},
   "outputs": [
    {
     "data": {
      "text/plain": [
       "'match not found'"
      ]
     },
     "execution_count": 36,
     "metadata": {},
     "output_type": "execute_result"
    }
   ],
   "source": [
    "s1 = \"aabbbbd\"\n",
    "custom_string_match7(s1)"
   ]
  },
  {
   "cell_type": "code",
   "execution_count": 37,
   "id": "d2b26507",
   "metadata": {},
   "outputs": [
    {
     "data": {
      "text/plain": [
       "'match not found'"
      ]
     },
     "execution_count": 37,
     "metadata": {},
     "output_type": "execute_result"
    }
   ],
   "source": [
    "s2 = \"aabAbbbc\"\n",
    "custom_string_match7(s2)"
   ]
  },
  {
   "cell_type": "code",
   "execution_count": 38,
   "id": "94bce1e0",
   "metadata": {},
   "outputs": [
    {
     "data": {
      "text/plain": [
       "'match found'"
      ]
     },
     "execution_count": 38,
     "metadata": {},
     "output_type": "execute_result"
    }
   ],
   "source": [
    "s3 = \"accddbbjjjb\"\n",
    "custom_string_match7(s3)"
   ]
  },
  {
   "cell_type": "code",
   "execution_count": 39,
   "id": "943a4f0d",
   "metadata": {},
   "outputs": [
    {
     "data": {
      "text/plain": [
       "'match found'"
      ]
     },
     "execution_count": 39,
     "metadata": {},
     "output_type": "execute_result"
    }
   ],
   "source": [
    "s4 = \"accddbADADbjjjb\"\n",
    "custom_string_match7(s4)"
   ]
  },
  {
   "cell_type": "markdown",
   "id": "73578e2e",
   "metadata": {},
   "source": [
    "### 10. Write a Python program that matches a word at the beginning of a string."
   ]
  },
  {
   "cell_type": "code",
   "execution_count": 40,
   "id": "94471288",
   "metadata": {},
   "outputs": [],
   "source": [
    "def custom_string_match8(test_string):\n",
    "    pattern = re.compile(r\"^\\w+\")\n",
    "    if pattern.search(test_string):\n",
    "        return \"match found\"\n",
    "    else:\n",
    "        return \"match not found\""
   ]
  },
  {
   "cell_type": "code",
   "execution_count": 41,
   "id": "0b144187",
   "metadata": {},
   "outputs": [
    {
     "data": {
      "text/plain": [
       "'match not found'"
      ]
     },
     "execution_count": 41,
     "metadata": {},
     "output_type": "execute_result"
    }
   ],
   "source": [
    "s1 = \"@This is new code\"\n",
    "custom_string_match8(s1)"
   ]
  },
  {
   "cell_type": "code",
   "execution_count": 42,
   "id": "6b82ed25",
   "metadata": {},
   "outputs": [
    {
     "data": {
      "text/plain": [
       "'match found'"
      ]
     },
     "execution_count": 42,
     "metadata": {},
     "output_type": "execute_result"
    }
   ],
   "source": [
    "s2 = \"This is new code\"\n",
    "custom_string_match8(s2)"
   ]
  },
  {
   "cell_type": "markdown",
   "id": "4749be4a",
   "metadata": {},
   "source": [
    "### 11. Write a Python program that matches a word at the end of string, with optional punctuation."
   ]
  },
  {
   "cell_type": "code",
   "execution_count": 43,
   "id": "0c70ddbe",
   "metadata": {},
   "outputs": [],
   "source": [
    "def custom_string_match9(test_string):\n",
    "    pattern = re.compile(r\"\\w+|[\\.\\?!]$\")\n",
    "    if pattern.search(test_string):\n",
    "        return \"match found\"\n",
    "    else:\n",
    "        return \"match not found\""
   ]
  },
  {
   "cell_type": "code",
   "execution_count": 44,
   "id": "67b0ff76",
   "metadata": {},
   "outputs": [
    {
     "data": {
      "text/plain": [
       "'match found'"
      ]
     },
     "execution_count": 44,
     "metadata": {},
     "output_type": "execute_result"
    }
   ],
   "source": [
    "s1 = \"This is new code?\"\n",
    "custom_string_match9(s1)"
   ]
  },
  {
   "cell_type": "code",
   "execution_count": 45,
   "id": "b6cd8fda",
   "metadata": {},
   "outputs": [
    {
     "data": {
      "text/plain": [
       "'match found'"
      ]
     },
     "execution_count": 45,
     "metadata": {},
     "output_type": "execute_result"
    }
   ],
   "source": [
    "s2 = \"This is new code\"\n",
    "custom_string_match9(s2)"
   ]
  },
  {
   "cell_type": "code",
   "execution_count": 46,
   "id": "17f86f64",
   "metadata": {},
   "outputs": [
    {
     "data": {
      "text/plain": [
       "'match found'"
      ]
     },
     "execution_count": 46,
     "metadata": {},
     "output_type": "execute_result"
    }
   ],
   "source": [
    "s3 = \"This is new code \"\n",
    "custom_string_match9(s3)"
   ]
  },
  {
   "cell_type": "markdown",
   "id": "ece5397e",
   "metadata": {},
   "source": [
    "### 12. Write a Python program that matches a word containing 'z'. "
   ]
  },
  {
   "cell_type": "code",
   "execution_count": 47,
   "id": "3eff3c42",
   "metadata": {},
   "outputs": [],
   "source": [
    "def custom_string_match10(test_string):\n",
    "    pattern = re.compile(r\"(\\w*z.\\w*)|(^z\\w*)|(\\w*z$)\")\n",
    "    if pattern.search(test_string):\n",
    "        return \"match found\"\n",
    "    else:\n",
    "        return \"match not found\""
   ]
  },
  {
   "cell_type": "code",
   "execution_count": 48,
   "id": "a1c29e73",
   "metadata": {},
   "outputs": [
    {
     "data": {
      "text/plain": [
       "'match found'"
      ]
     },
     "execution_count": 48,
     "metadata": {},
     "output_type": "execute_result"
    }
   ],
   "source": [
    "s1 = \"I want to visit a nearby zoo\"\n",
    "custom_string_match10(s1)"
   ]
  },
  {
   "cell_type": "code",
   "execution_count": 49,
   "id": "3d5f701a",
   "metadata": {},
   "outputs": [
    {
     "data": {
      "text/plain": [
       "'match not found'"
      ]
     },
     "execution_count": 49,
     "metadata": {},
     "output_type": "execute_result"
    }
   ],
   "source": [
    "s2 = \"I want to go to a nearby temple\"\n",
    "custom_string_match10(s2)"
   ]
  },
  {
   "cell_type": "markdown",
   "id": "f9287d48",
   "metadata": {},
   "source": [
    "### 13. Write a Python program that matches a word containing 'z', not at the start or end of the word."
   ]
  },
  {
   "cell_type": "code",
   "execution_count": 50,
   "id": "32d427a8",
   "metadata": {},
   "outputs": [],
   "source": [
    "def custom_string_match11(test_string):\n",
    "    pattern = re.compile(r\"\\Bz\\B\")\n",
    "    if pattern.search(test_string):\n",
    "        return \"match found\"\n",
    "    else:\n",
    "        return \"match not found\""
   ]
  },
  {
   "cell_type": "code",
   "execution_count": 51,
   "id": "3d68796a",
   "metadata": {},
   "outputs": [
    {
     "data": {
      "text/plain": [
       "'match not found'"
      ]
     },
     "execution_count": 51,
     "metadata": {},
     "output_type": "execute_result"
    }
   ],
   "source": [
    "s1 = \"I want to visit a nearby zoo\"\n",
    "custom_string_match11(s1)"
   ]
  },
  {
   "cell_type": "code",
   "execution_count": 52,
   "id": "e75953b2",
   "metadata": {},
   "outputs": [
    {
     "data": {
      "text/plain": [
       "'match not found'"
      ]
     },
     "execution_count": 52,
     "metadata": {},
     "output_type": "execute_result"
    }
   ],
   "source": [
    "s2 = \"I want to visit a nearby ooz\"\n",
    "custom_string_match11(s2)"
   ]
  },
  {
   "cell_type": "code",
   "execution_count": 53,
   "id": "4207fbd1",
   "metadata": {},
   "outputs": [
    {
     "data": {
      "text/plain": [
       "'match found'"
      ]
     },
     "execution_count": 53,
     "metadata": {},
     "output_type": "execute_result"
    }
   ],
   "source": [
    "s3 = \"I want to visit a nearby ozso\"\n",
    "custom_string_match11(s3)"
   ]
  },
  {
   "cell_type": "markdown",
   "id": "a00d7b4c",
   "metadata": {},
   "source": [
    "### 14. Write a Python program to match a string that contains only upper and lowercase letters, numbers, and underscores."
   ]
  },
  {
   "cell_type": "code",
   "execution_count": 54,
   "id": "91caa606",
   "metadata": {},
   "outputs": [],
   "source": [
    "def custom_string_match12(test_string):\n",
    "    pattern = re.compile(r\"^[a-zA-Z0-9_]*$\")\n",
    "    if pattern.search(test_string):\n",
    "        return \"match found\"\n",
    "    else:\n",
    "        return \"match not found\""
   ]
  },
  {
   "cell_type": "code",
   "execution_count": 55,
   "id": "7fbea3b3",
   "metadata": {},
   "outputs": [
    {
     "data": {
      "text/plain": [
       "'match found'"
      ]
     },
     "execution_count": 55,
     "metadata": {},
     "output_type": "execute_result"
    }
   ],
   "source": [
    "s1 = \"how_are_you_2022\"\n",
    "custom_string_match12(s1)"
   ]
  },
  {
   "cell_type": "code",
   "execution_count": 56,
   "id": "d6ea8ad8",
   "metadata": {},
   "outputs": [
    {
     "data": {
      "text/plain": [
       "'match not found'"
      ]
     },
     "execution_count": 56,
     "metadata": {},
     "output_type": "execute_result"
    }
   ],
   "source": [
    "s2 = \"how are you_\"\n",
    "custom_string_match12(s2)"
   ]
  },
  {
   "cell_type": "markdown",
   "id": "34deac35",
   "metadata": {},
   "source": [
    "### 15. Write a Python program where a string will start with a specific number. "
   ]
  },
  {
   "cell_type": "code",
   "execution_count": 57,
   "id": "381f57c1",
   "metadata": {},
   "outputs": [],
   "source": [
    "def custom_string_match13(test_string, number):\n",
    "    pattern = re.compile(r\"^{}\".format(number))\n",
    "    if pattern.search(test_string):\n",
    "        return \"String starts with {}\".format(number)\n",
    "    else:\n",
    "        return \"String doesn't start with {}\".format(number)"
   ]
  },
  {
   "cell_type": "code",
   "execution_count": 58,
   "id": "dc1302bc",
   "metadata": {},
   "outputs": [
    {
     "data": {
      "text/plain": [
       "'String starts with 4'"
      ]
     },
     "execution_count": 58,
     "metadata": {},
     "output_type": "execute_result"
    }
   ],
   "source": [
    "s1 = \"43123891283\"\n",
    "custom_string_match13(s1, 4)"
   ]
  },
  {
   "cell_type": "code",
   "execution_count": 59,
   "id": "ea2837d1",
   "metadata": {},
   "outputs": [
    {
     "data": {
      "text/plain": [
       "\"String doesn't start with 4\""
      ]
     },
     "execution_count": 59,
     "metadata": {},
     "output_type": "execute_result"
    }
   ],
   "source": [
    "s2 = \"93123891283\"\n",
    "custom_string_match13(s2, 4)"
   ]
  },
  {
   "cell_type": "markdown",
   "id": "67ba79f6",
   "metadata": {},
   "source": [
    "### 16. Write a Python program to remove leading zeros from an IP address. "
   ]
  },
  {
   "cell_type": "code",
   "execution_count": 60,
   "id": "3220ed2a",
   "metadata": {},
   "outputs": [],
   "source": [
    "def custom_string_sub(ip_add):\n",
    "    pattern = re.compile(r\"\\.[0]*\")\n",
    "    return pattern.sub(\".\", ip_add)"
   ]
  },
  {
   "cell_type": "code",
   "execution_count": 61,
   "id": "fdf148da",
   "metadata": {},
   "outputs": [
    {
     "data": {
      "text/plain": [
       "'192.9.8.200'"
      ]
     },
     "execution_count": 61,
     "metadata": {},
     "output_type": "execute_result"
    }
   ],
   "source": [
    "s1 = \"192.09.08.0200\"\n",
    "custom_string_sub(s1)"
   ]
  },
  {
   "cell_type": "markdown",
   "id": "33f7cf8a",
   "metadata": {},
   "source": [
    "### 17. Write a Python program to check for a number at the end of a string."
   ]
  },
  {
   "cell_type": "code",
   "execution_count": 62,
   "id": "98b105be",
   "metadata": {},
   "outputs": [],
   "source": [
    "def custom_string_num_check(test_string):\n",
    "    pattern = re.compile(r\"\\d$\")\n",
    "    if pattern.search(test_string):\n",
    "        return \"String ends with a number\"\n",
    "    else:\n",
    "        return \"String doesn't end with a number\""
   ]
  },
  {
   "cell_type": "code",
   "execution_count": 63,
   "id": "94c4eae1",
   "metadata": {},
   "outputs": [
    {
     "data": {
      "text/plain": [
       "'String ends with a number'"
      ]
     },
     "execution_count": 63,
     "metadata": {},
     "output_type": "execute_result"
    }
   ],
   "source": [
    "s1 = \"asdJA9\"\n",
    "custom_string_num_check(s1)"
   ]
  },
  {
   "cell_type": "code",
   "execution_count": 64,
   "id": "28a2beb1",
   "metadata": {},
   "outputs": [
    {
     "data": {
      "text/plain": [
       "\"String doesn't end with a number\""
      ]
     },
     "execution_count": 64,
     "metadata": {},
     "output_type": "execute_result"
    }
   ],
   "source": [
    "s2 = \"Krish\"\n",
    "custom_string_num_check(s2)"
   ]
  },
  {
   "cell_type": "markdown",
   "id": "f19b2605",
   "metadata": {},
   "source": [
    "### 18. Write a Python program to search the numbers (0-9) of length between 1 to 3 in a given string."
   ]
  },
  {
   "cell_type": "code",
   "execution_count": 65,
   "id": "b8675b19",
   "metadata": {},
   "outputs": [],
   "source": [
    "def custom_string_match14(test_string):\n",
    "    pattern = re.compile(r\"[0-9]{1}|[0-9]{2}|[0-9]{3}\")\n",
    "    if pattern.search(test_string):\n",
    "        return \"match found\"\n",
    "    else:\n",
    "        return \"match not found\""
   ]
  },
  {
   "cell_type": "code",
   "execution_count": 66,
   "id": "833314fa",
   "metadata": {},
   "outputs": [
    {
     "data": {
      "text/plain": [
       "'match found'"
      ]
     },
     "execution_count": 66,
     "metadata": {},
     "output_type": "execute_result"
    }
   ],
   "source": [
    "s1 = \"D.O.B 1\"\n",
    "custom_string_match14(s1)"
   ]
  },
  {
   "cell_type": "code",
   "execution_count": 67,
   "id": "d29d1f19",
   "metadata": {},
   "outputs": [
    {
     "data": {
      "text/plain": [
       "'match found'"
      ]
     },
     "execution_count": 67,
     "metadata": {},
     "output_type": "execute_result"
    }
   ],
   "source": [
    "s2 = \"qhasd 12 asd\"\n",
    "custom_string_match14(s2)"
   ]
  },
  {
   "cell_type": "code",
   "execution_count": 68,
   "id": "0e034cce",
   "metadata": {},
   "outputs": [
    {
     "data": {
      "text/plain": [
       "'match found'"
      ]
     },
     "execution_count": 68,
     "metadata": {},
     "output_type": "execute_result"
    }
   ],
   "source": [
    "s3 = \"qhasd w345w asd\"\n",
    "custom_string_match14(s3)"
   ]
  },
  {
   "cell_type": "code",
   "execution_count": 69,
   "id": "3205ce3a",
   "metadata": {},
   "outputs": [
    {
     "data": {
      "text/plain": [
       "'match not found'"
      ]
     },
     "execution_count": 69,
     "metadata": {},
     "output_type": "execute_result"
    }
   ],
   "source": [
    "s4 = \"qhasd asd\"\n",
    "custom_string_match14(s4)"
   ]
  },
  {
   "cell_type": "markdown",
   "id": "730ef881",
   "metadata": {},
   "source": [
    "### 19. Write a Python program to search some literals strings in a string. "
   ]
  },
  {
   "cell_type": "code",
   "execution_count": 70,
   "id": "8195fc34",
   "metadata": {},
   "outputs": [],
   "source": [
    "def custom_string_match15(test_string, input_string, *string_pattern):\n",
    "    pattern = [i for i in string_pattern]\n",
    "    for i in pattern:\n",
    "        if re.search(input_string ,test_string):\n",
    "            return \"match found\"\n",
    "        else:\n",
    "            return \"match not found\""
   ]
  },
  {
   "cell_type": "code",
   "execution_count": 71,
   "id": "d1a3669c",
   "metadata": {},
   "outputs": [
    {
     "data": {
      "text/plain": [
       "'match found'"
      ]
     },
     "execution_count": 71,
     "metadata": {},
     "output_type": "execute_result"
    }
   ],
   "source": [
    "s1 = \"Sudhanshu and Krish are mentors in Ineuron\"\n",
    "custom_string_match15(s1, \"Krish\", \"Krish\", \"Sudhanshu\", \"Ineuron\")"
   ]
  },
  {
   "cell_type": "code",
   "execution_count": 72,
   "id": "7aea9c9d",
   "metadata": {},
   "outputs": [
    {
     "data": {
      "text/plain": [
       "'match not found'"
      ]
     },
     "execution_count": 72,
     "metadata": {},
     "output_type": "execute_result"
    }
   ],
   "source": [
    "s2 = \"Sudhanshu and Krish are mentors in Ineuron\"\n",
    "custom_string_match15(s2, \"kamlesh\", \"Krish\", \"Sudhanshu\", \"Ineuron\")"
   ]
  },
  {
   "cell_type": "code",
   "execution_count": 73,
   "id": "185ae2ea",
   "metadata": {},
   "outputs": [
    {
     "data": {
      "text/plain": [
       "'match found'"
      ]
     },
     "execution_count": 73,
     "metadata": {},
     "output_type": "execute_result"
    }
   ],
   "source": [
    "s3 = \"Sudhanshu and Krish are mentors in Ineuron\"\n",
    "custom_string_match15(s3, \"Sudhanshu\", \"Krish\", \"Sudhanshu\", \"Ineuron\")"
   ]
  },
  {
   "cell_type": "markdown",
   "id": "4c0ca7cd",
   "metadata": {},
   "source": [
    "### 20. Write a Python program to search a literals string in a string and also find the location within the original string where the pattern occurs."
   ]
  },
  {
   "cell_type": "code",
   "execution_count": 74,
   "id": "ca5391e2",
   "metadata": {},
   "outputs": [],
   "source": [
    "def custom_string_match16(test_string, input_string, *string_pattern):\n",
    "    pattern = [i for i in string_pattern]\n",
    "    for i in pattern:\n",
    "        match = re.search(input_string ,test_string)\n",
    "        if match:\n",
    "            start_position = match.start()\n",
    "            end_position = match.end()\n",
    "            return \"match found at position ({} to {})\".format(start_position, end_position)\n",
    "        else:\n",
    "            return \"match not found\""
   ]
  },
  {
   "cell_type": "code",
   "execution_count": 75,
   "id": "fe371112",
   "metadata": {},
   "outputs": [
    {
     "data": {
      "text/plain": [
       "'match found at position (14 to 19)'"
      ]
     },
     "execution_count": 75,
     "metadata": {},
     "output_type": "execute_result"
    }
   ],
   "source": [
    "s1 = \"Sudhanshu and Krish are mentors in Ineuron\"\n",
    "custom_string_match16(s1, \"Krish\", \"Krish\", \"Sudhanshu\", \"Ineuron\")"
   ]
  },
  {
   "cell_type": "code",
   "execution_count": 76,
   "id": "55fe617f",
   "metadata": {},
   "outputs": [
    {
     "data": {
      "text/plain": [
       "'match found at position (0 to 9)'"
      ]
     },
     "execution_count": 76,
     "metadata": {},
     "output_type": "execute_result"
    }
   ],
   "source": [
    "s2 = \"Sudhanshu and Krish are mentors in Ineuron\"\n",
    "custom_string_match16(s2, \"Sudhanshu\", \"Krish\", \"Sudhanshu\", \"Ineuron\")"
   ]
  },
  {
   "cell_type": "code",
   "execution_count": 77,
   "id": "0654bfbb",
   "metadata": {},
   "outputs": [
    {
     "data": {
      "text/plain": [
       "'match not found'"
      ]
     },
     "execution_count": 77,
     "metadata": {},
     "output_type": "execute_result"
    }
   ],
   "source": [
    "s3 = \"Sudhanshu and Krish are mentors in Ineuron\"\n",
    "custom_string_match15(s3, \"kamlesh\", \"Krish\", \"Sudhanshu\", \"Ineuron\")"
   ]
  },
  {
   "cell_type": "markdown",
   "id": "c29a998b",
   "metadata": {},
   "source": [
    "### 21. Write a Python program to find the substrings within a string. "
   ]
  },
  {
   "cell_type": "code",
   "execution_count": 78,
   "id": "86358f66",
   "metadata": {},
   "outputs": [],
   "source": [
    "def custom_string_match17(test_string, substring):\n",
    "    for match in re.findall(substring, test_string):\n",
    "        if match:\n",
    "            return \"match found\""
   ]
  },
  {
   "cell_type": "code",
   "execution_count": 79,
   "id": "3745000b",
   "metadata": {},
   "outputs": [
    {
     "data": {
      "text/plain": [
       "'match found'"
      ]
     },
     "execution_count": 79,
     "metadata": {},
     "output_type": "execute_result"
    }
   ],
   "source": [
    "s1 = \"I have enrolled for FSDS in iNeuron\"\n",
    "custom_string_match17(s1, \"FSDS\")"
   ]
  },
  {
   "cell_type": "code",
   "execution_count": 80,
   "id": "8f339300",
   "metadata": {},
   "outputs": [
    {
     "data": {
      "text/plain": [
       "'match found'"
      ]
     },
     "execution_count": 80,
     "metadata": {},
     "output_type": "execute_result"
    }
   ],
   "source": [
    "s2 = \"I have enrolled for FSDS in iNeuron\"\n",
    "custom_string_match17(s2, \"iNeuron\")"
   ]
  },
  {
   "cell_type": "markdown",
   "id": "1e204544",
   "metadata": {},
   "source": [
    "### 22. Write a Python program to find the occurrence and position of the substrings within a string.         "
   ]
  },
  {
   "cell_type": "code",
   "execution_count": 81,
   "id": "281480f1",
   "metadata": {},
   "outputs": [],
   "source": [
    "def custom_string_match18(test_string, substring):\n",
    "    matches = re.finditer(substring, test_string)\n",
    "    for match in matches:\n",
    "        start_string = match.start()\n",
    "        end_string = match.end()\n",
    "        if match:\n",
    "            start_position = match.start()\n",
    "            end_position = match.end()\n",
    "            return \"match found at position ({} to {})\".format(start_position, end_position)"
   ]
  },
  {
   "cell_type": "code",
   "execution_count": 82,
   "id": "268654b3",
   "metadata": {},
   "outputs": [
    {
     "data": {
      "text/plain": [
       "'match found at position (20 to 24)'"
      ]
     },
     "execution_count": 82,
     "metadata": {},
     "output_type": "execute_result"
    }
   ],
   "source": [
    "s1 = \"I have enrolled for FSDS in iNeuron\"\n",
    "custom_string_match18(s1, \"FSDS\")"
   ]
  },
  {
   "cell_type": "code",
   "execution_count": 83,
   "id": "82db2b54",
   "metadata": {},
   "outputs": [
    {
     "data": {
      "text/plain": [
       "'match found at position (28 to 35)'"
      ]
     },
     "execution_count": 83,
     "metadata": {},
     "output_type": "execute_result"
    }
   ],
   "source": [
    "s2 = \"I have enrolled for FSDS in iNeuron\"\n",
    "custom_string_match18(s2, \"iNeuron\")"
   ]
  },
  {
   "cell_type": "markdown",
   "id": "3621b213",
   "metadata": {},
   "source": [
    "### 23. Write a Python program to replace whitespaces with an underscore and vice versa. "
   ]
  },
  {
   "cell_type": "code",
   "execution_count": 84,
   "id": "cc282a34",
   "metadata": {},
   "outputs": [],
   "source": [
    "def replace_custom(test_string):\n",
    "    if \" \" in test_string:\n",
    "        return re.sub(\" \",\"_\", test_string)\n",
    "    else:\n",
    "        return re.sub(\"_\",\" \", test_string)\n",
    "        "
   ]
  },
  {
   "cell_type": "code",
   "execution_count": 85,
   "id": "365a1e59",
   "metadata": {},
   "outputs": [
    {
     "data": {
      "text/plain": [
       "'iNeuron_is_Tech_Company'"
      ]
     },
     "execution_count": 85,
     "metadata": {},
     "output_type": "execute_result"
    }
   ],
   "source": [
    "s1 = \"iNeuron is Tech Company\"\n",
    "replace_custom(s1)"
   ]
  },
  {
   "cell_type": "code",
   "execution_count": 86,
   "id": "ae0e5f10",
   "metadata": {},
   "outputs": [
    {
     "data": {
      "text/plain": [
       "'iNeuron is Tech Company'"
      ]
     },
     "execution_count": 86,
     "metadata": {},
     "output_type": "execute_result"
    }
   ],
   "source": [
    "s2 = \"iNeuron_is_Tech_Company\"\n",
    "replace_custom(s2)"
   ]
  },
  {
   "cell_type": "markdown",
   "id": "5104ad81",
   "metadata": {},
   "source": [
    "### 24. Write a Python program to extract year, month and date from a string. "
   ]
  },
  {
   "cell_type": "code",
   "execution_count": 87,
   "id": "a11b90cb",
   "metadata": {},
   "outputs": [],
   "source": [
    "def date_finder(test_string):\n",
    "    pattern = re.compile(r\"(\\d{4}[-/\\.]\\d{1,2}[-/\\.]\\d{1,2})|\\d{1,2}[-/\\.]\\d{1,2}[-/\\.]\\d{4}\")\n",
    "    matches = pattern.findall(test_string)\n",
    "    for match in matches:\n",
    "        print(match)"
   ]
  },
  {
   "cell_type": "code",
   "execution_count": 88,
   "id": "47a2553b",
   "metadata": {},
   "outputs": [
    {
     "name": "stdout",
     "output_type": "stream",
     "text": [
      "1999-09-04\n"
     ]
    }
   ],
   "source": [
    "s1 = \"My DOB is 1999-09-04 and i am 23 years old\"\n",
    "date_finder(s1)"
   ]
  },
  {
   "cell_type": "code",
   "execution_count": 89,
   "id": "e3d140ff",
   "metadata": {},
   "outputs": [
    {
     "name": "stdout",
     "output_type": "stream",
     "text": [
      "1999.09.04\n"
     ]
    }
   ],
   "source": [
    "s2 = \"My DOB is 1999.09.04 and i am 23 years old\"\n",
    "date_finder(s2)"
   ]
  },
  {
   "cell_type": "code",
   "execution_count": 90,
   "id": "a867132e",
   "metadata": {},
   "outputs": [
    {
     "name": "stdout",
     "output_type": "stream",
     "text": [
      "1999/09/04\n"
     ]
    }
   ],
   "source": [
    "s3 = \"My DOB is 1999/09/04 and i am 23 years old\"\n",
    "date_finder(s3)"
   ]
  },
  {
   "cell_type": "markdown",
   "id": "ab460026",
   "metadata": {},
   "source": [
    "### 25. Write a Python program to convert a date of yyyy-mm-dd format to dd-mm-yyyy format."
   ]
  },
  {
   "cell_type": "code",
   "execution_count": 91,
   "id": "b3ebe35a",
   "metadata": {},
   "outputs": [],
   "source": [
    "def date_changer(test_string):\n",
    "    pattern = re.compile(r\"(\\d{4})[-/\\.](\\d{1,2})[-/\\.](\\d{1,2})\")\n",
    "    return pattern.sub(r\"\\3-\\2-\\1\", test_string)"
   ]
  },
  {
   "cell_type": "code",
   "execution_count": 92,
   "id": "d377ae33",
   "metadata": {},
   "outputs": [
    {
     "data": {
      "text/plain": [
       "'My DOB is 04-09-1999 and i am 23 years old'"
      ]
     },
     "execution_count": 92,
     "metadata": {},
     "output_type": "execute_result"
    }
   ],
   "source": [
    "s1 = \"My DOB is 1999-09-04 and i am 23 years old\"\n",
    "date_changer(s1)"
   ]
  },
  {
   "cell_type": "code",
   "execution_count": 93,
   "id": "58ce68af",
   "metadata": {},
   "outputs": [
    {
     "data": {
      "text/plain": [
       "'My DOB is 04-09-1999 and i am 23 years old'"
      ]
     },
     "execution_count": 93,
     "metadata": {},
     "output_type": "execute_result"
    }
   ],
   "source": [
    "s2 = \"My DOB is 1999.09.04 and i am 23 years old\"\n",
    "date_changer(s2)"
   ]
  },
  {
   "cell_type": "code",
   "execution_count": 94,
   "id": "3f6afce8",
   "metadata": {},
   "outputs": [
    {
     "data": {
      "text/plain": [
       "'My DOB is 04-09-1999 and i am 23 years old'"
      ]
     },
     "execution_count": 94,
     "metadata": {},
     "output_type": "execute_result"
    }
   ],
   "source": [
    "s3 = \"My DOB is 1999/09/04 and i am 23 years old\"\n",
    "date_changer(s3)"
   ]
  },
  {
   "cell_type": "markdown",
   "id": "02e2e2cd",
   "metadata": {},
   "source": [
    "### 26. Write a Python program to match if two words from a list of words starting with letter 'P'."
   ]
  },
  {
   "cell_type": "code",
   "execution_count": 95,
   "id": "fa0a44c0",
   "metadata": {},
   "outputs": [],
   "source": [
    "def letter_checker(test_string):\n",
    "    for word in test_string:\n",
    "            match = re.match(\"(P\\w+)\\W(P\\w+)\", word)\n",
    "            if match:\n",
    "                print(match.groups())"
   ]
  },
  {
   "cell_type": "code",
   "execution_count": 96,
   "id": "e0d75563",
   "metadata": {},
   "outputs": [
    {
     "name": "stdout",
     "output_type": "stream",
     "text": [
      "('Python', 'PHP')\n"
     ]
    }
   ],
   "source": [
    "l_word = [\"Python PHP\", \"Java JavaScript\", \"c c++\"]\n",
    "letter_checker(l_word)"
   ]
  },
  {
   "cell_type": "markdown",
   "id": "1eade1b9",
   "metadata": {},
   "source": [
    "### 27. Write a Python program to separate and print the numbers of a given string."
   ]
  },
  {
   "cell_type": "code",
   "execution_count": 97,
   "id": "ab6bacf8",
   "metadata": {},
   "outputs": [],
   "source": [
    "def custom_printer(test_string):\n",
    "    pattern = re.compile(r\"\\D+\")\n",
    "    matches = pattern.split(test_string)\n",
    "    for match in matches:\n",
    "        print(match)"
   ]
  },
  {
   "cell_type": "code",
   "execution_count": 98,
   "id": "be945e12",
   "metadata": {},
   "outputs": [
    {
     "name": "stdout",
     "output_type": "stream",
     "text": [
      "\n",
      "100\n",
      "20\n",
      "30\n",
      "40\n",
      "\n"
     ]
    }
   ],
   "source": [
    "s1 = \"My 100 favourite 20 course 30 is 40 Python\"\n",
    "custom_printer(s1)"
   ]
  },
  {
   "cell_type": "markdown",
   "id": "79488bff",
   "metadata": {},
   "source": [
    "### 28. Write a Python program to find all words starting with 'a' or 'e' in a given string."
   ]
  },
  {
   "cell_type": "code",
   "execution_count": 99,
   "id": "7c26664f",
   "metadata": {},
   "outputs": [],
   "source": [
    "def custom_matcher(test_string):\n",
    "    pattern = re.compile(r\"[ae]\\w+\")\n",
    "    matches = pattern.findall(test_string)\n",
    "    for match in matches:\n",
    "        print(match)"
   ]
  },
  {
   "cell_type": "code",
   "execution_count": 100,
   "id": "9088e42c",
   "metadata": {},
   "outputs": [
    {
     "name": "stdout",
     "output_type": "stream",
     "text": [
      "england\n",
      "engagged\n",
      "aine\n",
      "ar\n"
     ]
    }
   ],
   "source": [
    "s1 = \"england is engagged in russia-ukraine war\"\n",
    "custom_matcher(s1)"
   ]
  },
  {
   "cell_type": "markdown",
   "id": "9c7a0193",
   "metadata": {},
   "source": [
    "### 29. Write a Python program to separate and print the numbers and their position of a given string. "
   ]
  },
  {
   "cell_type": "code",
   "execution_count": 101,
   "id": "2844355d",
   "metadata": {},
   "outputs": [],
   "source": [
    "def custom_printer1(test_string):\n",
    "    pattern = re.compile(r\"\\d+\")\n",
    "    matches = pattern.finditer(test_string)\n",
    "    for match in matches:\n",
    "        start_num = match.start()\n",
    "        print(\"The number {} is found at index {}.\".format(match.group(), start_num))"
   ]
  },
  {
   "cell_type": "code",
   "execution_count": 102,
   "id": "d99fbbfa",
   "metadata": {},
   "outputs": [
    {
     "name": "stdout",
     "output_type": "stream",
     "text": [
      "The number 100 is found at index 3.\n",
      "The number 20 is found at index 17.\n",
      "The number 30 is found at index 27.\n",
      "The number 40 is found at index 33.\n"
     ]
    }
   ],
   "source": [
    "s1 = \"My 100 favourite 20 course 30 is 40 Python\"\n",
    "custom_printer1(s1)"
   ]
  },
  {
   "cell_type": "markdown",
   "id": "3dd860ab",
   "metadata": {},
   "source": [
    "### 30. Write a Python program to abbreviate 'Road' as 'Rd.' in a given string."
   ]
  },
  {
   "cell_type": "code",
   "execution_count": 103,
   "id": "8bfc98b1",
   "metadata": {},
   "outputs": [],
   "source": [
    "def abbreviator(test_string, word, rep_str):\n",
    "    pattern = re.compile(r\"{}$|^{}|{}\".format(word, word, word))\n",
    "    return pattern.sub(r\"{}\".format(rep_str), test_string)"
   ]
  },
  {
   "cell_type": "code",
   "execution_count": 104,
   "id": "ad64c303",
   "metadata": {},
   "outputs": [
    {
     "data": {
      "text/plain": [
       "'rd rd rd'"
      ]
     },
     "execution_count": 104,
     "metadata": {},
     "output_type": "execute_result"
    }
   ],
   "source": [
    "s1 = \"road road road\"\n",
    "abbreviator(s1, \"road\", \"rd\")"
   ]
  },
  {
   "cell_type": "code",
   "execution_count": 105,
   "id": "e1edf570",
   "metadata": {},
   "outputs": [
    {
     "data": {
      "text/plain": [
       "'My name is sam'"
      ]
     },
     "execution_count": 105,
     "metadata": {},
     "output_type": "execute_result"
    }
   ],
   "source": [
    "s2 = \"My name is samiksha\"\n",
    "abbreviator(s2, \"samiksha\", \"sam\")"
   ]
  },
  {
   "cell_type": "markdown",
   "id": "dc17e49c",
   "metadata": {},
   "source": [
    "### 31. Write a Python program to replace all occurrences of space, comma, or dot with a colon. "
   ]
  },
  {
   "cell_type": "code",
   "execution_count": 106,
   "id": "f8f350d6",
   "metadata": {},
   "outputs": [],
   "source": [
    "def replace_custom1(test_string):\n",
    "    pattern = re.compile(r\"[ \\.,]\")\n",
    "    return pattern.sub(\":\", test_string)"
   ]
  },
  {
   "cell_type": "code",
   "execution_count": 107,
   "id": "6b06b9be",
   "metadata": {},
   "outputs": [
    {
     "data": {
      "text/plain": [
       "'My:name:is:sampoorna::i:live:in:Nagaland:'"
      ]
     },
     "execution_count": 107,
     "metadata": {},
     "output_type": "execute_result"
    }
   ],
   "source": [
    "s1 = \"My name is sampoorna, i live in Nagaland.\"\n",
    "replace_custom1(s1)"
   ]
  },
  {
   "cell_type": "markdown",
   "id": "0b7a78ce",
   "metadata": {},
   "source": [
    "### 32. Write a Python program to replace maximum 2 occurrences of space, comma, or dot with a colon."
   ]
  },
  {
   "cell_type": "code",
   "execution_count": 108,
   "id": "c659b545",
   "metadata": {},
   "outputs": [],
   "source": [
    "def replace_custom1(test_string):\n",
    "    pattern = re.compile(r\"[ \\.,]\")\n",
    "    return pattern.sub(\":\", test_string, 2)"
   ]
  },
  {
   "cell_type": "code",
   "execution_count": 109,
   "id": "3af4d1d8",
   "metadata": {},
   "outputs": [
    {
     "data": {
      "text/plain": [
       "'My:name:is sampoorna, i live in Nagaland.'"
      ]
     },
     "execution_count": 109,
     "metadata": {},
     "output_type": "execute_result"
    }
   ],
   "source": [
    "s1 = \"My name is sampoorna, i live in Nagaland.\"\n",
    "replace_custom1(s1)"
   ]
  },
  {
   "cell_type": "markdown",
   "id": "d036c71d",
   "metadata": {},
   "source": [
    "### 33. Write a Python program to find all five characters long word in a string."
   ]
  },
  {
   "cell_type": "code",
   "execution_count": 110,
   "id": "dd76be0e",
   "metadata": {},
   "outputs": [],
   "source": [
    "def word_finder(test_string):\n",
    "    pattern = re.compile(r\"\\b\\w{5}\\b\")\n",
    "    matches = pattern.findall(test_string)\n",
    "    for match in matches:\n",
    "        print(match)"
   ]
  },
  {
   "cell_type": "code",
   "execution_count": 111,
   "id": "f32c30f1",
   "metadata": {},
   "outputs": [
    {
     "name": "stdout",
     "output_type": "stream",
     "text": [
      "among\n",
      "teams\n",
      "world\n"
     ]
    }
   ],
   "source": [
    "s1 = \"Uinted States basketball team is best among all the teams in the world\"\n",
    "word_finder(s1)"
   ]
  },
  {
   "cell_type": "markdown",
   "id": "eda8c253",
   "metadata": {},
   "source": [
    "### 34. Write a Python program to find all three, four, five characters long words in a string. "
   ]
  },
  {
   "cell_type": "code",
   "execution_count": 112,
   "id": "0c3b92da",
   "metadata": {},
   "outputs": [],
   "source": [
    "def word_finder1(test_string):\n",
    "    pattern = re.compile(r\"\\b\\w{3,5}\\b\")\n",
    "    matches = pattern.findall(test_string)\n",
    "    for match in matches:\n",
    "        print(match)"
   ]
  },
  {
   "cell_type": "code",
   "execution_count": 113,
   "id": "3fbefcbb",
   "metadata": {},
   "outputs": [
    {
     "name": "stdout",
     "output_type": "stream",
     "text": [
      "team\n",
      "best\n",
      "the\n",
      "world\n"
     ]
    }
   ],
   "source": [
    "s1 = \"Uinted States basketball team is best in the world\"\n",
    "word_finder1(s1)"
   ]
  },
  {
   "cell_type": "markdown",
   "id": "b9894c35",
   "metadata": {},
   "source": [
    "### 35. Write a Python program to find all words which are at least 4 characters long in a string."
   ]
  },
  {
   "cell_type": "code",
   "execution_count": 114,
   "id": "5510bc7f",
   "metadata": {},
   "outputs": [],
   "source": [
    "def word_finder2(test_string):\n",
    "    pattern = re.compile(r\"\\b\\w{4,}\\b\")\n",
    "    matches = pattern.findall(test_string)\n",
    "    for match in matches:\n",
    "        print(match)"
   ]
  },
  {
   "cell_type": "code",
   "execution_count": 115,
   "id": "850dd610",
   "metadata": {},
   "outputs": [
    {
     "name": "stdout",
     "output_type": "stream",
     "text": [
      "Uinted\n",
      "States\n",
      "basketball\n",
      "team\n",
      "best\n",
      "world\n"
     ]
    }
   ],
   "source": [
    "s1 = \"Uinted States basketball team is best in the world\"\n",
    "word_finder2(s1)"
   ]
  },
  {
   "cell_type": "markdown",
   "id": "56b258fc",
   "metadata": {},
   "source": [
    "### 36. Write a python program to convert camel case string to snake case string."
   ]
  },
  {
   "cell_type": "code",
   "execution_count": 116,
   "id": "d00bfcbf",
   "metadata": {},
   "outputs": [],
   "source": [
    "def camel_to_snake(test_string):\n",
    "    pattern = re.compile(r\"(.)([A-Z][a-z]+)\")\n",
    "    pattern1 = re.compile(r\"([a-z0-9])([A-Z])\")\n",
    "    intermediate = re.sub(pattern, r\"\\1_\\2\", test_string)\n",
    "    return re.sub(pattern1, r\"\\1_\\2\", intermediate).lower()"
   ]
  },
  {
   "cell_type": "code",
   "execution_count": 117,
   "id": "3bad7206",
   "metadata": {},
   "outputs": [
    {
     "data": {
      "text/plain": [
       "'my_class class_name'"
      ]
     },
     "execution_count": 117,
     "metadata": {},
     "output_type": "execute_result"
    }
   ],
   "source": [
    "s1 = \"myClass className\"\n",
    "camel_to_snake(s1)"
   ]
  },
  {
   "cell_type": "markdown",
   "id": "5484c31c",
   "metadata": {},
   "source": [
    "### 37. Write a python program to convert snake case string to camel case string."
   ]
  },
  {
   "cell_type": "code",
   "execution_count": 163,
   "id": "213e8423",
   "metadata": {},
   "outputs": [],
   "source": [
    "def snake_to_camel(test_string):\n",
    "    splits_new = []\n",
    "    test_string = test_string.replace(\" \", \"_\")\n",
    "    splits = test_string.split(\"_\")\n",
    "    for i in splits:\n",
    "        if i != splits[0]:\n",
    "            splits_new.append(i.capitalize())\n",
    "    splits_new.insert(0, splits[0])\n",
    "    camelcase = \"\".join(i for i in splits_new)\n",
    "        \n",
    "    return camelcase"
   ]
  },
  {
   "cell_type": "code",
   "execution_count": 164,
   "id": "19698dcd",
   "metadata": {},
   "outputs": [
    {
     "data": {
      "text/plain": [
       "'myClassClassName'"
      ]
     },
     "execution_count": 164,
     "metadata": {},
     "output_type": "execute_result"
    }
   ],
   "source": [
    "s2= \"my_class class_name\"\n",
    "snake_to_camel(s2)"
   ]
  },
  {
   "cell_type": "markdown",
   "id": "5b67fe94",
   "metadata": {},
   "source": [
    "### 38. Write a Python program to extract values between quotation marks of a string."
   ]
  },
  {
   "cell_type": "code",
   "execution_count": 6,
   "id": "5309e649",
   "metadata": {},
   "outputs": [],
   "source": [
    "def word_extractor1(test_string):\n",
    "    pattern = re.compile(r\"'(.*?)'\")\n",
    "    matches = pattern.findall(test_string)\n",
    "    for match in matches:\n",
    "        print(match)"
   ]
  },
  {
   "cell_type": "code",
   "execution_count": 7,
   "id": "d0a41471",
   "metadata": {},
   "outputs": [
    {
     "name": "stdout",
     "output_type": "stream",
     "text": [
      "ramesh\n",
      "suresh\n",
      "kamlesh\n"
     ]
    }
   ],
   "source": [
    "s1 = \"'ramesh','suresh','kamlesh'\"\n",
    "word_extractor1(s1)"
   ]
  },
  {
   "cell_type": "code",
   "execution_count": 11,
   "id": "28dd7ded",
   "metadata": {},
   "outputs": [],
   "source": [
    "def word_extractor2(test_string):\n",
    "    pattern = re.compile(r'\"(.*?)\"')\n",
    "    matches = pattern.findall(test_string)\n",
    "    for match in matches:\n",
    "        print(match)"
   ]
  },
  {
   "cell_type": "code",
   "execution_count": 12,
   "id": "1a8770e6",
   "metadata": {},
   "outputs": [
    {
     "name": "stdout",
     "output_type": "stream",
     "text": [
      "ramesh\n",
      "suresh\n",
      "kamlesh\n"
     ]
    }
   ],
   "source": [
    "s1 = '\"ramesh\",\"suresh\",\"kamlesh\"'\n",
    "word_extractor2(s1)"
   ]
  },
  {
   "cell_type": "markdown",
   "id": "43f63aa9",
   "metadata": {},
   "source": [
    "### 39. Write a Python program to remove multiple spaces in a string."
   ]
  },
  {
   "cell_type": "code",
   "execution_count": 13,
   "id": "ed0af6a5",
   "metadata": {},
   "outputs": [],
   "source": [
    "def whitespace_remover(test_string):\n",
    "    pattern = re.compile(r\" +\")\n",
    "    return pattern.sub(\" \", test_string)"
   ]
  },
  {
   "cell_type": "code",
   "execution_count": 14,
   "id": "2640d696",
   "metadata": {},
   "outputs": [
    {
     "data": {
      "text/plain": [
       "'my name is Smarnika'"
      ]
     },
     "execution_count": 14,
     "metadata": {},
     "output_type": "execute_result"
    }
   ],
   "source": [
    "s1 = \"my      name    is     Smarnika\"\n",
    "whitespace_remover(s1)"
   ]
  },
  {
   "cell_type": "markdown",
   "id": "aac81de1",
   "metadata": {},
   "source": [
    "### 40. Write a Python program to remove all whitespaces from a string. "
   ]
  },
  {
   "cell_type": "code",
   "execution_count": 2,
   "id": "601832a7",
   "metadata": {},
   "outputs": [],
   "source": [
    "def all_space_remover(test_string):\n",
    "    pattern = re.compile(r\" {0,}\")\n",
    "    return pattern.sub(\"\", test_string)"
   ]
  },
  {
   "cell_type": "code",
   "execution_count": 3,
   "id": "c3098ae6",
   "metadata": {},
   "outputs": [
    {
     "data": {
      "text/plain": [
       "'mynameisSmarnika'"
      ]
     },
     "execution_count": 3,
     "metadata": {},
     "output_type": "execute_result"
    }
   ],
   "source": [
    "s1 = \"my name is Smarnika\"\n",
    "all_space_remover(s1)"
   ]
  },
  {
   "cell_type": "markdown",
   "id": "04abfd17",
   "metadata": {},
   "source": [
    "### 41. Write a Python program to remove everything except alphanumeric characters from a string."
   ]
  },
  {
   "cell_type": "code",
   "execution_count": 8,
   "id": "29bdda9c",
   "metadata": {},
   "outputs": [],
   "source": [
    "def custom_remover_everything(test_string):\n",
    "    pattern = re.compile(r\"[\\W_]+\")\n",
    "    return pattern.sub(\"\", test_string)"
   ]
  },
  {
   "cell_type": "code",
   "execution_count": 11,
   "id": "d6e79d8d",
   "metadata": {},
   "outputs": [
    {
     "data": {
      "text/plain": [
       "'mynameisSmarnika384728397'"
      ]
     },
     "execution_count": 11,
     "metadata": {},
     "output_type": "execute_result"
    }
   ],
   "source": [
    "s1 = \"**??my name is__ Smarnika___384728397??**\"\n",
    "custom_remover_everything(s1)"
   ]
  },
  {
   "cell_type": "markdown",
   "id": "c7f6ceba",
   "metadata": {},
   "source": [
    "### 42. Write a Python program to find urls in a string. "
   ]
  },
  {
   "cell_type": "code",
   "execution_count": 12,
   "id": "edd71a57",
   "metadata": {},
   "outputs": [],
   "source": [
    "def url_extractor(test_string):\n",
    "    pattern = re.compile(r\"http[s]?://(?:[a-zA-Z]|[0-9]|[$-_@.&+]|[!*\\(\\),]|(?:%[0-9a-fA-F][0-9a-fA-F]))+\")\n",
    "    return pattern.findall(test_string)"
   ]
  },
  {
   "cell_type": "code",
   "execution_count": 16,
   "id": "3da81262",
   "metadata": {},
   "outputs": [
    {
     "data": {
      "text/plain": [
       "['https://www.pavithran.net/disha-publication-books-pdf/',\n",
       " 'https://nicsdtcnagpur.swagatam.gov.in/PublicSite/Login.aspx']"
      ]
     },
     "execution_count": 16,
     "metadata": {},
     "output_type": "execute_result"
    }
   ],
   "source": [
    "s1 = \"https://www.pavithran.net/disha-publication-books-pdf/ https://nicsdtcnagpur.swagatam.gov.in/PublicSite/Login.aspx\"\n",
    "url_extractor(s1)"
   ]
  },
  {
   "cell_type": "markdown",
   "id": "4fff7687",
   "metadata": {},
   "source": [
    "### 43. Write a Python program to split a string at uppercase letters. "
   ]
  },
  {
   "cell_type": "code",
   "execution_count": 17,
   "id": "1749f4f5",
   "metadata": {},
   "outputs": [],
   "source": [
    "def upper_split(test_string):\n",
    "    pattern = re.compile(r\"[A-Z][^A-Z]*\")\n",
    "    return pattern.findall(test_string)"
   ]
  },
  {
   "cell_type": "code",
   "execution_count": 19,
   "id": "fc785471",
   "metadata": {},
   "outputs": [
    {
     "data": {
      "text/plain": [
       "['My', 'Name', 'Is', 'Mr.', 'T']"
      ]
     },
     "execution_count": 19,
     "metadata": {},
     "output_type": "execute_result"
    }
   ],
   "source": [
    "s1 = \"MyNameIsMr.T\"\n",
    "upper_split(s1)"
   ]
  },
  {
   "cell_type": "markdown",
   "id": "48d323a2",
   "metadata": {},
   "source": [
    "### 44. Write a Python program to do a case-insensitive string replacement. "
   ]
  },
  {
   "cell_type": "code",
   "execution_count": 24,
   "id": "38c0ea98",
   "metadata": {},
   "outputs": [],
   "source": [
    "def case_insensitive_replacement(test_string, word, replace_word):\n",
    "    pattern = re.compile(r\"{}\".format(word), re.IGNORECASE) \n",
    "    return pattern.sub(replace_word, test_string)"
   ]
  },
  {
   "cell_type": "code",
   "execution_count": 25,
   "id": "119089e0",
   "metadata": {},
   "outputs": [
    {
     "data": {
      "text/plain": [
       "'Hello Planet'"
      ]
     },
     "execution_count": 25,
     "metadata": {},
     "output_type": "execute_result"
    }
   ],
   "source": [
    "s1 = \"Hello World\"\n",
    "case_insensitive_replacement(s1, \"world\", \"Planet\")"
   ]
  },
  {
   "cell_type": "markdown",
   "id": "e0a40eee",
   "metadata": {},
   "source": [
    "### 45. Write a Python program to remove the ANSI escape sequences from a string."
   ]
  },
  {
   "cell_type": "code",
   "execution_count": 26,
   "id": "5596e57b",
   "metadata": {},
   "outputs": [],
   "source": [
    "def remove_ANSI_escape_sequence(test_string):\n",
    "    pattern = re.compile(r'\\x1b[^m]*m')\n",
    "    return pattern.sub(\"\", test_string)"
   ]
  },
  {
   "cell_type": "code",
   "execution_count": 27,
   "id": "255970e8",
   "metadata": {},
   "outputs": [
    {
     "data": {
      "text/plain": [
       "'\\tgoogle.com 216.58.218.206'"
      ]
     },
     "execution_count": 27,
     "metadata": {},
     "output_type": "execute_result"
    }
   ],
   "source": [
    "s1 = \"\\t\\u001b[0;35mgoogle.com\\u001b[0m \\u001b[0;36m216.58.218.206\\u001b[0m\"\n",
    "remove_ANSI_escape_sequence(s1)"
   ]
  },
  {
   "cell_type": "markdown",
   "id": "884f2f08",
   "metadata": {},
   "source": [
    "### 46. Write a Python program to find all adverbs and their positions in a given sentence."
   ]
  },
  {
   "cell_type": "code",
   "execution_count": 37,
   "id": "367abc39",
   "metadata": {},
   "outputs": [],
   "source": [
    "def adverb_locator(test_string):\n",
    "    pattern = re.compile(r\"\\w+ly\")\n",
    "    matches = pattern.finditer(test_string)\n",
    "    for match in matches:\n",
    "        start_position = match.start()\n",
    "        end_position = match.end()\n",
    "        return \"Adverb: {}, position({}, {})\".format(match.group(), start_position, end_position)"
   ]
  },
  {
   "cell_type": "code",
   "execution_count": 38,
   "id": "bac285cf",
   "metadata": {},
   "outputs": [
    {
     "data": {
      "text/plain": [
       "'Adverb: early, position(18, 23)'"
      ]
     },
     "execution_count": 38,
     "metadata": {},
     "output_type": "execute_result"
    }
   ],
   "source": [
    "s1 = \"My friend arrived early\"\n",
    "adverb_locator(s1)"
   ]
  },
  {
   "cell_type": "markdown",
   "id": "b1bc490b",
   "metadata": {},
   "source": [
    "### 47. Write a Python program to split a string with multiple delimiters.\n",
    "**Note : A delimiter is a sequence of one or more characters used to specify the boundary between separate, independent regions in plain text or other data streams. An example of a delimiter is the comma character, which acts as a field delimiter in a sequence of comma-separated values.**"
   ]
  },
  {
   "cell_type": "code",
   "execution_count": 43,
   "id": "cbe2ecf4",
   "metadata": {},
   "outputs": [],
   "source": [
    "def split_at_delimiter(test_string):\n",
    "    pattern = re.compile(r\"; |,|:|\\*|\\n\")\n",
    "    return pattern.split(test_string)"
   ]
  },
  {
   "cell_type": "code",
   "execution_count": 45,
   "id": "31a515fb",
   "metadata": {},
   "outputs": [
    {
     "data": {
      "text/plain": [
       "['Stephen', ' curry', 'is ', 'best shooter', 'in NBA']"
      ]
     },
     "execution_count": 45,
     "metadata": {},
     "output_type": "execute_result"
    }
   ],
   "source": [
    "s1 = \"Stephen, curry:is \\nbest shooter; in NBA\"\n",
    "split_at_delimiter(s1)"
   ]
  },
  {
   "cell_type": "markdown",
   "id": "cc748d49",
   "metadata": {},
   "source": [
    "### 48. Write a Python program to check a decimal with a precision of 2."
   ]
  },
  {
   "cell_type": "code",
   "execution_count": 47,
   "id": "ad0aebef",
   "metadata": {},
   "outputs": [],
   "source": [
    "def decimal_checker(test_string):\n",
    "    pattern = re.compile(r\"^[0-9]*(\\.[0-9]{1,2})$\")\n",
    "    return bool(pattern.search(test_string))"
   ]
  },
  {
   "cell_type": "code",
   "execution_count": 52,
   "id": "fe64b712",
   "metadata": {},
   "outputs": [
    {
     "data": {
      "text/plain": [
       "True"
      ]
     },
     "execution_count": 52,
     "metadata": {},
     "output_type": "execute_result"
    }
   ],
   "source": [
    "s1 = \"123.23\"\n",
    "decimal_checker(s1)"
   ]
  },
  {
   "cell_type": "code",
   "execution_count": 53,
   "id": "ea966964",
   "metadata": {},
   "outputs": [
    {
     "data": {
      "text/plain": [
       "True"
      ]
     },
     "execution_count": 53,
     "metadata": {},
     "output_type": "execute_result"
    }
   ],
   "source": [
    "s2 = \".23\"\n",
    "decimal_checker(s2)"
   ]
  },
  {
   "cell_type": "code",
   "execution_count": 54,
   "id": "d8dfae69",
   "metadata": {},
   "outputs": [
    {
     "data": {
      "text/plain": [
       "True"
      ]
     },
     "execution_count": 54,
     "metadata": {},
     "output_type": "execute_result"
    }
   ],
   "source": [
    "s3 = \"123.2\"\n",
    "decimal_checker(s3)"
   ]
  },
  {
   "cell_type": "code",
   "execution_count": 55,
   "id": "6f3579a6",
   "metadata": {},
   "outputs": [
    {
     "data": {
      "text/plain": [
       "False"
      ]
     },
     "execution_count": 55,
     "metadata": {},
     "output_type": "execute_result"
    }
   ],
   "source": [
    "s4 = \"123\"\n",
    "decimal_checker(s4)"
   ]
  },
  {
   "cell_type": "markdown",
   "id": "cc383e83",
   "metadata": {},
   "source": [
    "### 49. Write a Python program to remove words from a string of length between 1 and a given number."
   ]
  },
  {
   "cell_type": "code",
   "execution_count": 76,
   "id": "53e9c576",
   "metadata": {},
   "outputs": [],
   "source": [
    "def words_remover_custom(test_string):\n",
    "    pattern = re.compile(r\"\\W*\\b\\w{1,4}\\b\")\n",
    "    return pattern.sub(\"\", test_string)"
   ]
  },
  {
   "cell_type": "code",
   "execution_count": 78,
   "id": "3d62c271",
   "metadata": {},
   "outputs": [
    {
     "data": {
      "text/plain": [
       "' Smarinka Sahoo'"
      ]
     },
     "execution_count": 78,
     "metadata": {},
     "output_type": "execute_result"
    }
   ],
   "source": [
    "s1 = \"My name is Smarinka Sahoo\"\n",
    "words_remover_custom(s1)"
   ]
  },
  {
   "cell_type": "markdown",
   "id": "09125848",
   "metadata": {},
   "source": [
    "### 50. Write a Python program to remove the parenthesis area in a string. "
   ]
  },
  {
   "cell_type": "code",
   "execution_count": 8,
   "id": "2f878b2f",
   "metadata": {},
   "outputs": [],
   "source": [
    "def parenthesis_remover(test_string):\n",
    "    pattern = re.compile(r\" ?\\([^)]+\\)\")\n",
    "    return pattern.sub(\"\",test_string)"
   ]
  },
  {
   "cell_type": "code",
   "execution_count": 9,
   "id": "ef546264",
   "metadata": {},
   "outputs": [
    {
     "data": {
      "text/plain": [
       "'my name is'"
      ]
     },
     "execution_count": 9,
     "metadata": {},
     "output_type": "execute_result"
    }
   ],
   "source": [
    "s1 = \"my name is (smarnika)\"\n",
    "parenthesis_remover(s1)"
   ]
  },
  {
   "cell_type": "markdown",
   "id": "b7206938",
   "metadata": {},
   "source": [
    "### 51. Write a Python program to insert spaces between words starting with capital letters and convert output into sentence case."
   ]
  },
  {
   "cell_type": "code",
   "execution_count": 7,
   "id": "7427483d",
   "metadata": {},
   "outputs": [],
   "source": [
    "def insert_space_custom(test_string):\n",
    "    pattern = re.compile(r\"(\\w)([A-Z])\")\n",
    "    return pattern.sub(r\"\\1 \\2\", test_string).capitalize()"
   ]
  },
  {
   "cell_type": "code",
   "execution_count": 8,
   "id": "b0b13cdc",
   "metadata": {},
   "outputs": [
    {
     "data": {
      "text/plain": [
       "'My name is smarnika'"
      ]
     },
     "execution_count": 8,
     "metadata": {},
     "output_type": "execute_result"
    }
   ],
   "source": [
    "s1 = \"MyNameIsSmarnika\"\n",
    "insert_space_custom(s1)"
   ]
  }
 ],
 "metadata": {
  "kernelspec": {
   "display_name": "Python 3 (ipykernel)",
   "language": "python",
   "name": "python3"
  },
  "language_info": {
   "codemirror_mode": {
    "name": "ipython",
    "version": 3
   },
   "file_extension": ".py",
   "mimetype": "text/x-python",
   "name": "python",
   "nbconvert_exporter": "python",
   "pygments_lexer": "ipython3",
   "version": "3.9.12"
  }
 },
 "nbformat": 4,
 "nbformat_minor": 5
}
