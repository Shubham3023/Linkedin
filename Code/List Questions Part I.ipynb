{
 "cells": [
  {
   "cell_type": "markdown",
   "id": "a57f955c",
   "metadata": {},
   "source": [
    "# Questions on List PART I\n",
    "**Shubham Verma**\n",
    "\n",
    "**List Theory** https://lnkd.in/ezAmJb4U\n",
    "\n",
    "**Linkedin** https://www.linkedin.com/in/shubham-verma-3968a5119\n",
    "\n",
    "**GitHub** https://lnkd.in/gky-wyFJ\n",
    "\n",
    "**Credits** W3School for questions"
   ]
  },
  {
   "cell_type": "markdown",
   "id": "d96c8502",
   "metadata": {},
   "source": [
    "### 1. Write a Python program to sum all the items in a list."
   ]
  },
  {
   "cell_type": "code",
   "execution_count": 1,
   "id": "875c6f8f",
   "metadata": {},
   "outputs": [
    {
     "data": {
      "text/plain": [
       "45"
      ]
     },
     "execution_count": 1,
     "metadata": {},
     "output_type": "execute_result"
    }
   ],
   "source": [
    "l = [i for i in range(10)]\n",
    "def sum(input_list):\n",
    "    sum=0\n",
    "    for i in input_list:\n",
    "        sum += i\n",
    "    return sum\n",
    "sum(l)"
   ]
  },
  {
   "cell_type": "markdown",
   "id": "47b661b5",
   "metadata": {},
   "source": [
    "### 2. Write a Python program to multiply all the items in a list."
   ]
  },
  {
   "cell_type": "code",
   "execution_count": 3,
   "id": "b262b9c5",
   "metadata": {},
   "outputs": [
    {
     "data": {
      "text/plain": [
       "362880"
      ]
     },
     "execution_count": 3,
     "metadata": {},
     "output_type": "execute_result"
    }
   ],
   "source": [
    "l = [i for i in range(1,10)]\n",
    "def multiply(input_list):\n",
    "    product=1\n",
    "    for i in input_list:\n",
    "        product *= i\n",
    "    return product\n",
    "multiply(l)"
   ]
  },
  {
   "cell_type": "markdown",
   "id": "0110a5d6",
   "metadata": {},
   "source": [
    "### 3. Write a Python program to get the largest number from a list."
   ]
  },
  {
   "cell_type": "code",
   "execution_count": 7,
   "id": "76750f56",
   "metadata": {},
   "outputs": [
    {
     "data": {
      "text/plain": [
       "123456"
      ]
     },
     "execution_count": 7,
     "metadata": {},
     "output_type": "execute_result"
    }
   ],
   "source": [
    "l = [8,7213,12414,987,123456,343]\n",
    "def largest_number(input_list):\n",
    "    return sorted(input_list)[len(input_list)-1]\n",
    "largest_number(l)"
   ]
  },
  {
   "cell_type": "markdown",
   "id": "96eb2f80",
   "metadata": {},
   "source": [
    "### 4. Write a Python program to get the smallest number from a list."
   ]
  },
  {
   "cell_type": "code",
   "execution_count": 9,
   "id": "218f1375",
   "metadata": {},
   "outputs": [
    {
     "data": {
      "text/plain": [
       "8"
      ]
     },
     "execution_count": 9,
     "metadata": {},
     "output_type": "execute_result"
    }
   ],
   "source": [
    "l = [8,7213,12414,987,123456,343]\n",
    "def smallest_number(input_list):\n",
    "    return sorted(input_list)[0]\n",
    "smallest_number(l)"
   ]
  },
  {
   "cell_type": "markdown",
   "id": "31ec4ae5",
   "metadata": {},
   "source": [
    "### 5. Write a Python program to count the number of strings where the string length is 2 or more and the first and last character are same from a given list of strings. "
   ]
  },
  {
   "cell_type": "code",
   "execution_count": 10,
   "id": "b95c62ff",
   "metadata": {},
   "outputs": [
    {
     "data": {
      "text/plain": [
       "2"
      ]
     },
     "execution_count": 10,
     "metadata": {},
     "output_type": "execute_result"
    }
   ],
   "source": [
    "l_string = ['abc', 'xyz', 'aba', '1221']\n",
    "def custom_string_count(input_list):\n",
    "    count = 0\n",
    "    for string in input_list:\n",
    "        if len(string)>=2 and string[0] == string[-1]:\n",
    "            count += 1\n",
    "    return count\n",
    "custom_string_count(l_string)"
   ]
  },
  {
   "cell_type": "markdown",
   "id": "73731e25",
   "metadata": {},
   "source": [
    "### 6. Write a Python program to get a list, sorted in increasing order by the last element in each tuple from a given list of non-empty tuples."
   ]
  },
  {
   "cell_type": "code",
   "execution_count": 12,
   "id": "d0c74c4f",
   "metadata": {},
   "outputs": [
    {
     "data": {
      "text/plain": [
       "[(2, 1), (1, 2), (2, 3), (4, 4), (2, 5)]"
      ]
     },
     "execution_count": 12,
     "metadata": {},
     "output_type": "execute_result"
    }
   ],
   "source": [
    "l_sample = [(2, 5), (1, 2), (4, 4), (2, 3), (2, 1)]\n",
    "def sort_custom(input_list):\n",
    "    return sorted(input_list, key=lambda x : x[1])\n",
    "\n",
    "sort_custom(l_sample)"
   ]
  },
  {
   "cell_type": "markdown",
   "id": "69821b28",
   "metadata": {},
   "source": [
    "### 7. Write a Python program to remove duplicates from a list."
   ]
  },
  {
   "cell_type": "code",
   "execution_count": 13,
   "id": "a5d7b04a",
   "metadata": {},
   "outputs": [
    {
     "data": {
      "text/plain": [
       "[0, 1, 2, 3, 4, 99, 6, 7, 8, 9, 87, 55]"
      ]
     },
     "execution_count": 13,
     "metadata": {},
     "output_type": "execute_result"
    }
   ],
   "source": [
    "l_sample=[1,1,2,2,3,4,4,55,6,6,7,87,8,9,99,0]\n",
    "def duplicate_remover(input_list):\n",
    "    return list(set(input_list))\n",
    "\n",
    "duplicate_remover(l_sample)"
   ]
  },
  {
   "cell_type": "markdown",
   "id": "f2da861b",
   "metadata": {},
   "source": [
    "### 8. Write a Python program to check a list is empty or not. "
   ]
  },
  {
   "cell_type": "code",
   "execution_count": 14,
   "id": "9ae84aa1",
   "metadata": {},
   "outputs": [
    {
     "data": {
      "text/plain": [
       "'Input list is not empty'"
      ]
     },
     "execution_count": 14,
     "metadata": {},
     "output_type": "execute_result"
    }
   ],
   "source": [
    "l_empty = []\n",
    "l_sample = [1,\"shubham\"]\n",
    "def list_checker_len(input_list):\n",
    "    if len(input_list) == 0:\n",
    "        return \"Input list is empty\"\n",
    "    else:\n",
    "        return \"Input list is not empty\"\n",
    "    \n",
    "list_checker_len(l_sample)"
   ]
  },
  {
   "cell_type": "code",
   "execution_count": 15,
   "id": "1495e844",
   "metadata": {},
   "outputs": [
    {
     "data": {
      "text/plain": [
       "'Input list is empty'"
      ]
     },
     "execution_count": 15,
     "metadata": {},
     "output_type": "execute_result"
    }
   ],
   "source": [
    "list_checker_len(l_empty)"
   ]
  },
  {
   "cell_type": "markdown",
   "id": "a324ef95",
   "metadata": {},
   "source": [
    "### 9. Write a Python program to find the list of words that are longer than n from a given list of words. "
   ]
  },
  {
   "cell_type": "code",
   "execution_count": 16,
   "id": "7016b616",
   "metadata": {},
   "outputs": [
    {
     "data": {
      "text/plain": [
       "['data', 'science', 'enthusiast']"
      ]
     },
     "execution_count": 16,
     "metadata": {},
     "output_type": "execute_result"
    }
   ],
   "source": [
    "def custom_word_length(input_list, length_of_word):\n",
    "    l = []\n",
    "    for word in input_list:\n",
    "        if len(word) > length_of_word:\n",
    "            l.append(word)\n",
    "    return l\n",
    "\n",
    "list_sample = ['i', 'am', 'a', 'data', 'science', 'enthusiast']\n",
    "custom_word_length(list_sample,2)"
   ]
  },
  {
   "cell_type": "markdown",
   "id": "e1bcdac6",
   "metadata": {},
   "source": [
    "### 10. Write a Python function that takes two lists and returns True if they have at least one common member."
   ]
  },
  {
   "cell_type": "code",
   "execution_count": 19,
   "id": "211abd58",
   "metadata": {},
   "outputs": [
    {
     "data": {
      "text/plain": [
       "'True'"
      ]
     },
     "execution_count": 19,
     "metadata": {},
     "output_type": "execute_result"
    }
   ],
   "source": [
    "l1 = [1,2,3,4,55]\n",
    "l2 = [2,3,5,6,7,8]\n",
    "l3 = [\"shub\",\"simran\"]\n",
    "\n",
    "def common_checker_lists(list1, list2):\n",
    "    count=0\n",
    "    for member in list1:\n",
    "        if member in list2:\n",
    "            count+=1\n",
    "    if count>0:\n",
    "        return \"True\"\n",
    "    else: \n",
    "        return \"False\"\n",
    "    \n",
    "common_checker_lists(l1,l2)"
   ]
  },
  {
   "cell_type": "code",
   "execution_count": 20,
   "id": "a736db23",
   "metadata": {},
   "outputs": [
    {
     "data": {
      "text/plain": [
       "'False'"
      ]
     },
     "execution_count": 20,
     "metadata": {},
     "output_type": "execute_result"
    }
   ],
   "source": [
    "common_checker_lists(l2,l3)"
   ]
  },
  {
   "cell_type": "markdown",
   "id": "f1bae569",
   "metadata": {},
   "source": [
    "### 11. Write a Python program to print a specified list after removing the 0th, 4th and 5th elements. "
   ]
  },
  {
   "cell_type": "code",
   "execution_count": 31,
   "id": "d0b5e0f0",
   "metadata": {},
   "outputs": [
    {
     "data": {
      "text/plain": [
       "['Green', 'White', 'Black']"
      ]
     },
     "execution_count": 31,
     "metadata": {},
     "output_type": "execute_result"
    }
   ],
   "source": [
    "list_colours = ['Red', 'Green', 'White', 'Black', 'Pink', 'Yellow']\n",
    "\n",
    "def element_remover_list(input_list, *index):\n",
    "    l=[]\n",
    "    for i in range(len(input_list)):\n",
    "        if i not in index:\n",
    "            l.append(input_list[i])\n",
    "    return l\n",
    "        \n",
    "element_remover_list(list_colours, 0,4,5)"
   ]
  },
  {
   "cell_type": "markdown",
   "id": "63b8445a",
   "metadata": {},
   "source": [
    "### 12. Write a Python program to print the numbers of a specified list after removing even numbers from it. "
   ]
  },
  {
   "cell_type": "code",
   "execution_count": 4,
   "id": "7f01e744",
   "metadata": {},
   "outputs": [
    {
     "data": {
      "text/plain": [
       "[1, 3, 5, 7, 9, 11, 13]"
      ]
     },
     "execution_count": 4,
     "metadata": {},
     "output_type": "execute_result"
    }
   ],
   "source": [
    "list_int= [i for i in range(15)]\n",
    "\n",
    "def even_remover(input_list):\n",
    "    l=[]\n",
    "    for i in input_list:\n",
    "        if i%2 !=0 and i != 0:\n",
    "            l.append(i)\n",
    "    return l\n",
    "\n",
    "even_remover(list_int)"
   ]
  },
  {
   "cell_type": "markdown",
   "id": "06ca3485",
   "metadata": {},
   "source": [
    "### 13. Write a Python program to shuffle and print a specified list."
   ]
  },
  {
   "cell_type": "code",
   "execution_count": 30,
   "id": "34ee5dd5",
   "metadata": {},
   "outputs": [
    {
     "data": {
      "text/plain": [
       "[2, 3, 5, 7, 0, 9, 1, 8, 4, 6]"
      ]
     },
     "execution_count": 30,
     "metadata": {},
     "output_type": "execute_result"
    }
   ],
   "source": [
    "from random import shuffle\n",
    "l_int = [i for i in range(10)]\n",
    "\n",
    "def list_shuffle(input_list):\n",
    "    shuffle(input_list)\n",
    "    return input_list\n",
    "\n",
    "list_shuffle(l_int)"
   ]
  },
  {
   "cell_type": "markdown",
   "id": "65154714",
   "metadata": {},
   "source": [
    "### 14. Write a Python program to generate and print a list of first and last 5 elements square in range of numbers between 1 and 30 (both included)."
   ]
  },
  {
   "cell_type": "code",
   "execution_count": 32,
   "id": "00a47893",
   "metadata": {},
   "outputs": [
    {
     "data": {
      "text/plain": [
       "[1, 4, 9, 16, 25, 676, 729, 784, 841, 900]"
      ]
     },
     "execution_count": 32,
     "metadata": {},
     "output_type": "execute_result"
    }
   ],
   "source": [
    "lint = [i for i in range(1,31)]\n",
    "\n",
    "def custom_square(input_list):\n",
    "    l=[]\n",
    "    for i in input_list[:5]+input_list[-5:]:\n",
    "        l.append(i**2)\n",
    "    return l\n",
    "\n",
    "custom_square(lint)       "
   ]
  },
  {
   "cell_type": "markdown",
   "id": "f8a1c776",
   "metadata": {},
   "source": [
    "### 15. Write a Python program to generate all permutations of a list in Python."
   ]
  },
  {
   "cell_type": "code",
   "execution_count": 34,
   "id": "4e5897a9",
   "metadata": {},
   "outputs": [
    {
     "data": {
      "text/plain": [
       "[('Red', 'Yellow', 'Brown'),\n",
       " ('Red', 'Brown', 'Yellow'),\n",
       " ('Yellow', 'Red', 'Brown'),\n",
       " ('Yellow', 'Brown', 'Red'),\n",
       " ('Brown', 'Red', 'Yellow'),\n",
       " ('Brown', 'Yellow', 'Red')]"
      ]
     },
     "execution_count": 34,
     "metadata": {},
     "output_type": "execute_result"
    }
   ],
   "source": [
    "import itertools\n",
    "\n",
    "l=['Red', 'Yellow','Brown']\n",
    "\n",
    "def list_permutations(input_list):\n",
    "    return list(itertools.permutations(input_list))\n",
    "\n",
    "list_permutations(l)"
   ]
  },
  {
   "cell_type": "markdown",
   "id": "2be90e81",
   "metadata": {},
   "source": [
    "### 16.Write a Python program to get the difference between the two lists."
   ]
  },
  {
   "cell_type": "code",
   "execution_count": 8,
   "id": "4c2219ec",
   "metadata": {},
   "outputs": [
    {
     "data": {
      "text/plain": [
       "[1, 4, 55, 5, 5, 6, 7, 8]"
      ]
     },
     "execution_count": 8,
     "metadata": {},
     "output_type": "execute_result"
    }
   ],
   "source": [
    "l1 = [1,2,3,4,55]\n",
    "l2 = [2,3,5,5,6,7,8]\n",
    "l3 = [\"shub\",\"simran\"]\n",
    "l4 = ['simran',\"Shashank\",'shobit']\n",
    "\n",
    "def difference_bw_lists(list1, list2):\n",
    "    l=[]\n",
    "    for member in list1:\n",
    "        if member in list2:\n",
    "            pass\n",
    "        else:\n",
    "            l.append(member)\n",
    "    for member in list2:\n",
    "        if member in list1:\n",
    "            pass\n",
    "        else:\n",
    "            l.append(member)\n",
    "    return list(l)\n",
    "    \n",
    "difference_bw_lists(l1,l2)"
   ]
  },
  {
   "cell_type": "code",
   "execution_count": 7,
   "id": "f42c8df0",
   "metadata": {},
   "outputs": [
    {
     "data": {
      "text/plain": [
       "['shub', 'Shashank', 'shobit']"
      ]
     },
     "execution_count": 7,
     "metadata": {},
     "output_type": "execute_result"
    }
   ],
   "source": [
    "difference_bw_lists(l3,l4)"
   ]
  },
  {
   "cell_type": "markdown",
   "id": "7b87e92b",
   "metadata": {},
   "source": [
    "### 17.Write a Python program to get the difference between the two lists(without duplicates)."
   ]
  },
  {
   "cell_type": "code",
   "execution_count": 10,
   "id": "d4e42ca4",
   "metadata": {},
   "outputs": [
    {
     "data": {
      "text/plain": [
       "[1, 4, 5, 6, 7, 8, 55]"
      ]
     },
     "execution_count": 10,
     "metadata": {},
     "output_type": "execute_result"
    }
   ],
   "source": [
    "l1 = [1,2,3,4,55]\n",
    "l2 = [2,3,5,5,6,7,8]\n",
    "\n",
    "\n",
    "def difference_bw_lists1(list1, list2):\n",
    "    l=[]\n",
    "    for member in list1:\n",
    "        if member in list2:\n",
    "            pass\n",
    "        else:\n",
    "            l.append(member)\n",
    "    for member in list2:\n",
    "        if member in list1:\n",
    "            pass\n",
    "        else:\n",
    "            l.append(member)\n",
    "    return list(set(l))\n",
    "    \n",
    "difference_bw_lists1(l1,l2)"
   ]
  },
  {
   "cell_type": "markdown",
   "id": "847e74f1",
   "metadata": {},
   "source": [
    "### 18. Write a Python program access the index of a list. "
   ]
  },
  {
   "cell_type": "code",
   "execution_count": 13,
   "id": "c08b4cba",
   "metadata": {},
   "outputs": [
    {
     "data": {
      "text/plain": [
       "[0, 1, 2, 3, 4, 5]"
      ]
     },
     "execution_count": 13,
     "metadata": {},
     "output_type": "execute_result"
    }
   ],
   "source": [
    "l = ['Red', 'Green', 'White', 'Black', 'Pink', 'Yellow']\n",
    "\n",
    "def index_extractor(input_list):\n",
    "    return [i for i in range(len(input_list))]\n",
    "\n",
    "index_extractor(l)"
   ]
  },
  {
   "cell_type": "markdown",
   "id": "5bf46289",
   "metadata": {},
   "source": [
    "### 19. Write a Python program to convert a list of characters into a string."
   ]
  },
  {
   "cell_type": "code",
   "execution_count": 14,
   "id": "3faff825",
   "metadata": {},
   "outputs": [
    {
     "data": {
      "text/plain": [
       "'iNeuron'"
      ]
     },
     "execution_count": 14,
     "metadata": {},
     "output_type": "execute_result"
    }
   ],
   "source": [
    "l = [\"i\", \"N\", \"e\", \"u\", \"r\",\"o\",\"n\"]\n",
    "\n",
    "def list_char_to_string(input_list):\n",
    "    return \"\".join(input_list)\n",
    "\n",
    "list_char_to_string(l)"
   ]
  },
  {
   "cell_type": "markdown",
   "id": "a35428ca",
   "metadata": {},
   "source": [
    "### 20. Write a Python program to find the index of an item in a specified list. "
   ]
  },
  {
   "cell_type": "code",
   "execution_count": 28,
   "id": "4c2d6d2f",
   "metadata": {},
   "outputs": [
    {
     "data": {
      "text/plain": [
       "'index of Yellow is 5'"
      ]
     },
     "execution_count": 28,
     "metadata": {},
     "output_type": "execute_result"
    }
   ],
   "source": [
    "l = ['Red', 'Green', 'White', 'Black', 'Pink', 'Yellow']\n",
    "\n",
    "def specific_index_list(input_list, input_item):\n",
    "    count=-1\n",
    "    for i in input_list:\n",
    "        count+=1\n",
    "        if i == input_item:\n",
    "            break\n",
    "    return \"index of {} is {}\".format(input_item,count)\n",
    "\n",
    "specific_index_list(l,'Yellow')"
   ]
  },
  {
   "cell_type": "code",
   "execution_count": 29,
   "id": "d6627b9a",
   "metadata": {},
   "outputs": [
    {
     "data": {
      "text/plain": [
       "'index of Red is 0'"
      ]
     },
     "execution_count": 29,
     "metadata": {},
     "output_type": "execute_result"
    }
   ],
   "source": [
    "specific_index_list(l,'Red')"
   ]
  },
  {
   "cell_type": "markdown",
   "id": "ead79b32",
   "metadata": {},
   "source": [
    "### 21. Write a Python program to flatten a shallow list. "
   ]
  },
  {
   "cell_type": "code",
   "execution_count": 30,
   "id": "3bfebfda",
   "metadata": {},
   "outputs": [
    {
     "data": {
      "text/plain": [
       "[1, 2, 3, 4, 5, 6, 7, 8, 9]"
      ]
     },
     "execution_count": 30,
     "metadata": {},
     "output_type": "execute_result"
    }
   ],
   "source": [
    "list_shallow = [[1,2,3],[4,5,6],[7,8,9]]\n",
    "\n",
    "def list_flattner(input_list):\n",
    "    l=[]\n",
    "    for i in input_list:\n",
    "        l += i\n",
    "    return l\n",
    "\n",
    "list_flattner(list_shallow)"
   ]
  },
  {
   "cell_type": "markdown",
   "id": "4520d65b",
   "metadata": {},
   "source": [
    "### 22. Write a Python program to append a list to the second list."
   ]
  },
  {
   "cell_type": "code",
   "execution_count": 31,
   "id": "8a84a03e",
   "metadata": {},
   "outputs": [
    {
     "data": {
      "text/plain": [
       "[1, 2, 3, 45, 4, 44, 55, 66, 77, 88]"
      ]
     },
     "execution_count": 31,
     "metadata": {},
     "output_type": "execute_result"
    }
   ],
   "source": [
    "l1 = [1,2,3,45,4]\n",
    "l2 = [44,55,66,77,88]\n",
    "\n",
    "def list_appender(in_list1, in_list2):\n",
    "    return in_list1+in_list2\n",
    "\n",
    "list_appender(l1,l2)"
   ]
  },
  {
   "cell_type": "markdown",
   "id": "222fde7c",
   "metadata": {},
   "source": [
    "### 23. Write a Python program to select an item randomly from a list. "
   ]
  },
  {
   "cell_type": "code",
   "execution_count": 38,
   "id": "f624cfa1",
   "metadata": {},
   "outputs": [
    {
     "data": {
      "text/plain": [
       "'sameer'"
      ]
     },
     "execution_count": 38,
     "metadata": {},
     "output_type": "execute_result"
    }
   ],
   "source": [
    "import random\n",
    "\n",
    "list1 = [1,2,3,4,5,\"sameer\", \"samira\"]\n",
    "\n",
    "def item_random_list(input_list):\n",
    "    return random.choice(input_list)\n",
    "\n",
    "item_random_list(list1)"
   ]
  },
  {
   "cell_type": "markdown",
   "id": "2dc76be9",
   "metadata": {},
   "source": [
    "### 24.Write a Python program to find the second smallest number in a list. "
   ]
  },
  {
   "cell_type": "code",
   "execution_count": 40,
   "id": "01dd268b",
   "metadata": {},
   "outputs": [
    {
     "data": {
      "text/plain": [
       "2"
      ]
     },
     "execution_count": 40,
     "metadata": {},
     "output_type": "execute_result"
    }
   ],
   "source": [
    "l = [33,45,67,89,1,2,3,4,55,66,789]\n",
    "\n",
    "def second_smallest(input_list):\n",
    "    return sorted(input_list)[1]\n",
    "\n",
    "second_smallest(l)"
   ]
  },
  {
   "cell_type": "markdown",
   "id": "6dc6d6ce",
   "metadata": {},
   "source": [
    "### 25. Write a Python program to find the second largest number in a list."
   ]
  },
  {
   "cell_type": "code",
   "execution_count": 42,
   "id": "d5a11a59",
   "metadata": {},
   "outputs": [
    {
     "data": {
      "text/plain": [
       "686"
      ]
     },
     "execution_count": 42,
     "metadata": {},
     "output_type": "execute_result"
    }
   ],
   "source": [
    "l = [33,45,67,89,1,2,3,4,55,686,789]\n",
    "\n",
    "def second_largest(input_list):\n",
    "    return sorted(input_list, reverse=True)[1]\n",
    "\n",
    "second_largest(l)"
   ]
  },
  {
   "cell_type": "markdown",
   "id": "a922a081",
   "metadata": {},
   "source": [
    "### 26. Write a Python program to get unique values from a list."
   ]
  },
  {
   "cell_type": "code",
   "execution_count": 43,
   "id": "162370a8",
   "metadata": {},
   "outputs": [
    {
     "data": {
      "text/plain": [
       "[1, 2, 3, 4, 5, 6, 88]"
      ]
     },
     "execution_count": 43,
     "metadata": {},
     "output_type": "execute_result"
    }
   ],
   "source": [
    "l = [1,1,2,2,3,3,4,4,5,5,5,6,6,6,88]\n",
    "\n",
    "def list_unique(input_list):\n",
    "    return list(set(input_list))\n",
    "\n",
    "list_unique(l)"
   ]
  },
  {
   "cell_type": "markdown",
   "id": "d99b1a18",
   "metadata": {},
   "source": [
    "### 27. Write a Python program to get the frequency of the elements in a list."
   ]
  },
  {
   "cell_type": "code",
   "execution_count": 46,
   "id": "836529e1",
   "metadata": {},
   "outputs": [
    {
     "data": {
      "text/plain": [
       "[(1, 2), (2, 2), (3, 2), (4, 2), (5, 3), (6, 3), (88, 1)]"
      ]
     },
     "execution_count": 46,
     "metadata": {},
     "output_type": "execute_result"
    }
   ],
   "source": [
    "list1 = [1,1,2,2,3,3,4,4,5,5,5,6,6,6,88]\n",
    "\n",
    "def element_counter(input_list):\n",
    "    l = []\n",
    "    for i in set(input_list):\n",
    "        l.append((i, input_list.count(i)))\n",
    "    return l\n",
    "\n",
    "element_counter(list1)"
   ]
  },
  {
   "cell_type": "markdown",
   "id": "6ce32da0",
   "metadata": {},
   "source": [
    "### 28. Write a Python program to count the number of elements in a list within a specified range."
   ]
  },
  {
   "cell_type": "code",
   "execution_count": 49,
   "id": "7f1882eb",
   "metadata": {},
   "outputs": [
    {
     "data": {
      "text/plain": [
       "8"
      ]
     },
     "execution_count": 49,
     "metadata": {},
     "output_type": "execute_result"
    }
   ],
   "source": [
    "l = [1,2,3,4,5,6,7,8,9,10]\n",
    "\n",
    "def element_counter_range(input_list, start, end):\n",
    "    count = 0\n",
    "    for element in input_list:\n",
    "        if element > start and element < end:\n",
    "            count +=1\n",
    "    return count\n",
    "\n",
    "element_counter_range(l,1,10)"
   ]
  },
  {
   "cell_type": "markdown",
   "id": "c5cce0d2",
   "metadata": {},
   "source": [
    "### 29. Write a Python program to check whether a list contains a sublist."
   ]
  },
  {
   "cell_type": "code",
   "execution_count": 51,
   "id": "0f666ab2",
   "metadata": {},
   "outputs": [
    {
     "data": {
      "text/plain": [
       "'Sublist present inside the given list'"
      ]
     },
     "execution_count": 51,
     "metadata": {},
     "output_type": "execute_result"
    }
   ],
   "source": [
    "l= [[1,2,3],4,6,'shubham']\n",
    "l2 = [1,2,3,4,5,6]\n",
    "\n",
    "def sublist_checker(input_list):\n",
    "    for i in input_list:\n",
    "        if type(i) == list:\n",
    "            return \"Sublist present inside the given list\"\n",
    "        else:\n",
    "            return \"Sublist is not present inside the given list\"\n",
    "        \n",
    "sublist_checker(l)"
   ]
  },
  {
   "cell_type": "code",
   "execution_count": 52,
   "id": "5b1fdde0",
   "metadata": {},
   "outputs": [
    {
     "data": {
      "text/plain": [
       "'Sublist is not present inside the given list'"
      ]
     },
     "execution_count": 52,
     "metadata": {},
     "output_type": "execute_result"
    }
   ],
   "source": [
    "sublist_checker(l2)"
   ]
  },
  {
   "cell_type": "markdown",
   "id": "905ad2d4",
   "metadata": {},
   "source": [
    "### 30. Write a Python program to generate all sublists of a list."
   ]
  },
  {
   "cell_type": "code",
   "execution_count": 53,
   "id": "3bbf3d0b",
   "metadata": {},
   "outputs": [
    {
     "data": {
      "text/plain": [
       "[[],\n",
       " ['shubham'],\n",
       " ['sameer'],\n",
       " [1],\n",
       " [2],\n",
       " ['shubham', 'sameer'],\n",
       " ['shubham', 1],\n",
       " ['shubham', 2],\n",
       " ['sameer', 1],\n",
       " ['sameer', 2],\n",
       " [1, 2],\n",
       " ['shubham', 'sameer', 1],\n",
       " ['shubham', 'sameer', 2],\n",
       " ['shubham', 1, 2],\n",
       " ['sameer', 1, 2],\n",
       " ['shubham', 'sameer', 1, 2]]"
      ]
     },
     "execution_count": 53,
     "metadata": {},
     "output_type": "execute_result"
    }
   ],
   "source": [
    "list1 = [\"shubham\", \"sameer\",1,2]\n",
    "\n",
    "from itertools import combinations\n",
    "def sublist_finder(input_list):\n",
    "    l = []\n",
    "    for i in range(0, len(input_list)+1):\n",
    "        temp = [list(x) for x in combinations(input_list,i)]\n",
    "        if len(temp)>0:\n",
    "            l.extend(temp)\n",
    "    return l\n",
    "\n",
    "sublist_finder(list1)"
   ]
  },
  {
   "cell_type": "markdown",
   "id": "fb1b9cf7",
   "metadata": {},
   "source": [
    "### 31. Write a Python program to convert list to dictionary."
   ]
  },
  {
   "cell_type": "code",
   "execution_count": 57,
   "id": "c15130f2",
   "metadata": {},
   "outputs": [
    {
     "data": {
      "text/plain": [
       "{'Shubham': 'Kumar', 'Krish': 'Kumar', 'Sudhanshu': 'Kumar'}"
      ]
     },
     "execution_count": 57,
     "metadata": {},
     "output_type": "execute_result"
    }
   ],
   "source": [
    "name = [\"Shubham\", \"Krish\", \"Sudhanshu\"]\n",
    "surname = [\"Verma\",\"Naik\",\"Kumar\"]\n",
    "\n",
    "def list_to_dict(in_l1,in_l2):\n",
    "    d = {}\n",
    "    for key in in_l1:\n",
    "        for value in in_l2:\n",
    "            d[key] = value\n",
    "    return d\n",
    "\n",
    "list_to_dict(name, surname)        "
   ]
  },
  {
   "cell_type": "markdown",
   "id": "1440e75a",
   "metadata": {},
   "source": [
    "### 32. Write a Python program to create a list by concatenating a given list which range goes from 1 to n. "
   ]
  },
  {
   "cell_type": "code",
   "execution_count": 60,
   "id": "f6f634b5",
   "metadata": {},
   "outputs": [
    {
     "data": {
      "text/plain": [
       "['india 1', 'india 2', 'india 3', 'russia 1', 'russia 2', 'russia 3']"
      ]
     },
     "execution_count": 60,
     "metadata": {},
     "output_type": "execute_result"
    }
   ],
   "source": [
    "list1 = ['india','russia']\n",
    "\n",
    "def list_custom(input_list,n):\n",
    "    return [\"{} {}\".format(a,b) for a in input_list for b in range(1,n+1) ]\n",
    "\n",
    "list_custom(list1,3)"
   ]
  },
  {
   "cell_type": "markdown",
   "id": "30e27720",
   "metadata": {},
   "source": [
    "### 33. Write a Python program to sort a list of nested dictionaries. "
   ]
  },
  {
   "cell_type": "code",
   "execution_count": 82,
   "id": "44dcc870",
   "metadata": {},
   "outputs": [
    {
     "data": {
      "text/plain": [
       "[{'Name': {'Surname': 2}}, {'Name': {'Surname': 3}}, {'Name': {'Surname': 99}}]"
      ]
     },
     "execution_count": 82,
     "metadata": {},
     "output_type": "execute_result"
    }
   ],
   "source": [
    "d = [{'Name':{'Surname': 3}}, {'Name':{'Surname': 2}}, {'Name':{'Surname': 99}}]\n",
    "\n",
    "def list_nested_dict_sort(in_dict):\n",
    "    in_dict.sort(key=lambda x: x['Name']['Surname'])\n",
    "    return in_dict\n",
    "\n",
    "list_nested_dict_sort(d)"
   ]
  },
  {
   "cell_type": "markdown",
   "id": "6e1270dc",
   "metadata": {},
   "source": [
    "### 34. Write a Python program to find common items from two lists."
   ]
  },
  {
   "cell_type": "code",
   "execution_count": 83,
   "id": "3f6e4b99",
   "metadata": {},
   "outputs": [
    {
     "data": {
      "text/plain": [
       "['shubham', 'sameer']"
      ]
     },
     "execution_count": 83,
     "metadata": {},
     "output_type": "execute_result"
    }
   ],
   "source": [
    "name = [\"shubham\", \"sameer\", \"pratiksha\"]\n",
    "name1 = [\"shubham\",\"prathiba\",\"sameer\"]\n",
    "\n",
    "def common_list_item(in_l1, in_l2):\n",
    "    l = []\n",
    "    for i in in_l1:\n",
    "        if i in in_l2:\n",
    "            l.append(i)\n",
    "    return l\n",
    "\n",
    "common_list_item(name, name1)"
   ]
  },
  {
   "cell_type": "markdown",
   "id": "14b246ce",
   "metadata": {},
   "source": [
    "### 35. Write a Python program to split a list in N parts."
   ]
  },
  {
   "cell_type": "code",
   "execution_count": 90,
   "id": "80e03c9b",
   "metadata": {},
   "outputs": [
    {
     "data": {
      "text/plain": [
       "[[1, 3, 5, 7, 9], [2, 4, 6, 8, 10]]"
      ]
     },
     "execution_count": 90,
     "metadata": {},
     "output_type": "execute_result"
    }
   ],
   "source": [
    "l = [1,2,3,4,5,6,7,8,9, 10]\n",
    "\n",
    "def custom_split_element(in_list, element_split):\n",
    "    return [in_list[i::element_split] for i in range(element_split)]\n",
    "\n",
    "custom_split_element(l,2)"
   ]
  },
  {
   "cell_type": "markdown",
   "id": "6d523ffc",
   "metadata": {},
   "source": [
    "### 36. Write a Python program to convert a list of multiple integers into a single integer."
   ]
  },
  {
   "cell_type": "code",
   "execution_count": 93,
   "id": "a7bd6ba1",
   "metadata": {},
   "outputs": [
    {
     "data": {
      "text/plain": [
       "'11223344'"
      ]
     },
     "execution_count": 93,
     "metadata": {},
     "output_type": "execute_result"
    }
   ],
   "source": [
    "l = [11,22,33,44]\n",
    "\n",
    "def list_int_to_int(input_list):\n",
    "    string = \"\"\n",
    "    for i in input_list:\n",
    "        string+= str(i)\n",
    "    return string\n",
    "\n",
    "list_int_to_int(l)"
   ]
  },
  {
   "cell_type": "markdown",
   "id": "4afa4b06",
   "metadata": {},
   "source": [
    "### 37. Write a Python program to split a list based on first character of word and return character and word."
   ]
  },
  {
   "cell_type": "code",
   "execution_count": 95,
   "id": "da93dda1",
   "metadata": {},
   "outputs": [
    {
     "name": "stdout",
     "output_type": "stream",
     "text": [
      "S Shubham\n",
      "S Sameer\n",
      "S Sushant\n"
     ]
    }
   ],
   "source": [
    "l = [\"Shubham\", \"Sameer\", \"Sushant\"]\n",
    "\n",
    "def custom_split_1(in_list):\n",
    "    for i in in_list:\n",
    "        print(i[0], i)\n",
    "        \n",
    "custom_split_1(l)"
   ]
  },
  {
   "cell_type": "markdown",
   "id": "acc12cb1",
   "metadata": {},
   "source": [
    "### 38. Write a Python program to create dictionary multiple empty lists."
   ]
  },
  {
   "cell_type": "code",
   "execution_count": 98,
   "id": "19ea91b9",
   "metadata": {},
   "outputs": [
    {
     "data": {
      "text/plain": [
       "{1: [], 2: [], 3: [], 4: []}"
      ]
     },
     "execution_count": 98,
     "metadata": {},
     "output_type": "execute_result"
    }
   ],
   "source": [
    "def empty_list_gen(n):\n",
    "    d={}\n",
    "    for i in range(1,n+1):\n",
    "        d[i]= []\n",
    "    return d\n",
    "\n",
    "empty_list_gen(4)"
   ]
  },
  {
   "cell_type": "markdown",
   "id": "691be37b",
   "metadata": {},
   "source": [
    "### 39. Write a Python program to find missing and additional values in two lists."
   ]
  },
  {
   "cell_type": "code",
   "execution_count": 103,
   "id": "294b2d49",
   "metadata": {},
   "outputs": [
    {
     "data": {
      "text/plain": [
       "'missing values: c,a,b and additional values: g,h'"
      ]
     },
     "execution_count": 103,
     "metadata": {},
     "output_type": "execute_result"
    }
   ],
   "source": [
    "l1 = ['a','b','c','d','e','f']\n",
    "l2 = ['d','e','f','g','h']\n",
    "\n",
    "def custom_return_list(in_l1, in_l2):           \n",
    "    return \"missing values: {} and additional values: {}\".format(','.join(set(in_l1).difference(in_l2)),','.join(set(in_l2).difference(in_l1)))\n",
    "\n",
    "custom_return_list(l1,l2)"
   ]
  },
  {
   "cell_type": "markdown",
   "id": "fa6db9ce",
   "metadata": {},
   "source": [
    "### 40. Write a Python program to check if all items of a given list of strings is equal to a given string. "
   ]
  },
  {
   "cell_type": "code",
   "execution_count": 105,
   "id": "d498fdba",
   "metadata": {},
   "outputs": [
    {
     "data": {
      "text/plain": [
       "False"
      ]
     },
     "execution_count": 105,
     "metadata": {},
     "output_type": "execute_result"
    }
   ],
   "source": [
    "l1 = [1,2,3,4,5]\n",
    "l2 = [1,1,1,1,1]\n",
    "\n",
    "def list_string_checker(input_list, element):\n",
    "    return all(x == element for x in input_list)\n",
    "\n",
    "list_string_checker(l1,1)"
   ]
  },
  {
   "cell_type": "code",
   "execution_count": 106,
   "id": "355b5d09",
   "metadata": {},
   "outputs": [
    {
     "data": {
      "text/plain": [
       "True"
      ]
     },
     "execution_count": 106,
     "metadata": {},
     "output_type": "execute_result"
    }
   ],
   "source": [
    "list_string_checker(l2,1)"
   ]
  },
  {
   "cell_type": "markdown",
   "id": "d5a1f266",
   "metadata": {},
   "source": [
    "### 41. Write a Python program to generate groups of five consecutive numbers in a list."
   ]
  },
  {
   "cell_type": "code",
   "execution_count": 110,
   "id": "34ed8c1c",
   "metadata": {},
   "outputs": [
    {
     "data": {
      "text/plain": [
       "[[5, 6, 7, 8, 9],\n",
       " [10, 11, 12, 13, 14],\n",
       " [15, 16, 17, 18, 19],\n",
       " [20, 21, 22, 23, 24],\n",
       " [25, 26, 27, 28, 29]]"
      ]
     },
     "execution_count": 110,
     "metadata": {},
     "output_type": "execute_result"
    }
   ],
   "source": [
    "def consecutive_list_gen(start_number):\n",
    "    return [[5*i + j for j in range(start_number,start_number +5)] for i in range(5)]\n",
    "\n",
    "consecutive_list_gen(5)"
   ]
  },
  {
   "cell_type": "markdown",
   "id": "56d62656",
   "metadata": {},
   "source": [
    "### 42. Write a Python program to convert a pair of values into a sorted unique array."
   ]
  },
  {
   "cell_type": "code",
   "execution_count": 111,
   "id": "d27e4e64",
   "metadata": {},
   "outputs": [
    {
     "data": {
      "text/plain": [
       "[1, 2, 3, 4, 5]"
      ]
     },
     "execution_count": 111,
     "metadata": {},
     "output_type": "execute_result"
    }
   ],
   "source": [
    "l_int= [(1,2),(2,3),(3,4),(4,5)]\n",
    "\n",
    "def custom_list_sorted_unique(input_list):\n",
    "    return sorted(set().union(*input_list))\n",
    "\n",
    "custom_list_sorted_unique(l_int)"
   ]
  },
  {
   "cell_type": "markdown",
   "id": "c96fb752",
   "metadata": {},
   "source": [
    "### 43. Write a Python program to select the odd items of a list."
   ]
  },
  {
   "cell_type": "code",
   "execution_count": 113,
   "id": "55c940a3",
   "metadata": {},
   "outputs": [
    {
     "data": {
      "text/plain": [
       "['Red', 'Green', 'Brown']"
      ]
     },
     "execution_count": 113,
     "metadata": {},
     "output_type": "execute_result"
    }
   ],
   "source": [
    "l = ['Red', 'Blue', 'Green', 'Pink', 'Brown']\n",
    "\n",
    "def odd_element_picker_list(input_list):\n",
    "    return input_list[::2]\n",
    "\n",
    "odd_element_picker_list(l)"
   ]
  },
  {
   "cell_type": "markdown",
   "id": "d8a3d5a0",
   "metadata": {},
   "source": [
    "### 44. Write a Python program to insert an element before each element of a list."
   ]
  },
  {
   "cell_type": "code",
   "execution_count": 115,
   "id": "0384b72e",
   "metadata": {},
   "outputs": [
    {
     "data": {
      "text/plain": [
       "['sameer', 1, 'sameer', 2, 'sameer', 3, 'sameer', 4, 'sameer', 5]"
      ]
     },
     "execution_count": 115,
     "metadata": {},
     "output_type": "execute_result"
    }
   ],
   "source": [
    "list1 =[1,2,3,4,5]\n",
    "\n",
    "def element_insert(in_list, element):\n",
    "    return [comb for i in in_list for comb in (element, i)]\n",
    "\n",
    "element_insert(list1, \"sameer\")"
   ]
  },
  {
   "cell_type": "markdown",
   "id": "3767f251",
   "metadata": {},
   "source": [
    "### 45. Write a Python program to print a nested lists (each list on a new line) using the print() function. "
   ]
  },
  {
   "cell_type": "code",
   "execution_count": 119,
   "id": "220735ce",
   "metadata": {},
   "outputs": [
    {
     "name": "stdout",
     "output_type": "stream",
     "text": [
      "['Shubham']\n",
      "['Sameer']\n",
      "['Brijesh']\n",
      "['Sandesh']\n"
     ]
    }
   ],
   "source": [
    "names = [['Shubham'], ['Sameer'], ['Brijesh'], ['Sandesh']]\n",
    "\n",
    "def custom_print_list(in_list):\n",
    "    print('\\n'.join([str(i) for i in in_list]))\n",
    "\n",
    "custom_print_list(names)"
   ]
  },
  {
   "cell_type": "markdown",
   "id": "12d40f75",
   "metadata": {},
   "source": [
    "### 46. Write a Python program to convert list to list of dictionaries."
   ]
  },
  {
   "cell_type": "code",
   "execution_count": 56,
   "id": "1c243c36",
   "metadata": {},
   "outputs": [
    {
     "data": {
      "text/plain": [
       "[{'key': 'Shubham', 'value': 'Verma'},\n",
       " {'key': 'Krish', 'value': 'Naik'},\n",
       " {'key': 'Sudhanshu', 'value': 'Kumar'}]"
      ]
     },
     "execution_count": 56,
     "metadata": {},
     "output_type": "execute_result"
    }
   ],
   "source": [
    "name = [\"Shubham\", \"Krish\", \"Sudhanshu\"]\n",
    "surname = [\"Verma\",\"Naik\",\"Kumar\"]\n",
    "\n",
    "def list_to_listdict(in_l1, in_l2):\n",
    "    return [{'key': key, 'value': value} for key,value in zip(in_l1, in_l2)]\n",
    "\n",
    "list_to_listdict(name, surname)"
   ]
  },
  {
   "cell_type": "markdown",
   "id": "f8fc7cfc",
   "metadata": {},
   "source": [
    "### 47. Write a Python program to compute the difference between two lists. "
   ]
  },
  {
   "cell_type": "code",
   "execution_count": 120,
   "id": "3c174991",
   "metadata": {},
   "outputs": [
    {
     "data": {
      "text/plain": [
       "[1, 6]"
      ]
     },
     "execution_count": 120,
     "metadata": {},
     "output_type": "execute_result"
    }
   ],
   "source": [
    "l1 = [1,2,3,4,5]\n",
    "l2 = [2,3,4,5,6]\n",
    "\n",
    "def difference_list(in_l1, in_l2):\n",
    "    l=[]\n",
    "    for i in in_l1:\n",
    "        if i not in in_l2:\n",
    "            l.append(i)\n",
    "    for i in in_l2:\n",
    "        if i not in in_l1:\n",
    "            l.append(i)\n",
    "    return l\n",
    "\n",
    "difference_list(l1,l2)"
   ]
  },
  {
   "cell_type": "markdown",
   "id": "3f0c9d43",
   "metadata": {},
   "source": [
    "### 48. Write a Python program to concatenate elements of a list."
   ]
  },
  {
   "cell_type": "code",
   "execution_count": 123,
   "id": "0f65b9f1",
   "metadata": {},
   "outputs": [
    {
     "data": {
      "text/plain": [
       "'ShubhamVerma'"
      ]
     },
     "execution_count": 123,
     "metadata": {},
     "output_type": "execute_result"
    }
   ],
   "source": [
    "l = [1,2,3,4,5]\n",
    "l_str = [\"Shubham\", \"Verma\"]\n",
    "\n",
    "def concatenate_list_element(in_list):\n",
    "    string = \"\"\n",
    "    for i in in_list:\n",
    "        if type(i) == int:\n",
    "            string += str(i)\n",
    "        else:\n",
    "            string += str(i)\n",
    "            \n",
    "    return string\n",
    "\n",
    "concatenate_list_element(l_str)"
   ]
  },
  {
   "cell_type": "code",
   "execution_count": 124,
   "id": "d43b12c1",
   "metadata": {},
   "outputs": [
    {
     "data": {
      "text/plain": [
       "'12345'"
      ]
     },
     "execution_count": 124,
     "metadata": {},
     "output_type": "execute_result"
    }
   ],
   "source": [
    "concatenate_list_element(l)"
   ]
  },
  {
   "cell_type": "markdown",
   "id": "41279ebb",
   "metadata": {},
   "source": [
    "### 49. Write a Python program to check if all items of a given list of strings is equal to a given string."
   ]
  },
  {
   "cell_type": "code",
   "execution_count": 128,
   "id": "f6b14aa7",
   "metadata": {},
   "outputs": [
    {
     "data": {
      "text/plain": [
       "True"
      ]
     },
     "execution_count": 128,
     "metadata": {},
     "output_type": "execute_result"
    }
   ],
   "source": [
    "l = [\"Cat\",\"Hat\", \"Bat\", \"Mat\"]\n",
    "l1 = [\"Cat\",\"Hat\", \"Bats\", \"Mats\"]\n",
    "\n",
    "def string_length_checker(in_list, element):\n",
    "    return all(len(x) == len(element) for x in in_list)\n",
    "\n",
    "string_length_checker(l, \"car\")"
   ]
  },
  {
   "cell_type": "code",
   "execution_count": 127,
   "id": "7b6c029d",
   "metadata": {},
   "outputs": [
    {
     "data": {
      "text/plain": [
       "False"
      ]
     },
     "execution_count": 127,
     "metadata": {},
     "output_type": "execute_result"
    }
   ],
   "source": [
    "string_length_checker(l1,\"car\")"
   ]
  },
  {
   "cell_type": "markdown",
   "id": "90028120",
   "metadata": {},
   "source": [
    "### 50. Write a Python program to replace the last element in a list with another list."
   ]
  },
  {
   "cell_type": "code",
   "execution_count": 130,
   "id": "aa70197c",
   "metadata": {},
   "outputs": [
    {
     "data": {
      "text/plain": [
       "[1, 2, 3, 4, 5, 6, 7, 8, 9, 'Red', 'Blue', 'Green']"
      ]
     },
     "execution_count": 130,
     "metadata": {},
     "output_type": "execute_result"
    }
   ],
   "source": [
    "l = [1,2,3,4,5,6,7,8,9,10]\n",
    "l_to_replace = [\"Red\", \"Blue\", \"Green\"]\n",
    "\n",
    "def custom_replace(in_list, rep_list):\n",
    "    in_list[-1:] = rep_list\n",
    "    return in_list\n",
    "\n",
    "custom_replace(l, l_to_replace)"
   ]
  }
 ],
 "metadata": {
  "kernelspec": {
   "display_name": "Python 3 (ipykernel)",
   "language": "python",
   "name": "python3"
  },
  "language_info": {
   "codemirror_mode": {
    "name": "ipython",
    "version": 3
   },
   "file_extension": ".py",
   "mimetype": "text/x-python",
   "name": "python",
   "nbconvert_exporter": "python",
   "pygments_lexer": "ipython3",
   "version": "3.9.12"
  }
 },
 "nbformat": 4,
 "nbformat_minor": 5
}
