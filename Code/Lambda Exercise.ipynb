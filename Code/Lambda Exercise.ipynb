{
 "cells": [
  {
   "cell_type": "markdown",
   "id": "0accccb6",
   "metadata": {},
   "source": [
    "# Questions on Lambda Functions\n",
    "**Shubham Verma**\n",
    "\n",
    "**Linkedin** https://www.linkedin.com/in/shubham-verma-3968a5119\n",
    "\n",
    "**Credits** W3School for questions"
   ]
  },
  {
   "cell_type": "markdown",
   "id": "582e1a7a",
   "metadata": {},
   "source": [
    "### 1. Write a Python program to create a lambda function that adds 15 to a given number passed in as an argument, also create a lambda function that multiplies argument x with argument y and print the result."
   ]
  },
  {
   "cell_type": "code",
   "execution_count": 71,
   "id": "fb3d4f06",
   "metadata": {},
   "outputs": [
    {
     "data": {
      "text/plain": [
       "25"
      ]
     },
     "execution_count": 71,
     "metadata": {},
     "output_type": "execute_result"
    }
   ],
   "source": [
    "a = lambda x : x + 15\n",
    "a(10)"
   ]
  },
  {
   "cell_type": "code",
   "execution_count": 72,
   "id": "d29868cd",
   "metadata": {},
   "outputs": [
    {
     "data": {
      "text/plain": [
       "20"
      ]
     },
     "execution_count": 72,
     "metadata": {},
     "output_type": "execute_result"
    }
   ],
   "source": [
    "b = lambda x, y : x * y\n",
    "b(4,5)"
   ]
  },
  {
   "cell_type": "markdown",
   "id": "019114fd",
   "metadata": {},
   "source": [
    "### 2.Write a Python program to create a function that takes one argument, and that argument will be multiplied with an unknown given number."
   ]
  },
  {
   "cell_type": "code",
   "execution_count": 73,
   "id": "f6fc8590",
   "metadata": {},
   "outputs": [],
   "source": [
    "def multiplier(n) :\n",
    "    return lambda x : x * n"
   ]
  },
  {
   "cell_type": "code",
   "execution_count": 74,
   "id": "f9de9d25",
   "metadata": {},
   "outputs": [
    {
     "name": "stdout",
     "output_type": "stream",
     "text": [
      "Quintuple of 3 is:  15\n"
     ]
    }
   ],
   "source": [
    "output = multiplier(5) \n",
    "\n",
    "print(\"Quintuple of 3 is: \" ,output(3))"
   ]
  },
  {
   "cell_type": "markdown",
   "id": "cdb39eca",
   "metadata": {},
   "source": [
    "### 3. Write a Python program to sort a list of tuples using Lambda."
   ]
  },
  {
   "cell_type": "code",
   "execution_count": 75,
   "id": "98d13475",
   "metadata": {},
   "outputs": [
    {
     "data": {
      "text/plain": [
       "[('Social sciences', 82), ('English', 88), ('Science', 90), ('Maths', 97)]"
      ]
     },
     "execution_count": 75,
     "metadata": {},
     "output_type": "execute_result"
    }
   ],
   "source": [
    "l = [('English', 88), ('Science', 90), ('Maths', 97), ('Social sciences', 82)]\n",
    "\n",
    "sorted(l, key = lambda x : x[1])"
   ]
  },
  {
   "cell_type": "markdown",
   "id": "dfcaa001",
   "metadata": {},
   "source": [
    "### 4. Write a Python program to sort a list of dictionaries using Lambda."
   ]
  },
  {
   "cell_type": "code",
   "execution_count": 76,
   "id": "7cfae8f3",
   "metadata": {},
   "outputs": [
    {
     "data": {
      "text/plain": [
       "[{'make': 'Nokia', 'model': 216, 'color': 'Black'},\n",
       " {'make': 'Samsung', 'model': 7, 'color': 'Blue'},\n",
       " {'make': 'Mi Max', 'model': '2', 'color': 'Gold'}]"
      ]
     },
     "execution_count": 76,
     "metadata": {},
     "output_type": "execute_result"
    }
   ],
   "source": [
    "d = [{'make': 'Nokia', 'model': 216, 'color': 'Black'}, {'make': 'Mi Max', 'model': '2', 'color': 'Gold'}, {'make': 'Samsung', 'model': 7, 'color': 'Blue'}]\n",
    "\n",
    "sorted(d, key = lambda x : x['color'])"
   ]
  },
  {
   "cell_type": "markdown",
   "id": "9eedcf23",
   "metadata": {},
   "source": [
    "### 5. Write a Python program to filter a list of integers using Lambda."
   ]
  },
  {
   "cell_type": "code",
   "execution_count": 77,
   "id": "aca3ca22",
   "metadata": {},
   "outputs": [
    {
     "data": {
      "text/plain": [
       "[2, 4, 6, 8, 10]"
      ]
     },
     "execution_count": 77,
     "metadata": {},
     "output_type": "execute_result"
    }
   ],
   "source": [
    "lint = [1, 2, 3, 4, 5, 6, 7, 8, 9, 10]\n",
    "\n",
    "even = list(filter(lambda x : x % 2 == 0 , lint))\n",
    "even"
   ]
  },
  {
   "cell_type": "code",
   "execution_count": 78,
   "id": "3d24bd58",
   "metadata": {},
   "outputs": [
    {
     "data": {
      "text/plain": [
       "[1, 3, 5, 7, 9]"
      ]
     },
     "execution_count": 78,
     "metadata": {},
     "output_type": "execute_result"
    }
   ],
   "source": [
    "odd = list(filter(lambda x : x % 2 != 0 , lint))\n",
    "odd"
   ]
  },
  {
   "cell_type": "markdown",
   "id": "08c9e254",
   "metadata": {},
   "source": [
    "### 6. Write a Python program to square and cube every number in a given list of integers using Lambda."
   ]
  },
  {
   "cell_type": "code",
   "execution_count": 79,
   "id": "485e5e9c",
   "metadata": {},
   "outputs": [
    {
     "data": {
      "text/plain": [
       "[1, 4, 9, 16, 25, 36, 49, 64, 81, 100]"
      ]
     },
     "execution_count": 79,
     "metadata": {},
     "output_type": "execute_result"
    }
   ],
   "source": [
    "lint = [1, 2, 3, 4, 5, 6, 7, 8, 9, 10]\n",
    "\n",
    "square = list(map(lambda x : x ** 2, lint))\n",
    "square"
   ]
  },
  {
   "cell_type": "code",
   "execution_count": 80,
   "id": "b19817b0",
   "metadata": {},
   "outputs": [
    {
     "data": {
      "text/plain": [
       "[1, 8, 27, 64, 125, 216, 343, 512, 729, 1000]"
      ]
     },
     "execution_count": 80,
     "metadata": {},
     "output_type": "execute_result"
    }
   ],
   "source": [
    "cube = list(map(lambda x : x ** 3, lint))\n",
    "cube"
   ]
  },
  {
   "cell_type": "markdown",
   "id": "dcc7dcbc",
   "metadata": {},
   "source": [
    "### 7. Write a Python program to find if a given string starts with a given character using Lambda."
   ]
  },
  {
   "cell_type": "code",
   "execution_count": 81,
   "id": "ec65cecb",
   "metadata": {},
   "outputs": [
    {
     "data": {
      "text/plain": [
       "True"
      ]
     },
     "execution_count": 81,
     "metadata": {},
     "output_type": "execute_result"
    }
   ],
   "source": [
    "start_with = lambda x : True if x.startswith('S') else False\n",
    "\n",
    "start_with(\"Shubham\")"
   ]
  },
  {
   "cell_type": "markdown",
   "id": "f9560dac",
   "metadata": {},
   "source": [
    "### 8. Write a Python program to extract year, month, date and time using Lambda."
   ]
  },
  {
   "cell_type": "code",
   "execution_count": 82,
   "id": "ed77cb87",
   "metadata": {},
   "outputs": [],
   "source": [
    "import datetime as dt\n",
    "\n",
    "now = dt.datetime.now()"
   ]
  },
  {
   "cell_type": "code",
   "execution_count": 83,
   "id": "08acb029",
   "metadata": {},
   "outputs": [],
   "source": [
    "year = now.year\n",
    "month = now.month\n",
    "day = now.day\n",
    "time = now.time()\n"
   ]
  },
  {
   "cell_type": "code",
   "execution_count": 84,
   "id": "fd5e4dd5",
   "metadata": {},
   "outputs": [
    {
     "data": {
      "text/plain": [
       "2022"
      ]
     },
     "execution_count": 84,
     "metadata": {},
     "output_type": "execute_result"
    }
   ],
   "source": [
    "year"
   ]
  },
  {
   "cell_type": "code",
   "execution_count": 85,
   "id": "d1b45c98",
   "metadata": {},
   "outputs": [
    {
     "data": {
      "text/plain": [
       "9"
      ]
     },
     "execution_count": 85,
     "metadata": {},
     "output_type": "execute_result"
    }
   ],
   "source": [
    "month"
   ]
  },
  {
   "cell_type": "code",
   "execution_count": 86,
   "id": "f4227311",
   "metadata": {},
   "outputs": [
    {
     "data": {
      "text/plain": [
       "5"
      ]
     },
     "execution_count": 86,
     "metadata": {},
     "output_type": "execute_result"
    }
   ],
   "source": [
    "day"
   ]
  },
  {
   "cell_type": "code",
   "execution_count": 87,
   "id": "96166824",
   "metadata": {},
   "outputs": [
    {
     "name": "stdout",
     "output_type": "stream",
     "text": [
      "16:51:59.237346\n"
     ]
    }
   ],
   "source": [
    "print(time)"
   ]
  },
  {
   "cell_type": "markdown",
   "id": "c6847e6a",
   "metadata": {},
   "source": [
    "### 9. Write a Python program to check whether a given string is number or not using Lambda. "
   ]
  },
  {
   "cell_type": "code",
   "execution_count": 88,
   "id": "dc7d65c4",
   "metadata": {},
   "outputs": [],
   "source": [
    "num_check  = lambda x : x.replace('.','').replace('-','').isdigit()"
   ]
  },
  {
   "cell_type": "code",
   "execution_count": 89,
   "id": "6e6a171a",
   "metadata": {},
   "outputs": [
    {
     "data": {
      "text/plain": [
       "True"
      ]
     },
     "execution_count": 89,
     "metadata": {},
     "output_type": "execute_result"
    }
   ],
   "source": [
    "num_check('-6.6789')"
   ]
  },
  {
   "cell_type": "code",
   "execution_count": 90,
   "id": "b3871cde",
   "metadata": {},
   "outputs": [
    {
     "data": {
      "text/plain": [
       "False"
      ]
     },
     "execution_count": 90,
     "metadata": {},
     "output_type": "execute_result"
    }
   ],
   "source": [
    "num_check('A4567')"
   ]
  },
  {
   "cell_type": "markdown",
   "id": "db713bf2",
   "metadata": {},
   "source": [
    "### 11. Write a Python program to find intersection of two given arrays using Lambda."
   ]
  },
  {
   "cell_type": "code",
   "execution_count": 91,
   "id": "c8c194d5",
   "metadata": {},
   "outputs": [],
   "source": [
    "l1 = [1,2,3,4,5,6,7,8,9,10]\n",
    "l2 = [2,4,6,8,11,12]\n",
    "\n",
    "intersection = list(filter(lambda x : x in l1 , l2))"
   ]
  },
  {
   "cell_type": "code",
   "execution_count": 92,
   "id": "4765331a",
   "metadata": {},
   "outputs": [
    {
     "data": {
      "text/plain": [
       "[2, 4, 6, 8]"
      ]
     },
     "execution_count": 92,
     "metadata": {},
     "output_type": "execute_result"
    }
   ],
   "source": [
    "intersection"
   ]
  },
  {
   "cell_type": "markdown",
   "id": "abaee75b",
   "metadata": {},
   "source": [
    "### 12. Write a Python program to rearrange positive and negative numbers in a given array using Lambda"
   ]
  },
  {
   "cell_type": "code",
   "execution_count": 93,
   "id": "d6f7ca3e",
   "metadata": {},
   "outputs": [
    {
     "data": {
      "text/plain": [
       "[2, 5, 7, 8, 9, -1, -3, -10]"
      ]
     },
     "execution_count": 93,
     "metadata": {},
     "output_type": "execute_result"
    }
   ],
   "source": [
    "l = [-1, 2, -3, 5, 7, 8, 9, -10]\n",
    "\n",
    "sorted( l, key = lambda x: x > 0, reverse= True)"
   ]
  },
  {
   "cell_type": "markdown",
   "id": "e61a9fbe",
   "metadata": {},
   "source": [
    "### 13. Write a Python program to count the even, odd numbers in a given array of integers using Lambda."
   ]
  },
  {
   "cell_type": "code",
   "execution_count": 1,
   "id": "ebffb97c",
   "metadata": {},
   "outputs": [],
   "source": [
    "def count_Even_odd(l) :\n",
    "    even = len(list(filter(lambda x: x % 2 == 0, l)))\n",
    "\n",
    "    print(\"Count of Even number in given list is: \", even)\n",
    "    print(\"Count of odd number in given list is: \", len(l) - even)"
   ]
  },
  {
   "cell_type": "code",
   "execution_count": 2,
   "id": "9095bf54",
   "metadata": {},
   "outputs": [
    {
     "name": "stdout",
     "output_type": "stream",
     "text": [
      "Count of Even number in given list is:  5\n",
      "Count of odd number in given list is:  7\n"
     ]
    }
   ],
   "source": [
    "count_Even_odd([1,2,3,4,10,5,6,7,8,9,11,13])"
   ]
  },
  {
   "cell_type": "markdown",
   "id": "77bba2c7",
   "metadata": {},
   "source": [
    "### 14. Write a Python program to find the values of length six in a given list using Lambda."
   ]
  },
  {
   "cell_type": "code",
   "execution_count": 96,
   "id": "4085f0b6",
   "metadata": {},
   "outputs": [
    {
     "data": {
      "text/plain": [
       "['Monday', 'Friday', 'Sunday']"
      ]
     },
     "execution_count": 96,
     "metadata": {},
     "output_type": "execute_result"
    }
   ],
   "source": [
    "weekdays = ['Monday', 'Tuesday', 'Wednesday', 'Thursday', 'Friday', 'Saturday', 'Sunday']\n",
    "\n",
    "list(filter(lambda x : len(x) == 6 , weekdays)) "
   ]
  },
  {
   "cell_type": "markdown",
   "id": "00d99817",
   "metadata": {},
   "source": [
    "### 15. Write a Python program to add two given lists using map and lambda."
   ]
  },
  {
   "cell_type": "code",
   "execution_count": 97,
   "id": "c1b91120",
   "metadata": {},
   "outputs": [
    {
     "data": {
      "text/plain": [
       "[4, 8, 12]"
      ]
     },
     "execution_count": 97,
     "metadata": {},
     "output_type": "execute_result"
    }
   ],
   "source": [
    "l1 = [3,5,7]\n",
    "l2 = [1,3,5]\n",
    "\n",
    "list(map(lambda x,y : x + y, l1, l2))"
   ]
  },
  {
   "cell_type": "markdown",
   "id": "81b98565",
   "metadata": {},
   "source": [
    "### 16. Write a Python program to find the second lowest grade of any student(s) from the given names and grades of each student using lists and lambda."
   ]
  },
  {
   "cell_type": "code",
   "execution_count": 98,
   "id": "d815500e",
   "metadata": {},
   "outputs": [
    {
     "data": {
      "text/plain": [
       "['N KAR', 2.0]"
      ]
     },
     "execution_count": 98,
     "metadata": {},
     "output_type": "execute_result"
    }
   ],
   "source": [
    "l = [['S ROY', 1.0], ['B BOSE', 3.0], ['N KAR', 2.0], ['C DUTTA', 1.0], ['G GHOSH', 1.0]]\n",
    "\n",
    "list(sorted(l, key = lambda x : x[1], reverse= True))[1]"
   ]
  },
  {
   "cell_type": "markdown",
   "id": "eca38fcc",
   "metadata": {},
   "source": [
    "### 17. Write a Python program to find numbers divisible by nineteen or thirteen from a list of numbers using Lambda."
   ]
  },
  {
   "cell_type": "code",
   "execution_count": 99,
   "id": "501e6146",
   "metadata": {},
   "outputs": [
    {
     "data": {
      "text/plain": [
       "[19, 65, 57, 39, 152, 190]"
      ]
     },
     "execution_count": 99,
     "metadata": {},
     "output_type": "execute_result"
    }
   ],
   "source": [
    "l = [19, 65, 57, 39, 152, 639, 121, 44, 90, 190]\n",
    "\n",
    "list(filter(lambda x : x % 13 == 0 or x % 19 == 0 , l))"
   ]
  },
  {
   "cell_type": "markdown",
   "id": "9f209058",
   "metadata": {},
   "source": [
    "### 18. Write a Python program to find palindromes in a given list of strings using Lambda."
   ]
  },
  {
   "cell_type": "code",
   "execution_count": 100,
   "id": "b4219b73",
   "metadata": {},
   "outputs": [
    {
     "data": {
      "text/plain": [
       "['php', 'aaa']"
      ]
     },
     "execution_count": 100,
     "metadata": {},
     "output_type": "execute_result"
    }
   ],
   "source": [
    "l = ['php', 'w3r', 'Python', 'abcd', 'Java', 'aaa']\n",
    "\n",
    "list(filter(lambda x : x if x == x[::-1] else '', l))"
   ]
  },
  {
   "cell_type": "markdown",
   "id": "1730bd66",
   "metadata": {},
   "source": [
    "### 19. Write a Python program to find all anagrams of a string in a given list of strings using lambda. "
   ]
  },
  {
   "cell_type": "code",
   "execution_count": 101,
   "id": "ec42895b",
   "metadata": {},
   "outputs": [
    {
     "data": {
      "text/plain": [
       "['bcda', 'cbda', 'adcb']"
      ]
     },
     "execution_count": 101,
     "metadata": {},
     "output_type": "execute_result"
    }
   ],
   "source": [
    "l = ['bcda', 'abce', 'cbda', 'cbea', 'adcb']\n",
    "\n",
    "from collections import Counter \n",
    "\n",
    "list(filter(lambda x: x if Counter(\"abcd\") == Counter(x) else '', l))\n"
   ]
  },
  {
   "cell_type": "markdown",
   "id": "20861c11",
   "metadata": {},
   "source": [
    "### 20. Write a Python program to find the numbers of a given string and store them in a list, display the numbers which are bigger than the length of the list in sorted form. Use lambda function to solve the problem."
   ]
  },
  {
   "cell_type": "code",
   "execution_count": 102,
   "id": "148e8aec",
   "metadata": {},
   "outputs": [
    {
     "data": {
      "text/plain": [
       "[20, 23, 56]"
      ]
     },
     "execution_count": 102,
     "metadata": {},
     "output_type": "execute_result"
    }
   ],
   "source": [
    "string = \"sdf 23 safs8 5 sdfsd8 sdfs 56 21sfs 20 5\"\n",
    "list1 = [i for i in string.split(' ')]\n",
    "numbers = sorted([int(x) for x in list1 if x.isdigit() ])\n",
    "\n",
    "list(filter(lambda x : x if x > len(numbers) else '', numbers))"
   ]
  },
  {
   "cell_type": "markdown",
   "id": "55ddce21",
   "metadata": {},
   "source": [
    "### 21. Write a Python program that multiply each number of given list with a given number using lambda function. Print the result."
   ]
  },
  {
   "cell_type": "code",
   "execution_count": 103,
   "id": "fa04a262",
   "metadata": {},
   "outputs": [
    {
     "data": {
      "text/plain": [
       "[4, 8, 12, 18, 22]"
      ]
     },
     "execution_count": 103,
     "metadata": {},
     "output_type": "execute_result"
    }
   ],
   "source": [
    "l = [2, 4, 6, 9, 11]\n",
    "\n",
    "list(map(lambda x : x * 2, l))"
   ]
  },
  {
   "cell_type": "markdown",
   "id": "e0423d11",
   "metadata": {},
   "source": [
    "### 22. Write a Python program that sum the length of the names of a given list of names after removing the names that starts with an lowercase letter. Use lambda function."
   ]
  },
  {
   "cell_type": "code",
   "execution_count": 104,
   "id": "a1a04753",
   "metadata": {},
   "outputs": [
    {
     "data": {
      "text/plain": [
       "16"
      ]
     },
     "execution_count": 104,
     "metadata": {},
     "output_type": "execute_result"
    }
   ],
   "source": [
    "sample_names = ['sally', 'Dylan', 'rebecca', 'Diana', 'Joanne', 'keith']\n",
    "\n",
    "filtered = list(filter(lambda x: x[0] == x[0].upper() and x[1:] == x[1:].lower(), sample_names))\n",
    "\n",
    "len(\"\".join(filtered))"
   ]
  },
  {
   "cell_type": "markdown",
   "id": "0c6af11b",
   "metadata": {},
   "source": [
    "### 23. Write a Python program to calculate the sum of the positive and negative numbers of a given list of numbers using lambda function."
   ]
  },
  {
   "cell_type": "code",
   "execution_count": 105,
   "id": "acff2490",
   "metadata": {},
   "outputs": [
    {
     "data": {
      "text/plain": [
       "'Sum of Positive is 48 and sum of negative is -32'"
      ]
     },
     "execution_count": 105,
     "metadata": {},
     "output_type": "execute_result"
    }
   ],
   "source": [
    "lint = [2, 4, -6, -9, 11, -12, 14, -5, 17]\n",
    "def sum_P_N(l) :\n",
    "    sump = 0\n",
    "    sumn = 0\n",
    "    for positive in list(filter(lambda x : x if x >= 0 else \"\", l)):\n",
    "        sump += positive\n",
    "    for negative in list(filter(lambda x : x if x < 0 else \"\", l)):\n",
    "        sumn += negative\n",
    "        \n",
    "    return \"Sum of Positive is {} and sum of negative is {}\".format(sump, sumn)\n",
    "\n",
    "sum_P_N(lint)"
   ]
  },
  {
   "cell_type": "markdown",
   "id": "19710c84",
   "metadata": {},
   "source": [
    "### 26. Write a Python program to find the list with maximum and minimum length using lambda. "
   ]
  },
  {
   "cell_type": "code",
   "execution_count": 106,
   "id": "2df7bae4",
   "metadata": {},
   "outputs": [
    {
     "data": {
      "text/plain": [
       "(3, [13, 15, 17])"
      ]
     },
     "execution_count": 106,
     "metadata": {},
     "output_type": "execute_result"
    }
   ],
   "source": [
    "l = [[0], [1, 3], [5, 7], [9, 11], [13, 15, 17]]\n",
    "\n",
    "def max_length_list(l):\n",
    "    max_length = max(len(x) for x in l )   \n",
    "    max_list = max(l, key = lambda i: len(i))    \n",
    "    return(max_length, max_list)\n",
    "\n",
    "max_length_list(l)"
   ]
  },
  {
   "cell_type": "code",
   "execution_count": 107,
   "id": "7ecbd5d0",
   "metadata": {},
   "outputs": [
    {
     "data": {
      "text/plain": [
       "(1, [0])"
      ]
     },
     "execution_count": 107,
     "metadata": {},
     "output_type": "execute_result"
    }
   ],
   "source": [
    "def min_length_list(l):\n",
    "    min_length = min(len(x) for x in l )   \n",
    "    min_list = min(l, key = lambda i: len(i))    \n",
    "    return(min_length, min_list)\n",
    "\n",
    "min_length_list(l)"
   ]
  },
  {
   "cell_type": "markdown",
   "id": "07ac11e4",
   "metadata": {},
   "source": [
    "### 27. Write a Python program to sort each sublist of strings in a given list of lists using lambda"
   ]
  },
  {
   "cell_type": "code",
   "execution_count": 108,
   "id": "d3514909",
   "metadata": {},
   "outputs": [
    {
     "data": {
      "text/plain": [
       "[['green', 'orange'], ['black', 'white'], ['black', 'orange', 'white']]"
      ]
     },
     "execution_count": 108,
     "metadata": {},
     "output_type": "execute_result"
    }
   ],
   "source": [
    "l = [['green', 'orange'], ['black', 'white'], ['white', 'black', 'orange']]\n",
    "\n",
    "def sort_nestedList(l) :\n",
    "    l1 = []\n",
    "    for i in l:\n",
    "        a = sorted(i, key = lambda x : x[0])\n",
    "        l1.append(a)\n",
    "    return l1\n",
    "sort_nestedList(l)"
   ]
  },
  {
   "cell_type": "markdown",
   "id": "ef56f8ad",
   "metadata": {},
   "source": [
    "### 28. Write a Python program to sort a given list of lists by length and value using lambda."
   ]
  },
  {
   "cell_type": "code",
   "execution_count": 109,
   "id": "0b960f04",
   "metadata": {},
   "outputs": [
    {
     "data": {
      "text/plain": [
       "[[0], [2], [0, 7], [1, 3], [9, 11], [13, 15, 17]]"
      ]
     },
     "execution_count": 109,
     "metadata": {},
     "output_type": "execute_result"
    }
   ],
   "source": [
    "l = [[2], [0], [1, 3], [0, 7], [9, 11], [13, 15, 17]]\n",
    "\n",
    "sorted(l, key = lambda x: (len(x),x))\n",
    "    "
   ]
  },
  {
   "cell_type": "markdown",
   "id": "050bce7b",
   "metadata": {},
   "source": [
    "### 29. Write a Python program to find the maximum value in a given heterogeneous list using lambda."
   ]
  },
  {
   "cell_type": "code",
   "execution_count": 110,
   "id": "36a2d9c2",
   "metadata": {},
   "outputs": [
    {
     "data": {
      "text/plain": [
       "5"
      ]
     },
     "execution_count": 110,
     "metadata": {},
     "output_type": "execute_result"
    }
   ],
   "source": [
    "l = ['Python', 3, 2, 4, 5, 'version']\n",
    "\n",
    "max(list(filter(lambda x : isinstance(x, int), l)))"
   ]
  },
  {
   "cell_type": "markdown",
   "id": "5b566657",
   "metadata": {},
   "source": [
    "### 30. Write a Python program to sort a given matrix in ascending order according to the sum of its rows using lambda."
   ]
  },
  {
   "cell_type": "code",
   "execution_count": 111,
   "id": "13ade5db",
   "metadata": {},
   "outputs": [
    {
     "data": {
      "text/plain": [
       "[[1, 1, 1], [1, 2, 3], [2, 4, 5]]"
      ]
     },
     "execution_count": 111,
     "metadata": {},
     "output_type": "execute_result"
    }
   ],
   "source": [
    "l = [[1, 2, 3], [2, 4, 5], [1, 1, 1]]  \n",
    "\n",
    "sorted(l, key = lambda x : sum(x))"
   ]
  },
  {
   "cell_type": "markdown",
   "id": "7ace7fe3",
   "metadata": {},
   "source": [
    "### 31. Write a Python program to extract specified size of strings from a give list of string values using lambda."
   ]
  },
  {
   "cell_type": "code",
   "execution_count": 112,
   "id": "d86fac16",
   "metadata": {},
   "outputs": [
    {
     "data": {
      "text/plain": [
       "['practice', 'solution']"
      ]
     },
     "execution_count": 112,
     "metadata": {},
     "output_type": "execute_result"
    }
   ],
   "source": [
    "l = ['Python', 'list', 'exercises', 'practice', 'solution']\n",
    "\n",
    "def ret_str_specifiedLen(list_input, length):\n",
    "    \n",
    "    return list(filter(lambda x :x if len(x) == length else '', list_input))\n",
    "\n",
    "ret_str_specifiedLen(l, 8)"
   ]
  },
  {
   "cell_type": "markdown",
   "id": "fb8c9ebb",
   "metadata": {},
   "source": [
    "### 32. Write a Python program to count float number in a given mixed list using lambda."
   ]
  },
  {
   "cell_type": "code",
   "execution_count": 113,
   "id": "63639c09",
   "metadata": {},
   "outputs": [
    {
     "data": {
      "text/plain": [
       "[3.12, 1.2, -12.22]"
      ]
     },
     "execution_count": 113,
     "metadata": {},
     "output_type": "execute_result"
    }
   ],
   "source": [
    "l = [1, 'abcd', 3.12, 1.2, 4, 'xyz', 5, 'pqr', 7, -5, -12.22]\n",
    "\n",
    "list(filter(lambda x: type(x) == float, l))"
   ]
  },
  {
   "cell_type": "markdown",
   "id": "eb4666d1",
   "metadata": {},
   "source": [
    "### 33. Write a Python program to check whether a given string contains a capital letter, a lower case letter, a number and a minimum length using lambda."
   ]
  },
  {
   "cell_type": "code",
   "execution_count": 114,
   "id": "941cc360",
   "metadata": {},
   "outputs": [
    {
     "data": {
      "text/plain": [
       "True"
      ]
     },
     "execution_count": 114,
     "metadata": {},
     "output_type": "execute_result"
    }
   ],
   "source": [
    "valid = lambda x : any(x.isupper() for x in x) and any(x.islower() for x in x) and any(x.isdigit() for x in x) and len(x) >= 7\n",
    "\n",
    "valid(\"Shubham12\")"
   ]
  },
  {
   "cell_type": "markdown",
   "id": "15ebc05d",
   "metadata": {},
   "source": [
    "### 34. Write a Python program to filter the height and width of students, which are stored in a dictionary using lambda."
   ]
  },
  {
   "cell_type": "code",
   "execution_count": 115,
   "id": "eb9518cf",
   "metadata": {},
   "outputs": [
    {
     "data": {
      "text/plain": [
       "{'Cierra Vega': (6.2, 70)}"
      ]
     },
     "execution_count": 115,
     "metadata": {},
     "output_type": "execute_result"
    }
   ],
   "source": [
    "d = {'Cierra Vega': (6.2, 70), 'Alden Cantrell': (5.9, 65), 'Kierra Gentry': (6.0, 68), 'Pierre Cox': (5.8, 66)}\n",
    "\n",
    "dict(filter(lambda x : (x[1][0], x[1][1]) > (6, 70) , d.items()))"
   ]
  },
  {
   "cell_type": "markdown",
   "id": "4b17f7a6",
   "metadata": {},
   "source": [
    "### 35. Write a Python program to check whether a specified list is sorted or not using lambda."
   ]
  },
  {
   "cell_type": "code",
   "execution_count": 116,
   "id": "f81bec17",
   "metadata": {},
   "outputs": [
    {
     "data": {
      "text/plain": [
       "True"
      ]
     },
     "execution_count": 116,
     "metadata": {},
     "output_type": "execute_result"
    }
   ],
   "source": [
    "l = [1, 2, 4, 6, 8, 10, 12, 14, 16, 17]\n",
    "\n",
    "def sorted_list_check(l) :\n",
    "    l_sorted = list(sorted(l, key = lambda x : x))\n",
    "    if l_sorted == l:\n",
    "        return True\n",
    "    else: \n",
    "        return False\n",
    "    \n",
    "sorted_list_check(l)"
   ]
  },
  {
   "cell_type": "markdown",
   "id": "7b7436c7",
   "metadata": {},
   "source": [
    "### 36. Write a Python program to extract the nth element from a given list of tuples using lambda."
   ]
  },
  {
   "cell_type": "code",
   "execution_count": 117,
   "id": "270969aa",
   "metadata": {},
   "outputs": [
    {
     "data": {
      "text/plain": [
       "['Greyson Fulton', 'Brady Kent', 'Wyatt Knott', 'Beau Turnbull']"
      ]
     },
     "execution_count": 117,
     "metadata": {},
     "output_type": "execute_result"
    }
   ],
   "source": [
    "l = [('Greyson Fulton', 98, 99), ('Brady Kent', 97, 96), ('Wyatt Knott', 91, 94), ('Beau Turnbull', 94, 98)]\n",
    "\n",
    "def filter_specific(l, n):\n",
    "    return list(map(lambda x: (x[n]), l))\n",
    "\n",
    "filter_specific(l, 0)"
   ]
  },
  {
   "cell_type": "code",
   "execution_count": 118,
   "id": "8a314fa7",
   "metadata": {},
   "outputs": [
    {
     "data": {
      "text/plain": [
       "[98, 97, 91, 94]"
      ]
     },
     "execution_count": 118,
     "metadata": {},
     "output_type": "execute_result"
    }
   ],
   "source": [
    "filter_specific(l, 1)"
   ]
  },
  {
   "cell_type": "markdown",
   "id": "c65df1bf",
   "metadata": {},
   "source": [
    "### 38. Write a Python program to remove all elements from a given list present in another list using lambda. "
   ]
  },
  {
   "cell_type": "code",
   "execution_count": 119,
   "id": "efda8135",
   "metadata": {},
   "outputs": [
    {
     "data": {
      "text/plain": [
       "[1, 3, 5, 7, 9, 10]"
      ]
     },
     "execution_count": 119,
     "metadata": {},
     "output_type": "execute_result"
    }
   ],
   "source": [
    "l1 = [1, 2, 3, 4, 5, 6, 7, 8, 9, 10]\n",
    "l2 = [2, 4, 6, 8]\n",
    "\n",
    "list(filter(lambda x : x not in l2  ,l1))"
   ]
  },
  {
   "cell_type": "markdown",
   "id": "91bb61fb",
   "metadata": {},
   "source": [
    "**OR**"
   ]
  },
  {
   "cell_type": "code",
   "execution_count": 120,
   "id": "5da9e808",
   "metadata": {},
   "outputs": [
    {
     "data": {
      "text/plain": [
       "[1, 3, 5, 7, 9, 10]"
      ]
     },
     "execution_count": 120,
     "metadata": {},
     "output_type": "execute_result"
    }
   ],
   "source": [
    "l1 = [1, 2, 3, 4, 5, 6, 7, 8, 9, 10]\n",
    "l2 = [2, 4, 6, 8]\n",
    "\n",
    "list(filter(lambda x : x if x not in l2 else '' ,l1))"
   ]
  },
  {
   "cell_type": "markdown",
   "id": "b9080843",
   "metadata": {},
   "source": [
    "### 39. Write a Python program to find the elements of a given list of strings that contain specific substring using lambda."
   ]
  },
  {
   "cell_type": "code",
   "execution_count": 121,
   "id": "12faa03e",
   "metadata": {},
   "outputs": [
    {
     "data": {
      "text/plain": [
       "['black']"
      ]
     },
     "execution_count": 121,
     "metadata": {},
     "output_type": "execute_result"
    }
   ],
   "source": [
    "l = ['red', 'black', 'white', 'green', 'orange']\n",
    "\n",
    "def sub_str_search(l, sub_str) :\n",
    "    \n",
    "    return list(filter(lambda x :sub_str in x , l))\n",
    "\n",
    "sub_str_search(l, 'ack')"
   ]
  },
  {
   "cell_type": "code",
   "execution_count": 122,
   "id": "4290af4c",
   "metadata": {},
   "outputs": [
    {
     "data": {
      "text/plain": [
       "[]"
      ]
     },
     "execution_count": 122,
     "metadata": {},
     "output_type": "execute_result"
    }
   ],
   "source": [
    "sub_str_search(l, 'bmw')"
   ]
  },
  {
   "cell_type": "markdown",
   "id": "2ec01785",
   "metadata": {},
   "source": [
    "### 40. Write a Python program to find the nested lists elements, which are present in another list using lambda."
   ]
  },
  {
   "cell_type": "code",
   "execution_count": 123,
   "id": "1988879f",
   "metadata": {},
   "outputs": [
    {
     "data": {
      "text/plain": [
       "[[12], [7, 11], [1, 5, 8]]"
      ]
     },
     "execution_count": 123,
     "metadata": {},
     "output_type": "execute_result"
    }
   ],
   "source": [
    "l1 =  [1, 2, 3, 4, 5, 6, 7, 8, 9, 10, 11, 12, 13, 14]\n",
    "l2 = [[12, 18, 23, 25, 45], [7, 11, 19, 24, 28], [1, 5, 8, 18, 15, 16]]\n",
    "\n",
    "[list(filter(lambda x: x in l1, sublist)) for sublist in l2]"
   ]
  },
  {
   "cell_type": "code",
   "execution_count": 124,
   "id": "dca74232",
   "metadata": {},
   "outputs": [],
   "source": [
    "### 41"
   ]
  },
  {
   "cell_type": "code",
   "execution_count": 125,
   "id": "73f7f53f",
   "metadata": {},
   "outputs": [
    {
     "data": {
      "text/plain": [
       "['deR', 'neerG', 'eulB', 'etihW', 'kcalB']"
      ]
     },
     "execution_count": 125,
     "metadata": {},
     "output_type": "execute_result"
    }
   ],
   "source": [
    "l = ['Red', 'Green', 'Blue', 'White', 'Black']\n",
    "\n",
    "list(map(lambda x : x[::-1] , l))"
   ]
  },
  {
   "cell_type": "markdown",
   "id": "2beabe96",
   "metadata": {},
   "source": [
    "### 42. Write a Python program to calculate the product of a given list of numbers using lambda."
   ]
  },
  {
   "cell_type": "code",
   "execution_count": 126,
   "id": "af919c77",
   "metadata": {},
   "outputs": [
    {
     "data": {
      "text/plain": [
       "3628800"
      ]
     },
     "execution_count": 126,
     "metadata": {},
     "output_type": "execute_result"
    }
   ],
   "source": [
    "from functools import reduce\n",
    "l = [1, 2, 3, 4, 5, 6, 7, 8, 9, 10]\n",
    "\n",
    "reduce(lambda x,y : x*y, l)"
   ]
  },
  {
   "cell_type": "markdown",
   "id": "2f94003e",
   "metadata": {},
   "source": [
    "### 43. Write a Python program to multiply all the numbers in a given list using lambda."
   ]
  },
  {
   "cell_type": "code",
   "execution_count": 127,
   "id": "e38b045a",
   "metadata": {},
   "outputs": [
    {
     "data": {
      "text/plain": [
       "-864"
      ]
     },
     "execution_count": 127,
     "metadata": {},
     "output_type": "execute_result"
    }
   ],
   "source": [
    "l = [4, 3, 2, 2, -1, 18]\n",
    "\n",
    "reduce(lambda x,y : x*y, l)"
   ]
  },
  {
   "cell_type": "code",
   "execution_count": 128,
   "id": "9aa2feb1",
   "metadata": {},
   "outputs": [
    {
     "data": {
      "text/plain": [
       "4021.86"
      ]
     },
     "execution_count": 128,
     "metadata": {},
     "output_type": "execute_result"
    }
   ],
   "source": [
    "l1 = [2.2, 4.12, 6.6, 8.1, 8.3]\n",
    "round(reduce(lambda x,y : x*y, l1), 2)"
   ]
  },
  {
   "cell_type": "markdown",
   "id": "818ad18d",
   "metadata": {},
   "source": [
    "### 44. Write a Python program to calculate the average value of the numbers in a given tuple of tuples using lambda."
   ]
  },
  {
   "cell_type": "code",
   "execution_count": 129,
   "id": "dd1782c3",
   "metadata": {},
   "outputs": [
    {
     "data": {
      "text/plain": [
       "(30.5, 34.25, 27.0)"
      ]
     },
     "execution_count": 129,
     "metadata": {},
     "output_type": "execute_result"
    }
   ],
   "source": [
    "t = ((10, 10, 10), (30, 45, 56), (81, 80, 39), (1, 2, 3))\n",
    "\n",
    "tuple(map(lambda x : sum(x) / float(len(x)), zip(*t)))\n"
   ]
  },
  {
   "cell_type": "markdown",
   "id": "8e274c89",
   "metadata": {},
   "source": [
    "### 45. Write a Python program to convert string element to integer inside a given tuple using lambda."
   ]
  },
  {
   "cell_type": "code",
   "execution_count": 130,
   "id": "88ecfc9b",
   "metadata": {},
   "outputs": [
    {
     "data": {
      "text/plain": [
       "((233, 33), (1416, 55), (2345, 34))"
      ]
     },
     "execution_count": 130,
     "metadata": {},
     "output_type": "execute_result"
    }
   ],
   "source": [
    "t = (('233', 'ABCD', '33'), ('1416', 'EFGH', '55'), ('2345', 'WERT', '34'))\n",
    "\n",
    "tuple(map(lambda x : (int(x[0]), int(x[2])), t))"
   ]
  },
  {
   "cell_type": "markdown",
   "id": "9a80ff9e",
   "metadata": {},
   "source": [
    "### 46. Write a Python program to find index position and value of the maximum and minimum values in a given list of numbers using lambda."
   ]
  },
  {
   "cell_type": "code",
   "execution_count": 131,
   "id": "aaee2a33",
   "metadata": {},
   "outputs": [
    {
     "data": {
      "text/plain": [
       "(5, 89)"
      ]
     },
     "execution_count": 131,
     "metadata": {},
     "output_type": "execute_result"
    }
   ],
   "source": [
    "l = [12, 33, 23, 10.11, 67, 89, 45, 66.7, 23, 12, 11, 10.25, 54]\n",
    "\n",
    "max(enumerate(l), key = lambda x : x[1])"
   ]
  },
  {
   "cell_type": "code",
   "execution_count": 132,
   "id": "30c643ad",
   "metadata": {},
   "outputs": [
    {
     "data": {
      "text/plain": [
       "(3, 10.11)"
      ]
     },
     "execution_count": 132,
     "metadata": {},
     "output_type": "execute_result"
    }
   ],
   "source": [
    "min(enumerate(l), key = lambda x : x[1])"
   ]
  },
  {
   "cell_type": "markdown",
   "id": "e82d4909",
   "metadata": {},
   "source": [
    "### 47. Write a Python program to sort a given mixed list of integers and strings using lambda. Numbers must be sorted before strings."
   ]
  },
  {
   "cell_type": "code",
   "execution_count": 133,
   "id": "5aaee122",
   "metadata": {},
   "outputs": [
    {
     "data": {
      "text/plain": [
       "[1, 10, 12, 19, 'blue', 'green', 'green', 'red', 'white']"
      ]
     },
     "execution_count": 133,
     "metadata": {},
     "output_type": "execute_result"
    }
   ],
   "source": [
    "l = [19, 'red', 12, 'green', 'blue', 10, 'white', 'green', 1]\n",
    "\n",
    "list(sorted(l, key = lambda x : str(x)))"
   ]
  },
  {
   "cell_type": "markdown",
   "id": "08c722ba",
   "metadata": {},
   "source": [
    "### 48. Write a Python program to sort a given list of strings(numbers) numerically using lambda."
   ]
  },
  {
   "cell_type": "code",
   "execution_count": 134,
   "id": "31e5078c",
   "metadata": {},
   "outputs": [
    {
     "data": {
      "text/plain": [
       "['-500', '-12', '0', '4', '7', '12', '45', '100', '200']"
      ]
     },
     "execution_count": 134,
     "metadata": {},
     "output_type": "execute_result"
    }
   ],
   "source": [
    "l = ['4', '12', '45', '7', '0', '100', '200', '-12', '-500']\n",
    "\n",
    "list(sorted(l , key = lambda x : int(x)))"
   ]
  },
  {
   "cell_type": "markdown",
   "id": "c989dcd8",
   "metadata": {},
   "source": [
    "### 49. Write a Python program to count the occurrences of the items in a given list using lambda.  "
   ]
  },
  {
   "cell_type": "code",
   "execution_count": 135,
   "id": "521d62c2",
   "metadata": {},
   "outputs": [
    {
     "name": "stdout",
     "output_type": "stream",
     "text": [
      "(3, 2)\n",
      "(4, 1)\n",
      "(5, 2)\n",
      "(8, 4)\n",
      "(0, 2)\n",
      "(3, 3)\n",
      "(8, 0)\n"
     ]
    }
   ],
   "source": [
    "l = [3, 4, 5, 8, 0, 3, 8, 5, 0, 3, 1, 5, 2, 3, 4, 2]\n",
    "\n",
    "for i,j in enumerate(set(l)):\n",
    "    print((l[i], l.count(i)))\n",
    "  "
   ]
  },
  {
   "cell_type": "markdown",
   "id": "60c293e8",
   "metadata": {},
   "source": [
    "### 50. Write a Python program to remove specific words from a given list using lambda. "
   ]
  },
  {
   "cell_type": "code",
   "execution_count": 136,
   "id": "87a769b3",
   "metadata": {},
   "outputs": [
    {
     "data": {
      "text/plain": [
       "['red', 'green', 'blue', 'white']"
      ]
     },
     "execution_count": 136,
     "metadata": {},
     "output_type": "execute_result"
    }
   ],
   "source": [
    "l1 = ['orange', 'red', 'green', 'blue', 'white', 'black']\n",
    "l2 = ['orange', 'black']\n",
    "\n",
    "list(filter(lambda x: x not in l2 , l1))"
   ]
  },
  {
   "cell_type": "markdown",
   "id": "817ca213",
   "metadata": {},
   "source": [
    "### 51. Write a Python program to find the maximum and minimum values in a given list of tuples using lambda function."
   ]
  },
  {
   "cell_type": "code",
   "execution_count": 137,
   "id": "ba919632",
   "metadata": {},
   "outputs": [
    {
     "data": {
      "text/plain": [
       "(74, 62)"
      ]
     },
     "execution_count": 137,
     "metadata": {},
     "output_type": "execute_result"
    }
   ],
   "source": [
    "l = [('V', 62), ('VI', 68), ('VII', 72), ('VIII', 70), ('IX', 74), ('X', 65)]\n",
    "\n",
    "(max(l, key = lambda x : x[1])[1], min(l, key = lambda x : x[1])[1])\n"
   ]
  },
  {
   "cell_type": "markdown",
   "id": "c7797eef",
   "metadata": {},
   "source": [
    "### 52. Write a Python program to remove None value from a given list using lambda function."
   ]
  },
  {
   "cell_type": "code",
   "execution_count": 138,
   "id": "ee3abc5d",
   "metadata": {},
   "outputs": [
    {
     "data": {
      "text/plain": [
       "[12, 0, 23, -55, 234, 89, 0, 6, -12]"
      ]
     },
     "execution_count": 138,
     "metadata": {},
     "output_type": "execute_result"
    }
   ],
   "source": [
    "l = [12, 0, None, 23, None, -55, 234, 89, None, 0, 6, -12]\n",
    "\n",
    "list(filter(lambda x : x != None, l))"
   ]
  },
  {
   "cell_type": "code",
   "execution_count": null,
   "id": "baf9d6ff",
   "metadata": {},
   "outputs": [],
   "source": []
  }
 ],
 "metadata": {
  "kernelspec": {
   "display_name": "Python 3 (ipykernel)",
   "language": "python",
   "name": "python3"
  },
  "language_info": {
   "codemirror_mode": {
    "name": "ipython",
    "version": 3
   },
   "file_extension": ".py",
   "mimetype": "text/x-python",
   "name": "python",
   "nbconvert_exporter": "python",
   "pygments_lexer": "ipython3",
   "version": "3.9.12"
  }
 },
 "nbformat": 4,
 "nbformat_minor": 5
}
