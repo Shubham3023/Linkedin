{
 "cells": [
  {
   "cell_type": "markdown",
   "id": "07dfcd3f",
   "metadata": {},
   "source": [
    "# Questions on map(), filter() and reduce() Function\n",
    "**Shubham Verma**\n",
    "\n",
    "**Linkedin** https://www.linkedin.com/in/shubham-verma-3968a5119\n",
    "\n",
    "**Credits** W3School for questions"
   ]
  },
  {
   "cell_type": "markdown",
   "id": "4c4e3b7d",
   "metadata": {},
   "source": [
    "### 1. Write a Python program to triple all numbers of a given list of integers. Use Python map. "
   ]
  },
  {
   "cell_type": "code",
   "execution_count": 16,
   "id": "d6d72077",
   "metadata": {},
   "outputs": [
    {
     "data": {
      "text/plain": [
       "[1, 2, 3, 4, 5, 6, 7, 8, 9, 10]"
      ]
     },
     "execution_count": 16,
     "metadata": {},
     "output_type": "execute_result"
    }
   ],
   "source": [
    "list_int = [i for i in range(1,11)] \n",
    "list_int"
   ]
  },
  {
   "cell_type": "code",
   "execution_count": 17,
   "id": "c5791233",
   "metadata": {},
   "outputs": [
    {
     "data": {
      "text/plain": [
       "[3, 6, 9, 12, 15, 18, 21, 24, 27, 30]"
      ]
     },
     "execution_count": 17,
     "metadata": {},
     "output_type": "execute_result"
    }
   ],
   "source": [
    "def int_trippler(l):\n",
    "    return list(map(lambda x : x*3, l))\n",
    "\n",
    "int_trippler(list_int)"
   ]
  },
  {
   "cell_type": "markdown",
   "id": "712fa0e1",
   "metadata": {},
   "source": [
    "### 2. Write a Python program to add three given lists using Python map and lambda."
   ]
  },
  {
   "cell_type": "code",
   "execution_count": 18,
   "id": "e1beb20f",
   "metadata": {},
   "outputs": [
    {
     "data": {
      "text/plain": [
       "[1, 2, 3, 4, 5, 6, 7, 8, 9]"
      ]
     },
     "execution_count": 18,
     "metadata": {},
     "output_type": "execute_result"
    }
   ],
   "source": [
    "list1 = [i for i in range(1,10)]\n",
    "list1"
   ]
  },
  {
   "cell_type": "code",
   "execution_count": 19,
   "id": "816faebb",
   "metadata": {},
   "outputs": [
    {
     "data": {
      "text/plain": [
       "[11, 12, 13, 14, 15, 16, 17, 18, 19]"
      ]
     },
     "execution_count": 19,
     "metadata": {},
     "output_type": "execute_result"
    }
   ],
   "source": [
    "list2 = [i for i in range(11,20)]\n",
    "list2"
   ]
  },
  {
   "cell_type": "code",
   "execution_count": 20,
   "id": "9d650e20",
   "metadata": {},
   "outputs": [
    {
     "data": {
      "text/plain": [
       "[21, 22, 23, 24, 25, 26, 27, 28, 29]"
      ]
     },
     "execution_count": 20,
     "metadata": {},
     "output_type": "execute_result"
    }
   ],
   "source": [
    "list3 = [i for i in range(21,30)]\n",
    "list3"
   ]
  },
  {
   "cell_type": "code",
   "execution_count": 21,
   "id": "8f126ce6",
   "metadata": {},
   "outputs": [
    {
     "data": {
      "text/plain": [
       "[33, 36, 39, 42, 45, 48, 51, 54, 57]"
      ]
     },
     "execution_count": 21,
     "metadata": {},
     "output_type": "execute_result"
    }
   ],
   "source": [
    "def list_addition(l1, l2, l3):\n",
    "    return list(map(lambda x,y,z : x+y+z, l1,l2,l3))\n",
    "\n",
    "list_addition(list1, list2, list3)"
   ]
  },
  {
   "cell_type": "markdown",
   "id": "5170b8f9",
   "metadata": {},
   "source": [
    "### 3. Write a Python program to listify the list of given strings individually using Python map."
   ]
  },
  {
   "cell_type": "code",
   "execution_count": 11,
   "id": "6f92e26a",
   "metadata": {},
   "outputs": [
    {
     "data": {
      "text/plain": [
       "[['M', 'Y'], ['N', 'A', 'M', 'E'], ['I', 'S'], ['P', 'Y', 'T', 'H', 'O', 'N']]"
      ]
     },
     "execution_count": 11,
     "metadata": {},
     "output_type": "execute_result"
    }
   ],
   "source": [
    "l = [\"MY\", \"NAME\", \"IS\", \"PYTHON\"]\n",
    "\n",
    "def listifier(input_list):\n",
    "    return list(map(list, input_list))\n",
    "\n",
    "listifier(l)"
   ]
  },
  {
   "cell_type": "markdown",
   "id": "de1c99f3",
   "metadata": {},
   "source": [
    "### 4. Write a Python program to create a list containing the power of said number in bases raised to the corresponding number in the index using Python map."
   ]
  },
  {
   "cell_type": "code",
   "execution_count": 15,
   "id": "96d71fe6",
   "metadata": {},
   "outputs": [
    {
     "data": {
      "text/plain": [
       "[10, 20, 30, 40, 50, 60, 70, 80, 90, 100]"
      ]
     },
     "execution_count": 15,
     "metadata": {},
     "output_type": "execute_result"
    }
   ],
   "source": [
    "base_list = [i for i in range(10,101,10)]\n",
    "base_list"
   ]
  },
  {
   "cell_type": "code",
   "execution_count": 23,
   "id": "928ae90a",
   "metadata": {},
   "outputs": [
    {
     "data": {
      "text/plain": [
       "[1, 2, 3, 4, 5, 6, 7, 8, 9, 10]"
      ]
     },
     "execution_count": 23,
     "metadata": {},
     "output_type": "execute_result"
    }
   ],
   "source": [
    "index_list = [i for i in range(1,11)]\n",
    "index_list"
   ]
  },
  {
   "cell_type": "code",
   "execution_count": 24,
   "id": "8d2ae33a",
   "metadata": {},
   "outputs": [
    {
     "data": {
      "text/plain": [
       "[10,\n",
       " 400,\n",
       " 27000,\n",
       " 2560000,\n",
       " 312500000,\n",
       " 46656000000,\n",
       " 8235430000000,\n",
       " 1677721600000000,\n",
       " 387420489000000000,\n",
       " 100000000000000000000]"
      ]
     },
     "execution_count": 24,
     "metadata": {},
     "output_type": "execute_result"
    }
   ],
   "source": [
    "def custom_power(base, index):\n",
    "    return list(map(pow, base, index))\n",
    "\n",
    "custom_power(base_list, index_list)"
   ]
  },
  {
   "cell_type": "markdown",
   "id": "10ecb7e3",
   "metadata": {},
   "source": [
    "### 5. Write a Python program to square the elements of a list using map() function. "
   ]
  },
  {
   "cell_type": "code",
   "execution_count": 25,
   "id": "42c9f280",
   "metadata": {},
   "outputs": [
    {
     "data": {
      "text/plain": [
       "[1, 2, 3, 4, 5, 6, 7, 8, 9, 10]"
      ]
     },
     "execution_count": 25,
     "metadata": {},
     "output_type": "execute_result"
    }
   ],
   "source": [
    "list_int = [i for i in range(1,11)]\n",
    "list_int"
   ]
  },
  {
   "cell_type": "code",
   "execution_count": 26,
   "id": "45cbc870",
   "metadata": {},
   "outputs": [
    {
     "data": {
      "text/plain": [
       "[1, 4, 9, 16, 25, 36, 49, 64, 81, 100]"
      ]
     },
     "execution_count": 26,
     "metadata": {},
     "output_type": "execute_result"
    }
   ],
   "source": [
    "def square_calc(l):\n",
    "    return list(map(lambda x : x**2, l))\n",
    "\n",
    "square_calc(list_int)"
   ]
  },
  {
   "cell_type": "markdown",
   "id": "c1a887f1",
   "metadata": {},
   "source": [
    "### 6. Write a Python program to convert all the characters in uppercase and lowercase and eliminate duplicate letters also sort list from a given sequence. Use map() function."
   ]
  },
  {
   "cell_type": "code",
   "execution_count": 36,
   "id": "408bdd96",
   "metadata": {},
   "outputs": [
    {
     "data": {
      "text/plain": [
       "[('a', 'A'), ('b', 'B'), ('c', 'C'), ('d', 'D'), ('p', 'P'), ('z', 'Z')]"
      ]
     },
     "execution_count": 36,
     "metadata": {},
     "output_type": "execute_result"
    }
   ],
   "source": [
    "list_char = ['a', 'B', 'c', 'd', 'A', 'P', 'p', 'z']\n",
    "def case_changer_dup_remover(l):\n",
    "    return sorted(list(set(map(lambda x : (str(x).lower(), str(x).upper()), l))))\n",
    "\n",
    "case_changer_dup_remover(list_char)"
   ]
  },
  {
   "cell_type": "markdown",
   "id": "878adacf",
   "metadata": {},
   "source": [
    "### 7. Write a Python program to add two given lists and find the difference between lists. Use map() function."
   ]
  },
  {
   "cell_type": "code",
   "execution_count": 37,
   "id": "2d566c55",
   "metadata": {},
   "outputs": [
    {
     "data": {
      "text/plain": [
       "[1, 2, 3, 4, 5, 6, 7, 8, 9, 10]"
      ]
     },
     "execution_count": 37,
     "metadata": {},
     "output_type": "execute_result"
    }
   ],
   "source": [
    "list1 = [i for i in range(1,11)]\n",
    "list1"
   ]
  },
  {
   "cell_type": "code",
   "execution_count": 38,
   "id": "b8d5b706",
   "metadata": {},
   "outputs": [
    {
     "data": {
      "text/plain": [
       "[10, 11, 12, 13, 14, 15, 16, 17, 18, 19, 20]"
      ]
     },
     "execution_count": 38,
     "metadata": {},
     "output_type": "execute_result"
    }
   ],
   "source": [
    "list2 = [i for i in range(10,21)]\n",
    "list2"
   ]
  },
  {
   "cell_type": "code",
   "execution_count": 44,
   "id": "0c125cc7",
   "metadata": {},
   "outputs": [
    {
     "data": {
      "text/plain": [
       "[(11, 9),\n",
       " (13, 9),\n",
       " (15, 9),\n",
       " (17, 9),\n",
       " (19, 9),\n",
       " (21, 9),\n",
       " (23, 9),\n",
       " (25, 9),\n",
       " (27, 9),\n",
       " (29, 9)]"
      ]
     },
     "execution_count": 44,
     "metadata": {},
     "output_type": "execute_result"
    }
   ],
   "source": [
    "def list_add_sub(l1, l2):\n",
    "    return list(map(lambda x,y : (x+y , y-x), l1, l2))\n",
    "\n",
    "list_add_sub(list1, list2)"
   ]
  },
  {
   "cell_type": "markdown",
   "id": "9b574a72",
   "metadata": {},
   "source": [
    "### 8. Write a Python program to convert a given list of integers in a list and tuple of strings."
   ]
  },
  {
   "cell_type": "code",
   "execution_count": 45,
   "id": "5e366dc7",
   "metadata": {},
   "outputs": [
    {
     "data": {
      "text/plain": [
       "[1, 2, 3, 4, 5, 6, 7, 8, 9, 10]"
      ]
     },
     "execution_count": 45,
     "metadata": {},
     "output_type": "execute_result"
    }
   ],
   "source": [
    "l_int = [i for i in range(1,11)]\n",
    "l_int"
   ]
  },
  {
   "cell_type": "code",
   "execution_count": 47,
   "id": "fd9a4684",
   "metadata": {},
   "outputs": [
    {
     "data": {
      "text/plain": [
       "['1', '2', '3', '4', '5', '6', '7', '8', '9', '10']"
      ]
     },
     "execution_count": 47,
     "metadata": {},
     "output_type": "execute_result"
    }
   ],
   "source": [
    "def stringify_list(l):\n",
    "    return list(map(lambda x : str(x), l))\n",
    "\n",
    "stringify_list(l_int)"
   ]
  },
  {
   "cell_type": "code",
   "execution_count": 48,
   "id": "481b9574",
   "metadata": {},
   "outputs": [
    {
     "data": {
      "text/plain": [
       "('1', '2', '3', '4', '5', '6', '7', '8', '9', '10')"
      ]
     },
     "execution_count": 48,
     "metadata": {},
     "output_type": "execute_result"
    }
   ],
   "source": [
    "def stringify_list_into_tuple(l):\n",
    "    return tuple(map(lambda x : str(x), l))\n",
    "\n",
    "stringify_list_into_tuple(l_int)"
   ]
  },
  {
   "cell_type": "markdown",
   "id": "df5d9d69",
   "metadata": {},
   "source": [
    "### 9. Write a Python program to create a new list taking specific elements from a tuple and convert a string value to integer. "
   ]
  },
  {
   "cell_type": "code",
   "execution_count": 123,
   "id": "53e39ce0",
   "metadata": {},
   "outputs": [],
   "source": [
    "employee_data  = [('Krish Naik','15/05/1988','65kg'), ('Sudhanshu Kumar','17/05/1986','77kg'), \n",
    "                  ('Navin Reddy','16/02/1989', '69kg'), ('Sunny Savita','25/09/1990', '65kg')]"
   ]
  },
  {
   "cell_type": "code",
   "execution_count": 124,
   "id": "6920a23e",
   "metadata": {},
   "outputs": [
    {
     "data": {
      "text/plain": [
       "['Krish Naik', 'Sudhanshu Kumar', 'Navin Reddy', 'Sunny Savita']"
      ]
     },
     "execution_count": 124,
     "metadata": {},
     "output_type": "execute_result"
    }
   ],
   "source": [
    "employee_name = list(map(lambda x : x[0], employee_data))\n",
    "employee_name"
   ]
  },
  {
   "cell_type": "code",
   "execution_count": 125,
   "id": "2e4057db",
   "metadata": {},
   "outputs": [
    {
     "data": {
      "text/plain": [
       "['15/05/1988', '17/05/1986', '16/02/1989', '25/09/1990']"
      ]
     },
     "execution_count": 125,
     "metadata": {},
     "output_type": "execute_result"
    }
   ],
   "source": [
    "employee_dob = list(map(lambda x : x[1], employee_data))\n",
    "employee_dob"
   ]
  },
  {
   "cell_type": "code",
   "execution_count": 126,
   "id": "0fdcecbf",
   "metadata": {},
   "outputs": [
    {
     "data": {
      "text/plain": [
       "[65, 77, 69, 65]"
      ]
     },
     "execution_count": 126,
     "metadata": {},
     "output_type": "execute_result"
    }
   ],
   "source": [
    "employee_weight = list(map(lambda x : int(x[2][:2]), employee_data))\n",
    "employee_weight"
   ]
  },
  {
   "cell_type": "markdown",
   "id": "1d812196",
   "metadata": {},
   "source": [
    "### 10. Write a Python program to compute the square of first N Fibonacci numbers, using map function and generate a list of the numbers."
   ]
  },
  {
   "cell_type": "code",
   "execution_count": 11,
   "id": "201f32fe",
   "metadata": {},
   "outputs": [
    {
     "data": {
      "text/plain": [
       "[0, 1, 1, 4, 9, 25, 64, 169, 441, 1156, 3025, 7921]"
      ]
     },
     "execution_count": 11,
     "metadata": {},
     "output_type": "execute_result"
    }
   ],
   "source": [
    "import itertools as it\n",
    "\n",
    "def fib(x=0, y=1):\n",
    "    yield x\n",
    "    while True:\n",
    "        yield y\n",
    "        x, y = y, x + y\n",
    "no_of_iterations = 12\n",
    "l = list(it.islice(fib(), no_of_iterations))\n",
    " \n",
    "square_fibonacci = list(map(lambda x : x **2, l))\n",
    "square_fibonacci"
   ]
  },
  {
   "cell_type": "markdown",
   "id": "8a50d249",
   "metadata": {},
   "source": [
    "### 11. Write a Python program to compute the sum of elements of a given array of integers, use map() function."
   ]
  },
  {
   "cell_type": "code",
   "execution_count": 19,
   "id": "d9272ef2",
   "metadata": {},
   "outputs": [],
   "source": [
    "l_int = [i for i in range(1,101)]"
   ]
  },
  {
   "cell_type": "code",
   "execution_count": 20,
   "id": "360e4de0",
   "metadata": {},
   "outputs": [
    {
     "data": {
      "text/plain": [
       "5050"
      ]
     },
     "execution_count": 20,
     "metadata": {},
     "output_type": "execute_result"
    }
   ],
   "source": [
    "from array import array as arr\n",
    "def add(num_array):\n",
    "    sum = 0\n",
    "    for i in num_array:\n",
    "        sum += i\n",
    "    return sum\n",
    "\n",
    "num = arr('i', l_int)\n",
    "\n",
    "num_array = list(map(int, num))\n",
    "add(num_array)"
   ]
  },
  {
   "cell_type": "markdown",
   "id": "9e995e14",
   "metadata": {},
   "source": [
    "### 12. Write a Python program to find the ration of positive numbers, negative numbers and zeroes in an array of integers"
   ]
  },
  {
   "cell_type": "code",
   "execution_count": 31,
   "id": "4cd68f9e",
   "metadata": {},
   "outputs": [
    {
     "data": {
      "text/plain": [
       "17"
      ]
     },
     "execution_count": 31,
     "metadata": {},
     "output_type": "execute_result"
    }
   ],
   "source": [
    "num = arr('i', [1,2,-2,-3,0,5,6,7,8,-7,0,-5,99,-101,-89,0,89])\n",
    "len(num)"
   ]
  },
  {
   "cell_type": "code",
   "execution_count": 38,
   "id": "68b2de3c",
   "metadata": {},
   "outputs": [
    {
     "data": {
      "text/plain": [
       "'ratio of positive numbers: 0.47, negative numbers: 0.35 and zeroes: 0.18'"
      ]
     },
     "execution_count": 38,
     "metadata": {},
     "output_type": "execute_result"
    }
   ],
   "source": [
    "def ratio_calc(num):\n",
    "    n_pos = n_neg = n_zero = 0\n",
    "    n = len(num)\n",
    "    for x in num:\n",
    "        if x == 0:\n",
    "            n_zero += 1\n",
    "        elif x > 0:\n",
    "            n_pos += 1\n",
    "        elif x < 0:\n",
    "            n_neg += 1\n",
    "    \n",
    "    return \"ratio of positive numbers: {}, negative numbers: {} and zeroes: {}\".format(round(n_pos/n,2),\n",
    "                                                                                       round(n_neg/n,2),\n",
    "                                                                                       round(n_zero/n,2)\n",
    "                                                                                        )\n",
    "\n",
    "int_array = list(map(int, num))\n",
    "ratio_calc(int_array)"
   ]
  },
  {
   "cell_type": "markdown",
   "id": "d29c7fe2",
   "metadata": {},
   "source": [
    "### 13. Write a Python program to count the same pair in two given lists. use map() function."
   ]
  },
  {
   "cell_type": "code",
   "execution_count": 54,
   "id": "ee1290ee",
   "metadata": {},
   "outputs": [
    {
     "data": {
      "text/plain": [
       "[4, 2, 6, 4, 3, 9, 1, 6, 2, 4, 7]"
      ]
     },
     "execution_count": 54,
     "metadata": {},
     "output_type": "execute_result"
    }
   ],
   "source": [
    "import random\n",
    "l1 = [random.randrange(1,10) for i in range(11)]\n",
    "l1"
   ]
  },
  {
   "cell_type": "code",
   "execution_count": 58,
   "id": "dfed0b67",
   "metadata": {},
   "outputs": [
    {
     "data": {
      "text/plain": [
       "[7, 2, 6, 6, 9, 2, 2, 1, 2, 8, 8]"
      ]
     },
     "execution_count": 58,
     "metadata": {},
     "output_type": "execute_result"
    }
   ],
   "source": [
    "l2 = [random.randrange(1,10) for i in range(11)]\n",
    "l2"
   ]
  },
  {
   "cell_type": "code",
   "execution_count": 59,
   "id": "ff5ae459",
   "metadata": {},
   "outputs": [
    {
     "data": {
      "text/plain": [
       "3"
      ]
     },
     "execution_count": 59,
     "metadata": {},
     "output_type": "execute_result"
    }
   ],
   "source": [
    "from operator import eq\n",
    "\n",
    "def count_same_pair(list1, list2):\n",
    "    return sum(map(eq, l1, l2))\n",
    "\n",
    "count_same_pair(l1, l2)"
   ]
  },
  {
   "cell_type": "markdown",
   "id": "81597933",
   "metadata": {},
   "source": [
    "### 14. Write a Python program to interleave two given list into another list randomly using map() function."
   ]
  },
  {
   "cell_type": "code",
   "execution_count": 62,
   "id": "d05ff7ef",
   "metadata": {},
   "outputs": [],
   "source": [
    "import random\n",
    "l1 = [random.randint(1,20) for i in range(11)]\n",
    "l2 = [random.randint(1,20) for i in range(11)]"
   ]
  },
  {
   "cell_type": "code",
   "execution_count": 63,
   "id": "280e7297",
   "metadata": {},
   "outputs": [
    {
     "name": "stdout",
     "output_type": "stream",
     "text": [
      "[16, 17, 20, 4, 14, 17, 8, 8, 4, 1, 13]\n",
      "[5, 14, 11, 1, 1, 16, 15, 3, 18, 20, 18]\n"
     ]
    }
   ],
   "source": [
    "print(l1)\n",
    "print(l2)"
   ]
  },
  {
   "cell_type": "code",
   "execution_count": 69,
   "id": "42eec247",
   "metadata": {},
   "outputs": [
    {
     "data": {
      "text/plain": [
       "[16, 17, 20, 4, 14, 5, 14, 11, 17, 8, 8, 4, 1, 1, 16, 1, 13, 15, 3, 18, 20, 18]"
      ]
     },
     "execution_count": 69,
     "metadata": {},
     "output_type": "execute_result"
    }
   ],
   "source": [
    "def interleave_list(list1, list2):\n",
    "    \"\"\"\n",
    "    This functions adds two list elements in random sequence\n",
    "    \"\"\"\n",
    "    return list(map(next, random.sample([iter(list1)]*len(list1) + [iter(list2)]*len(list2), len(list1)+len(list2))))\n",
    "\n",
    "interleave_list(l1, l2)"
   ]
  },
  {
   "cell_type": "markdown",
   "id": "acc6b122",
   "metadata": {},
   "source": [
    "### 15. Write a Python program to split a given dictionary of lists into list of dictionaries using map function."
   ]
  },
  {
   "cell_type": "code",
   "execution_count": 74,
   "id": "adb66e9d",
   "metadata": {},
   "outputs": [],
   "source": [
    "dict1 = {\"Name\" : [\"Krish\", \"Sudhanshu\", \"Navin\"], \"Surname\" : [\"Naik\", \"Kumar\", \"Reddy\"] }"
   ]
  },
  {
   "cell_type": "code",
   "execution_count": 76,
   "id": "7a6eee68",
   "metadata": {},
   "outputs": [
    {
     "data": {
      "text/plain": [
       "[{'Name': 'Krish', 'Surname': 'Naik'},\n",
       " {'Name': 'Sudhanshu', 'Surname': 'Kumar'},\n",
       " {'Name': 'Navin', 'Surname': 'Reddy'}]"
      ]
     },
     "execution_count": 76,
     "metadata": {},
     "output_type": "execute_result"
    }
   ],
   "source": [
    "def dict_list_of_dict(dict1):\n",
    "    return list(map(dict, zip(*[[(key, val) for val in value] for key, value in dict1.items()])))\n",
    "dict_list_of_dict(dict1)"
   ]
  },
  {
   "cell_type": "markdown",
   "id": "d6cee54a",
   "metadata": {},
   "source": [
    "### 16. Write a Python program to convert a given list of strings into list of lists using map function."
   ]
  },
  {
   "cell_type": "code",
   "execution_count": 78,
   "id": "9ac3657c",
   "metadata": {},
   "outputs": [
    {
     "data": {
      "text/plain": [
       "[['D', 'L'], ['M', 'L'], ['N', 'L', 'P'], ['C', 'V']]"
      ]
     },
     "execution_count": 78,
     "metadata": {},
     "output_type": "execute_result"
    }
   ],
   "source": [
    "l_courses = [\"DL\", \"ML\", \"NLP\", \"CV\"]\n",
    "\n",
    "def list_of_list(l):\n",
    "    return list(map(list, l))\n",
    "\n",
    "list_of_list(l_courses)"
   ]
  },
  {
   "cell_type": "markdown",
   "id": "d69e8100",
   "metadata": {},
   "source": [
    "### 17. Write a Python program to convert a given list of tuples to a list of strings using map function."
   ]
  },
  {
   "cell_type": "code",
   "execution_count": 83,
   "id": "738abac8",
   "metadata": {},
   "outputs": [
    {
     "data": {
      "text/plain": [
       "['Krish Naik', 'Sudhanshu Kumar', 'Navin Reddy', 'Hitesh Choudhary']"
      ]
     },
     "execution_count": 83,
     "metadata": {},
     "output_type": "execute_result"
    }
   ],
   "source": [
    "mentors = [(\"Krish\", \"Naik\"), (\"Sudhanshu\", \"Kumar\"), (\"Navin\", \"Reddy\"), (\"Hitesh\", \"Choudhary\")]\n",
    "\n",
    "def ListofTuples_to_ListofStrings(l): \n",
    "    return list(map(lambda x : x[0] + \" \"+ x[1],l))\n",
    "\n",
    "ListofTuples_to_ListofStrings(mentors)"
   ]
  },
  {
   "cell_type": "markdown",
   "id": "dfd8e1c4",
   "metadata": {},
   "source": [
    "### 18. Write a Python program to filter a list of integers using filter function."
   ]
  },
  {
   "cell_type": "code",
   "execution_count": 106,
   "id": "5edd9a2a",
   "metadata": {},
   "outputs": [
    {
     "data": {
      "text/plain": [
       "[2, 4, 6, 8, 10]"
      ]
     },
     "execution_count": 106,
     "metadata": {},
     "output_type": "execute_result"
    }
   ],
   "source": [
    "lint = [i for i in range(1,11)]\n",
    "\n",
    "def even_filter(l):\n",
    "    return list(filter(lambda x : x % 2 == 0 , l))\n",
    "\n",
    "even_filter(lint)"
   ]
  },
  {
   "cell_type": "code",
   "execution_count": 107,
   "id": "f148a664",
   "metadata": {},
   "outputs": [
    {
     "data": {
      "text/plain": [
       "[1, 3, 5, 7, 9]"
      ]
     },
     "execution_count": 107,
     "metadata": {},
     "output_type": "execute_result"
    }
   ],
   "source": [
    "def odd_filter(l):\n",
    "    return list(filter(lambda x : x % 2 != 0 , l))\n",
    "\n",
    "odd_filter(lint)"
   ]
  },
  {
   "cell_type": "markdown",
   "id": "6290b1bf",
   "metadata": {},
   "source": [
    "### 19. Write a Python program to find intersection of two given arrays using Filter function."
   ]
  },
  {
   "cell_type": "code",
   "execution_count": 104,
   "id": "ff16bd7f",
   "metadata": {},
   "outputs": [
    {
     "data": {
      "text/plain": [
       "[2, 4, 6, 8]"
      ]
     },
     "execution_count": 104,
     "metadata": {},
     "output_type": "execute_result"
    }
   ],
   "source": [
    "l1 = [1,2,3,4,5,6,7,8,9,10]\n",
    "l2 = [2,4,6,8,11,12]\n",
    "\n",
    "def intersection(list1, list2):\n",
    "    return list(filter(lambda x : x in list1 , list2))\n",
    "\n",
    "intersection(l1, l2)"
   ]
  },
  {
   "cell_type": "markdown",
   "id": "ddc1f4d6",
   "metadata": {},
   "source": [
    "### 20. Write a Python program to count the even, odd numbers in a given array of integers using filter function."
   ]
  },
  {
   "cell_type": "code",
   "execution_count": 93,
   "id": "f190210e",
   "metadata": {},
   "outputs": [
    {
     "data": {
      "text/plain": [
       "[37, 12, 16, 23, 43, 26, 32, 4, 27, 35]"
      ]
     },
     "execution_count": 93,
     "metadata": {},
     "output_type": "execute_result"
    }
   ],
   "source": [
    "import random\n",
    "def count_Even_odd(l) :\n",
    "    even = len(list(filter(lambda x: x % 2 == 0, l)))\n",
    "\n",
    "    print(\"Count of Even number in given list is: \", even)\n",
    "    print(\"Count of odd number in given list is: \", len(l) - even)\n",
    "    \n",
    "list_num = [random.randrange(1,50) for i in range(10)]\n",
    "list_num"
   ]
  },
  {
   "cell_type": "code",
   "execution_count": 94,
   "id": "73985743",
   "metadata": {},
   "outputs": [
    {
     "name": "stdout",
     "output_type": "stream",
     "text": [
      "Count of Even number in given list is:  5\n",
      "Count of odd number in given list is:  5\n"
     ]
    }
   ],
   "source": [
    "count_Even_odd(list_num)"
   ]
  },
  {
   "cell_type": "markdown",
   "id": "5c21fc0c",
   "metadata": {},
   "source": [
    "### 21. Write a Python program to find palindromes in a given list of strings using filter function."
   ]
  },
  {
   "cell_type": "code",
   "execution_count": 103,
   "id": "af785d0b",
   "metadata": {},
   "outputs": [
    {
     "data": {
      "text/plain": [
       "['php', 'aaa']"
      ]
     },
     "execution_count": 103,
     "metadata": {},
     "output_type": "execute_result"
    }
   ],
   "source": [
    "l_word = ['php', 'w3r', 'Python', 'abcd', 'Java', 'aaa']\n",
    "\n",
    "def palindrome_filter(l):\n",
    "    return list(filter(lambda x : x if x == x[::-1] else '', l))\n",
    "\n",
    "palindrome_filter(l_word)"
   ]
  },
  {
   "cell_type": "markdown",
   "id": "528e04e8",
   "metadata": {},
   "source": [
    "### 22. Write a Python program to find all anagrams of a string in a given list of strings using filter function. "
   ]
  },
  {
   "cell_type": "code",
   "execution_count": 108,
   "id": "086aabf7",
   "metadata": {},
   "outputs": [
    {
     "data": {
      "text/plain": [
       "['wxyz', 'zywx', 'yzxw']"
      ]
     },
     "execution_count": 108,
     "metadata": {},
     "output_type": "execute_result"
    }
   ],
   "source": [
    "l = ['wxyz', 'wxye', 'zywx', 'zxew', 'yzxw']\n",
    "\n",
    "from collections import Counter \n",
    "\n",
    "def anagrams_filter(main_string, list_words):\n",
    "    return list(filter(lambda x: x if Counter(main_string) == Counter(x) else '', list_words))\n",
    "\n",
    "anagrams_filter(\"wxyz\", l)"
   ]
  },
  {
   "cell_type": "markdown",
   "id": "999b26a4",
   "metadata": {},
   "source": [
    "### 23. Write a Python program to calculate the product of a given list of numbers using reduce function."
   ]
  },
  {
   "cell_type": "code",
   "execution_count": 121,
   "id": "2d688c1e",
   "metadata": {},
   "outputs": [
    {
     "data": {
      "text/plain": [
       "3628800"
      ]
     },
     "execution_count": 121,
     "metadata": {},
     "output_type": "execute_result"
    }
   ],
   "source": [
    "from functools import reduce\n",
    "\n",
    "l = [i for i in range(1,11)]\n",
    "\n",
    "def product_reduce(l_int):\n",
    "    return reduce(lambda x,y : x*y, l_int)\n",
    "\n",
    "product_reduce(l)"
   ]
  },
  {
   "cell_type": "markdown",
   "id": "7569ba7a",
   "metadata": {},
   "source": [
    "### 24. Write a Python program to calculate the sum of numbers in a given list of numbers using reduce function."
   ]
  },
  {
   "cell_type": "code",
   "execution_count": 122,
   "id": "20956a97",
   "metadata": {},
   "outputs": [
    {
     "data": {
      "text/plain": [
       "165"
      ]
     },
     "execution_count": 122,
     "metadata": {},
     "output_type": "execute_result"
    }
   ],
   "source": [
    "l_num = [i for i in range(10, 21)]\n",
    "\n",
    "def sum_reduce(l_int):\n",
    "    return reduce(lambda x,y : x+y, l_int)\n",
    "\n",
    "sum_reduce(l_num)"
   ]
  },
  {
   "cell_type": "markdown",
   "id": "03953e87",
   "metadata": {},
   "source": [
    "### 25. Write a Python program to multiply all the numbers in a given list using reduce function."
   ]
  },
  {
   "cell_type": "code",
   "execution_count": 118,
   "id": "ee12a3eb",
   "metadata": {},
   "outputs": [],
   "source": [
    "l = [4, 3, 2, 2, -1, 18]\n",
    "l1 = [2.2, 4.12, 6.6, 8.1, 8.3]\n",
    "\n",
    "def multiply_reduce(l_int):\n",
    "    return round(reduce(lambda x,y : x*y, l_int), 2)"
   ]
  },
  {
   "cell_type": "code",
   "execution_count": 119,
   "id": "d160cd2d",
   "metadata": {},
   "outputs": [
    {
     "data": {
      "text/plain": [
       "-864"
      ]
     },
     "execution_count": 119,
     "metadata": {},
     "output_type": "execute_result"
    }
   ],
   "source": [
    "multiply_reduce(l)"
   ]
  },
  {
   "cell_type": "code",
   "execution_count": 120,
   "id": "cd80504f",
   "metadata": {},
   "outputs": [
    {
     "data": {
      "text/plain": [
       "4021.86"
      ]
     },
     "execution_count": 120,
     "metadata": {},
     "output_type": "execute_result"
    }
   ],
   "source": [
    "multiply_reduce(l1)"
   ]
  }
 ],
 "metadata": {
  "kernelspec": {
   "display_name": "Python 3 (ipykernel)",
   "language": "python",
   "name": "python3"
  },
  "language_info": {
   "codemirror_mode": {
    "name": "ipython",
    "version": 3
   },
   "file_extension": ".py",
   "mimetype": "text/x-python",
   "name": "python",
   "nbconvert_exporter": "python",
   "pygments_lexer": "ipython3",
   "version": "3.9.12"
  }
 },
 "nbformat": 4,
 "nbformat_minor": 5
}
