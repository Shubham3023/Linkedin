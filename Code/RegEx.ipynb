{
 "cells": [
  {
   "cell_type": "markdown",
   "id": "a835515e",
   "metadata": {},
   "source": [
    "# RegEx (Regular Expression)\n",
    "\n",
    "**Shubham Verma**\n",
    "\n",
    "**Linkedin** https://www.linkedin.com/in/shubham-verma-3968a5119"
   ]
  },
  {
   "cell_type": "code",
   "execution_count": 1,
   "id": "39385fb5",
   "metadata": {},
   "outputs": [],
   "source": [
    "import re"
   ]
  },
  {
   "cell_type": "code",
   "execution_count": 44,
   "id": "42ba6010",
   "metadata": {},
   "outputs": [],
   "source": [
    "test_string = '123abc456789abc123ABC'"
   ]
  },
  {
   "cell_type": "code",
   "execution_count": 45,
   "id": "91e776e3",
   "metadata": {},
   "outputs": [
    {
     "name": "stdout",
     "output_type": "stream",
     "text": [
      "<re.Match object; span=(3, 6), match='abc'>\n",
      "<re.Match object; span=(12, 15), match='abc'>\n"
     ]
    }
   ],
   "source": [
    "# finditer() method gives match object\n",
    "pattern = re.compile(r'abc')\n",
    "matches = pattern.finditer(test_string)\n",
    "\n",
    "for match in matches:\n",
    "    print(match)"
   ]
  },
  {
   "cell_type": "code",
   "execution_count": 46,
   "id": "b2065d3a",
   "metadata": {},
   "outputs": [
    {
     "name": "stdout",
     "output_type": "stream",
     "text": [
      "<re.Match object; span=(3, 6), match='abc'>\n",
      "<re.Match object; span=(12, 15), match='abc'>\n"
     ]
    }
   ],
   "source": [
    "# or can also be done in following way:\n",
    "\n",
    "matches = re.finditer(r\"abc\", test_string)\n",
    "for match in matches:\n",
    "    print(match)"
   ]
  },
  {
   "cell_type": "code",
   "execution_count": 47,
   "id": "d36eebe5",
   "metadata": {},
   "outputs": [
    {
     "name": "stdout",
     "output_type": "stream",
     "text": [
      "abc\n",
      "abc\n"
     ]
    }
   ],
   "source": [
    "# findall() method gives all matching strings\n",
    "\n",
    "matches = re.findall(r\"abc\", test_string)\n",
    "for match in matches:\n",
    "    print(match)"
   ]
  },
  {
   "cell_type": "code",
   "execution_count": 48,
   "id": "60e7b6c3",
   "metadata": {},
   "outputs": [
    {
     "name": "stdout",
     "output_type": "stream",
     "text": [
      "None\n"
     ]
    }
   ],
   "source": [
    "# match() method gives first match at the beginning of string.\n",
    "\n",
    "match = re.match(r\"abc\", test_string)\n",
    "print(match)"
   ]
  },
  {
   "cell_type": "code",
   "execution_count": 49,
   "id": "698c747d",
   "metadata": {},
   "outputs": [
    {
     "name": "stdout",
     "output_type": "stream",
     "text": [
      "<re.Match object; span=(0, 3), match='123'>\n"
     ]
    }
   ],
   "source": [
    "match = re.match(r\"123\", test_string)\n",
    "print(match)"
   ]
  },
  {
   "cell_type": "code",
   "execution_count": 50,
   "id": "d1737172",
   "metadata": {},
   "outputs": [
    {
     "name": "stdout",
     "output_type": "stream",
     "text": [
      "<re.Match object; span=(3, 6), match='abc'>\n"
     ]
    }
   ],
   "source": [
    "# search() method gives first matching string at any location\n",
    "\n",
    "match = re.search(r\"abc\", test_string)\n",
    "print(match)"
   ]
  },
  {
   "cell_type": "markdown",
   "id": "bfd2f931",
   "metadata": {},
   "source": [
    "### Methods on a Match object\n",
    "1. group(): Return the string matched by the RE\n",
    "2. start(): Return the starting position of the match\n",
    "3. end(): Return the ending position of the match\n",
    "4. span(): Return a tuple containing the (start, end) positions of the match"
   ]
  },
  {
   "cell_type": "code",
   "execution_count": 51,
   "id": "90b5ccdd",
   "metadata": {},
   "outputs": [
    {
     "name": "stdout",
     "output_type": "stream",
     "text": [
      "(3, 6) 3 6\n",
      "(12, 15) 12 15\n"
     ]
    }
   ],
   "source": [
    "# moving forward with finditer() method\n",
    "pattern = re.compile(r'abc')\n",
    "matches = pattern.finditer(test_string)\n",
    "\n",
    "for match in matches:\n",
    "    print(match.span(), match.start(), match.end())\n",
    "    \n",
    "# group, start, end, span method"
   ]
  },
  {
   "cell_type": "code",
   "execution_count": 52,
   "id": "f9882923",
   "metadata": {},
   "outputs": [
    {
     "name": "stdout",
     "output_type": "stream",
     "text": [
      "abc\n",
      "abc\n"
     ]
    }
   ],
   "source": [
    "pattern = re.compile(r'abc')\n",
    "matches = pattern.finditer(test_string)\n",
    "\n",
    "for match in matches:\n",
    "    print(match.group())"
   ]
  },
  {
   "cell_type": "markdown",
   "id": "7a767ad2",
   "metadata": {},
   "source": [
    "### All meta characters `. ^ $ * + ? { } \\ | ( )`\n",
    "**Note: Meta characters need to be escaped (with ) if we actually want to search for the char.**\n",
    "\n",
    "1. `.` any character (except new line character)\n",
    "2. `^` startswith \"^hello\"\n",
    "3. `$` endswith \"world$\"\n",
    "4. `*` zero or more occurances \n",
    "5. `+` one or more occurances \n",
    "6. `{}` exactly specified no of occurances \"al{2}\"\n",
    "7. `[]` A set of characters \"[a-m]\"\n",
    "8. `\\` Signals a special sequence (can also be used to escape special characters) \"\\d\"\n",
    "9. `|` Either or \"falls|stays\"\n",
    "10. `( )` Capture and group"
   ]
  },
  {
   "cell_type": "markdown",
   "id": "09ac29ef",
   "metadata": {},
   "source": [
    "### More Metacharacters / Special Sequences\n",
    "**A special sequence is a \\ followed by one of the characters in the list below, and has a special meaning:**\n",
    "\n",
    "1. `\\d` :Matches any decimal digit; this is equivalent to the class [0-9].\n",
    "2. `\\D` : Matches any non-digit character; this is equivalent to the class [^0-9].\n",
    "3. `\\s` : Matches any whitespace character;\n",
    "4. `\\S` : Matches any non-whitespace character;\n",
    "5. `\\w` : Matches any alphanumeric (word) character; this is equivalent to the class [a-zA-Z0-9_].\n",
    "6. `\\W` : Matches any non-alphanumeric character; this is equivalent to the class [^a-zA-Z0-9_].\n",
    "7. `\\b` Returns a match where the specified characters are at the beginning or at the end of a word r\"\\bain\" r\"ain\\b\"\n",
    "8. `\\B` Returns a match where the specified characters are present, but NOT at the beginning (or at the end) of a word r\"\\Bain\" r\"ain\\B\"\n",
    "9. `\\A` Returns a match if the specified characters are at the beginning of the string \"\\AThe\"\n",
    "10. `\\Z` Returns a match if the specified characters are at the end of the string \"Spain\\Z\""
   ]
  },
  {
   "cell_type": "code",
   "execution_count": 53,
   "id": "08eaa21b",
   "metadata": {},
   "outputs": [
    {
     "name": "stdout",
     "output_type": "stream",
     "text": [
      "1 2 3 a b c 4 5 6 7 8 9 a b c 1 2 3 A B C "
     ]
    }
   ],
   "source": [
    "pattern = re.compile(r\".\")\n",
    "matches = pattern.finditer(test_string)\n",
    "\n",
    "for match in matches:\n",
    "    print(match.group(), end = \" \")"
   ]
  },
  {
   "cell_type": "code",
   "execution_count": 54,
   "id": "860e9012",
   "metadata": {},
   "outputs": [
    {
     "name": "stdout",
     "output_type": "stream",
     "text": [
      "<re.Match object; span=(21, 22), match='.'>\n"
     ]
    }
   ],
   "source": [
    "test_string1 = '123abc456789abc123ABC.'\n",
    "\n",
    "pattern = re.compile(r\"\\.\")\n",
    "matches = pattern.finditer(test_string1)\n",
    "\n",
    "for match in matches:\n",
    "    print(match)"
   ]
  },
  {
   "cell_type": "code",
   "execution_count": 55,
   "id": "1624cc94",
   "metadata": {},
   "outputs": [
    {
     "name": "stdout",
     "output_type": "stream",
     "text": [
      "<re.Match object; span=(0, 3), match='123'>\n"
     ]
    }
   ],
   "source": [
    "test_string = '123abc456789abc123ABC'\n",
    "\n",
    "pattern = re.compile(r\"^123\")\n",
    "matches = pattern.finditer(test_string)\n",
    "\n",
    "for match in matches:\n",
    "    print(match)"
   ]
  },
  {
   "cell_type": "code",
   "execution_count": 56,
   "id": "77a63bc6",
   "metadata": {},
   "outputs": [],
   "source": [
    "pattern = re.compile(r\"^abc\")\n",
    "matches = pattern.finditer(test_string)\n",
    "\n",
    "for match in matches:\n",
    "    print(match)\n",
    "# no match"
   ]
  },
  {
   "cell_type": "code",
   "execution_count": 57,
   "id": "1dce5026",
   "metadata": {},
   "outputs": [],
   "source": [
    "pattern = re.compile(r\"abc$\")\n",
    "matches = pattern.finditer(test_string)\n",
    "\n",
    "for match in matches:\n",
    "    print(match)\n",
    "    \n",
    "# no match"
   ]
  },
  {
   "cell_type": "code",
   "execution_count": 58,
   "id": "286dfcb5",
   "metadata": {},
   "outputs": [
    {
     "name": "stdout",
     "output_type": "stream",
     "text": [
      "<re.Match object; span=(18, 21), match='ABC'>\n"
     ]
    }
   ],
   "source": [
    "pattern = re.compile(r\"ABC$\")\n",
    "matches = pattern.finditer(test_string)\n",
    "\n",
    "for match in matches:\n",
    "    print(match)\n",
    "    "
   ]
  },
  {
   "cell_type": "code",
   "execution_count": 59,
   "id": "721548b9",
   "metadata": {},
   "outputs": [],
   "source": [
    "test_string2 = 'hello 123_ heyho hohey'"
   ]
  },
  {
   "cell_type": "code",
   "execution_count": 60,
   "id": "f9a675a1",
   "metadata": {},
   "outputs": [
    {
     "name": "stdout",
     "output_type": "stream",
     "text": [
      "<re.Match object; span=(6, 7), match='1'>\n",
      "<re.Match object; span=(7, 8), match='2'>\n",
      "<re.Match object; span=(8, 9), match='3'>\n"
     ]
    }
   ],
   "source": [
    "pattern = re.compile(r\"\\d\")\n",
    "matches = pattern.finditer(test_string2)\n",
    "\n",
    "for match in matches:\n",
    "    print(match)"
   ]
  },
  {
   "cell_type": "code",
   "execution_count": 61,
   "id": "c740d18b",
   "metadata": {},
   "outputs": [
    {
     "name": "stdout",
     "output_type": "stream",
     "text": [
      "<re.Match object; span=(0, 1), match='h'>\n",
      "<re.Match object; span=(1, 2), match='e'>\n",
      "<re.Match object; span=(2, 3), match='l'>\n",
      "<re.Match object; span=(3, 4), match='l'>\n",
      "<re.Match object; span=(4, 5), match='o'>\n",
      "<re.Match object; span=(5, 6), match=' '>\n",
      "<re.Match object; span=(9, 10), match='_'>\n",
      "<re.Match object; span=(10, 11), match=' '>\n",
      "<re.Match object; span=(11, 12), match='h'>\n",
      "<re.Match object; span=(12, 13), match='e'>\n",
      "<re.Match object; span=(13, 14), match='y'>\n",
      "<re.Match object; span=(14, 15), match='h'>\n",
      "<re.Match object; span=(15, 16), match='o'>\n",
      "<re.Match object; span=(16, 17), match=' '>\n",
      "<re.Match object; span=(17, 18), match='h'>\n",
      "<re.Match object; span=(18, 19), match='o'>\n",
      "<re.Match object; span=(19, 20), match='h'>\n",
      "<re.Match object; span=(20, 21), match='e'>\n",
      "<re.Match object; span=(21, 22), match='y'>\n"
     ]
    }
   ],
   "source": [
    "pattern = re.compile(r\"\\D\")\n",
    "matches = pattern.finditer(test_string2)\n",
    "\n",
    "for match in matches:\n",
    "    print(match)"
   ]
  },
  {
   "cell_type": "code",
   "execution_count": 62,
   "id": "2cc86cf7",
   "metadata": {},
   "outputs": [
    {
     "name": "stdout",
     "output_type": "stream",
     "text": [
      "<re.Match object; span=(5, 6), match=' '>\n",
      "<re.Match object; span=(10, 11), match=' '>\n",
      "<re.Match object; span=(16, 17), match=' '>\n"
     ]
    }
   ],
   "source": [
    "pattern = re.compile(r\"\\s\")\n",
    "matches = pattern.finditer(test_string2)\n",
    "\n",
    "for match in matches:\n",
    "    print(match)"
   ]
  },
  {
   "cell_type": "code",
   "execution_count": 63,
   "id": "3431fdfb",
   "metadata": {},
   "outputs": [
    {
     "name": "stdout",
     "output_type": "stream",
     "text": [
      "<re.Match object; span=(0, 1), match='h'>\n",
      "<re.Match object; span=(1, 2), match='e'>\n",
      "<re.Match object; span=(2, 3), match='l'>\n",
      "<re.Match object; span=(3, 4), match='l'>\n",
      "<re.Match object; span=(4, 5), match='o'>\n",
      "<re.Match object; span=(6, 7), match='1'>\n",
      "<re.Match object; span=(7, 8), match='2'>\n",
      "<re.Match object; span=(8, 9), match='3'>\n",
      "<re.Match object; span=(9, 10), match='_'>\n",
      "<re.Match object; span=(11, 12), match='h'>\n",
      "<re.Match object; span=(12, 13), match='e'>\n",
      "<re.Match object; span=(13, 14), match='y'>\n",
      "<re.Match object; span=(14, 15), match='h'>\n",
      "<re.Match object; span=(15, 16), match='o'>\n",
      "<re.Match object; span=(17, 18), match='h'>\n",
      "<re.Match object; span=(18, 19), match='o'>\n",
      "<re.Match object; span=(19, 20), match='h'>\n",
      "<re.Match object; span=(20, 21), match='e'>\n",
      "<re.Match object; span=(21, 22), match='y'>\n"
     ]
    }
   ],
   "source": [
    "pattern = re.compile(r\"\\S\")\n",
    "matches = pattern.finditer(test_string2)\n",
    "\n",
    "for match in matches:\n",
    "    print(match)"
   ]
  },
  {
   "cell_type": "code",
   "execution_count": 64,
   "id": "a65db623",
   "metadata": {},
   "outputs": [
    {
     "name": "stdout",
     "output_type": "stream",
     "text": [
      "<re.Match object; span=(0, 1), match='h'>\n",
      "<re.Match object; span=(1, 2), match='e'>\n",
      "<re.Match object; span=(2, 3), match='l'>\n",
      "<re.Match object; span=(3, 4), match='l'>\n",
      "<re.Match object; span=(4, 5), match='o'>\n",
      "<re.Match object; span=(6, 7), match='1'>\n",
      "<re.Match object; span=(7, 8), match='2'>\n",
      "<re.Match object; span=(8, 9), match='3'>\n",
      "<re.Match object; span=(9, 10), match='_'>\n",
      "<re.Match object; span=(11, 12), match='h'>\n",
      "<re.Match object; span=(12, 13), match='e'>\n",
      "<re.Match object; span=(13, 14), match='y'>\n",
      "<re.Match object; span=(14, 15), match='h'>\n",
      "<re.Match object; span=(15, 16), match='o'>\n",
      "<re.Match object; span=(17, 18), match='h'>\n",
      "<re.Match object; span=(18, 19), match='o'>\n",
      "<re.Match object; span=(19, 20), match='h'>\n",
      "<re.Match object; span=(20, 21), match='e'>\n",
      "<re.Match object; span=(21, 22), match='y'>\n"
     ]
    }
   ],
   "source": [
    "pattern = re.compile(r\"\\w\")\n",
    "matches = pattern.finditer(test_string2)\n",
    "\n",
    "for match in matches:\n",
    "    print(match)"
   ]
  },
  {
   "cell_type": "code",
   "execution_count": 65,
   "id": "ff7c2d69",
   "metadata": {},
   "outputs": [
    {
     "name": "stdout",
     "output_type": "stream",
     "text": [
      "<re.Match object; span=(5, 6), match=' '>\n",
      "<re.Match object; span=(10, 11), match=' '>\n",
      "<re.Match object; span=(16, 17), match=' '>\n"
     ]
    }
   ],
   "source": [
    "pattern = re.compile(r\"\\W\")\n",
    "matches = pattern.finditer(test_string2)\n",
    "\n",
    "for match in matches:\n",
    "    print(match)"
   ]
  },
  {
   "cell_type": "code",
   "execution_count": 66,
   "id": "44a5a039",
   "metadata": {},
   "outputs": [
    {
     "name": "stdout",
     "output_type": "stream",
     "text": [
      "<re.Match object; span=(0, 5), match='hello'>\n"
     ]
    }
   ],
   "source": [
    "pattern = re.compile(r\"\\bhello\")\n",
    "matches = pattern.finditer(test_string2)\n",
    "\n",
    "for match in matches:\n",
    "    print(match)"
   ]
  },
  {
   "cell_type": "code",
   "execution_count": 67,
   "id": "a65672d6",
   "metadata": {},
   "outputs": [
    {
     "name": "stdout",
     "output_type": "stream",
     "text": [
      "<re.Match object; span=(11, 14), match='hey'>\n"
     ]
    }
   ],
   "source": [
    "pattern = re.compile(r\"\\bhey\")\n",
    "matches = pattern.finditer(test_string2)\n",
    "\n",
    "for match in matches:\n",
    "    print(match)"
   ]
  },
  {
   "cell_type": "code",
   "execution_count": 68,
   "id": "c27a10f9",
   "metadata": {},
   "outputs": [
    {
     "name": "stdout",
     "output_type": "stream",
     "text": [
      "<re.Match object; span=(19, 22), match='hey'>\n"
     ]
    }
   ],
   "source": [
    "pattern = re.compile(r\"\\Bhey\")\n",
    "matches = pattern.finditer(test_string2)\n",
    "\n",
    "for match in matches:\n",
    "    print(match)"
   ]
  },
  {
   "cell_type": "markdown",
   "id": "826a82d6",
   "metadata": {},
   "source": [
    "### Sets\n",
    "\n",
    "1. A set is a set of characters inside a pair of square brackets [] with a special meaning. Append multiple conditions back-to back, e.g. [aA-Z].\n",
    "2. A ^ (caret) inside a set negates the expression.\n",
    "3. A - (dash) in a set specifies a range if it is in between, otherwise the dash itself.\n",
    "\n",
    "Examples:\n",
    "1. `[arn]` Returns a match where one of the specified characters (a, r, or n) are present\n",
    "2. `[a-n]` Returns a match for any lower case character, alphabetically between a and n\n",
    "3. `[^arn]` Returns a match for any character EXCEPT a, r, and n\n",
    "4. `[0123]` Returns a match where any of the specified digits (0, 1, 2, or 3) are present\n",
    "5. `[0-9]` Returns a match for any digit between 0 and 9\n",
    "6. `0-5` Returns a match for any two-digit numbers from 00 and 59\n",
    "7. `[a-zA-Z]` Returns a match for any character alphabetically between a and z, lower case OR upper case"
   ]
  },
  {
   "cell_type": "code",
   "execution_count": 69,
   "id": "cd275942",
   "metadata": {},
   "outputs": [],
   "source": [
    "test_string3 = 'hello 123_'"
   ]
  },
  {
   "cell_type": "code",
   "execution_count": 70,
   "id": "c28a9c5a",
   "metadata": {},
   "outputs": [
    {
     "name": "stdout",
     "output_type": "stream",
     "text": [
      "<re.Match object; span=(2, 3), match='l'>\n",
      "<re.Match object; span=(3, 4), match='l'>\n",
      "<re.Match object; span=(4, 5), match='o'>\n"
     ]
    }
   ],
   "source": [
    "pattern = re.compile(r\"[lo]\")\n",
    "matches = pattern.finditer(test_string3)\n",
    "\n",
    "for match in matches:\n",
    "    print(match)"
   ]
  },
  {
   "cell_type": "code",
   "execution_count": 71,
   "id": "4b3174a6",
   "metadata": {},
   "outputs": [
    {
     "name": "stdout",
     "output_type": "stream",
     "text": [
      "<re.Match object; span=(0, 1), match='h'>\n",
      "<re.Match object; span=(1, 2), match='e'>\n",
      "<re.Match object; span=(2, 3), match='l'>\n",
      "<re.Match object; span=(3, 4), match='l'>\n",
      "<re.Match object; span=(4, 5), match='o'>\n"
     ]
    }
   ],
   "source": [
    "pattern = re.compile(r\"[a-z]\")\n",
    "matches = pattern.finditer(test_string3)\n",
    "\n",
    "for match in matches:\n",
    "    print(match)"
   ]
  },
  {
   "cell_type": "code",
   "execution_count": 72,
   "id": "ee903ade",
   "metadata": {},
   "outputs": [
    {
     "name": "stdout",
     "output_type": "stream",
     "text": [
      "<re.Match object; span=(7, 8), match='2'>\n",
      "<re.Match object; span=(8, 9), match='3'>\n"
     ]
    }
   ],
   "source": [
    "pattern = re.compile(r\"[23]\")\n",
    "matches = pattern.finditer(test_string3)\n",
    "\n",
    "for match in matches:\n",
    "    print(match)"
   ]
  },
  {
   "cell_type": "code",
   "execution_count": 73,
   "id": "a0a8b842",
   "metadata": {},
   "outputs": [
    {
     "name": "stdout",
     "output_type": "stream",
     "text": [
      "<re.Match object; span=(6, 7), match='1'>\n",
      "<re.Match object; span=(7, 8), match='2'>\n",
      "<re.Match object; span=(8, 9), match='3'>\n"
     ]
    }
   ],
   "source": [
    "pattern = re.compile(r\"[0-9]\")\n",
    "matches = pattern.finditer(test_string3)\n",
    "\n",
    "for match in matches:\n",
    "    print(match)"
   ]
  },
  {
   "cell_type": "code",
   "execution_count": 74,
   "id": "cc6e9e47",
   "metadata": {},
   "outputs": [
    {
     "name": "stdout",
     "output_type": "stream",
     "text": [
      "<re.Match object; span=(6, 7), match='1'>\n",
      "<re.Match object; span=(7, 8), match='2'>\n",
      "<re.Match object; span=(8, 9), match='3'>\n",
      "<re.Match object; span=(9, 10), match='-'>\n"
     ]
    }
   ],
   "source": [
    "pattern = re.compile(r\"[0-9-]\")\n",
    "matches = pattern.finditer('hello 123-')\n",
    "\n",
    "for match in matches:\n",
    "    print(match)"
   ]
  },
  {
   "cell_type": "code",
   "execution_count": 75,
   "id": "57aaf782",
   "metadata": {},
   "outputs": [
    {
     "name": "stdout",
     "output_type": "stream",
     "text": [
      "<re.Match object; span=(0, 1), match='h'>\n",
      "<re.Match object; span=(1, 2), match='e'>\n",
      "<re.Match object; span=(2, 3), match='l'>\n",
      "<re.Match object; span=(3, 4), match='l'>\n",
      "<re.Match object; span=(4, 5), match='o'>\n",
      "<re.Match object; span=(5, 6), match='H'>\n",
      "<re.Match object; span=(6, 7), match='E'>\n",
      "<re.Match object; span=(7, 8), match='L'>\n",
      "<re.Match object; span=(8, 9), match='L'>\n",
      "<re.Match object; span=(9, 10), match='O'>\n",
      "<re.Match object; span=(11, 12), match='1'>\n",
      "<re.Match object; span=(12, 13), match='2'>\n",
      "<re.Match object; span=(13, 14), match='3'>\n"
     ]
    }
   ],
   "source": [
    "pattern = re.compile(r\"[a-zA-Z0-9]\")\n",
    "matches = pattern.finditer('helloHELLO 123_')\n",
    "\n",
    "for match in matches:\n",
    "    print(match)"
   ]
  },
  {
   "cell_type": "markdown",
   "id": "8107e065",
   "metadata": {},
   "source": [
    "### Quantifier\n",
    "1. `*` : 0 or more\n",
    "2. `+` : 1 or more\n",
    "3. `?` : 0 or 1, used when a character can be optional\n",
    "4. `{4}` : exact number\n",
    "5. `{4,6}` : range numbers (min, max)"
   ]
  },
  {
   "cell_type": "code",
   "execution_count": 76,
   "id": "a7197431",
   "metadata": {},
   "outputs": [],
   "source": [
    "test_string4 = 'hello_123'"
   ]
  },
  {
   "cell_type": "code",
   "execution_count": 77,
   "id": "2ca41a20",
   "metadata": {},
   "outputs": [
    {
     "name": "stdout",
     "output_type": "stream",
     "text": [
      "<re.Match object; span=(0, 0), match=''>\n",
      "<re.Match object; span=(1, 1), match=''>\n",
      "<re.Match object; span=(2, 2), match=''>\n",
      "<re.Match object; span=(3, 3), match=''>\n",
      "<re.Match object; span=(4, 4), match=''>\n",
      "<re.Match object; span=(5, 5), match=''>\n",
      "<re.Match object; span=(6, 9), match='123'>\n",
      "<re.Match object; span=(9, 9), match=''>\n"
     ]
    }
   ],
   "source": [
    "pattern = re.compile(r\"\\d*\")\n",
    "matches = pattern.finditer(test_string4)\n",
    "\n",
    "for match in matches:\n",
    "    print(match)"
   ]
  },
  {
   "cell_type": "code",
   "execution_count": 78,
   "id": "2f2bc207",
   "metadata": {},
   "outputs": [
    {
     "name": "stdout",
     "output_type": "stream",
     "text": [
      "<re.Match object; span=(6, 7), match='1'>\n",
      "<re.Match object; span=(7, 8), match='2'>\n",
      "<re.Match object; span=(8, 9), match='3'>\n"
     ]
    }
   ],
   "source": [
    "pattern = re.compile(r\"\\d\")\n",
    "matches = pattern.finditer(test_string4)\n",
    "\n",
    "for match in matches:\n",
    "    print(match)"
   ]
  },
  {
   "cell_type": "code",
   "execution_count": 79,
   "id": "a53d9885",
   "metadata": {},
   "outputs": [
    {
     "name": "stdout",
     "output_type": "stream",
     "text": [
      "<re.Match object; span=(6, 9), match='123'>\n"
     ]
    }
   ],
   "source": [
    "pattern = re.compile(r\"\\d+\")\n",
    "matches = pattern.finditer(test_string4)\n",
    "\n",
    "for match in matches:\n",
    "    print(match)"
   ]
  },
  {
   "cell_type": "code",
   "execution_count": 80,
   "id": "04ae14c1",
   "metadata": {},
   "outputs": [
    {
     "name": "stdout",
     "output_type": "stream",
     "text": [
      "<re.Match object; span=(5, 9), match='_123'>\n"
     ]
    }
   ],
   "source": [
    "pattern = re.compile(r\"_\\d+\")\n",
    "matches = pattern.finditer(test_string4)\n",
    "\n",
    "for match in matches:\n",
    "    print(match)"
   ]
  },
  {
   "cell_type": "code",
   "execution_count": 81,
   "id": "aaa6a685",
   "metadata": {},
   "outputs": [],
   "source": [
    "pattern = re.compile(r\"_\\d\")\n",
    "matches = pattern.finditer('hello123')\n",
    "\n",
    "for match in matches:\n",
    "    print(match)\n",
    "    \n",
    "# no match"
   ]
  },
  {
   "cell_type": "code",
   "execution_count": 82,
   "id": "10b3c451",
   "metadata": {},
   "outputs": [
    {
     "name": "stdout",
     "output_type": "stream",
     "text": [
      "<re.Match object; span=(5, 6), match='1'>\n",
      "<re.Match object; span=(6, 7), match='2'>\n",
      "<re.Match object; span=(7, 8), match='3'>\n"
     ]
    }
   ],
   "source": [
    "pattern = re.compile(r\"_?\\d\")\n",
    "matches = pattern.finditer('hello123')\n",
    "\n",
    "for match in matches:\n",
    "    print(match)"
   ]
  },
  {
   "cell_type": "code",
   "execution_count": 83,
   "id": "07ff595d",
   "metadata": {},
   "outputs": [
    {
     "name": "stdout",
     "output_type": "stream",
     "text": [
      "<re.Match object; span=(5, 8), match='123'>\n"
     ]
    }
   ],
   "source": [
    "pattern = re.compile(r\"\\d{3}\")\n",
    "matches = pattern.finditer('hello123')\n",
    "\n",
    "for match in matches:\n",
    "    print(match)"
   ]
  },
  {
   "cell_type": "code",
   "execution_count": 84,
   "id": "5ad9e867",
   "metadata": {},
   "outputs": [
    {
     "name": "stdout",
     "output_type": "stream",
     "text": [
      "<re.Match object; span=(5, 7), match='12'>\n"
     ]
    }
   ],
   "source": [
    "pattern = re.compile(r\"\\d{2}\")\n",
    "matches = pattern.finditer('hello123')\n",
    "\n",
    "for match in matches:\n",
    "    print(match)"
   ]
  },
  {
   "cell_type": "code",
   "execution_count": 85,
   "id": "fce87c24",
   "metadata": {},
   "outputs": [],
   "source": [
    "pattern = re.compile(r\"\\d{4}\")\n",
    "matches = pattern.finditer('hello123')\n",
    "\n",
    "for match in matches:\n",
    "    print(match)"
   ]
  },
  {
   "cell_type": "code",
   "execution_count": 86,
   "id": "f2987a8b",
   "metadata": {},
   "outputs": [
    {
     "name": "stdout",
     "output_type": "stream",
     "text": [
      "<re.Match object; span=(5, 8), match='123'>\n"
     ]
    }
   ],
   "source": [
    "pattern = re.compile(r\"\\d{1,3}\")\n",
    "matches = pattern.finditer('hello123')\n",
    "\n",
    "for match in matches:\n",
    "    print(match)"
   ]
  },
  {
   "cell_type": "code",
   "execution_count": 87,
   "id": "953b44bf",
   "metadata": {},
   "outputs": [],
   "source": [
    "# Task 1\n",
    "dates = \"\"\"\n",
    "hello\n",
    "11.04.2022\n",
    "\n",
    "2022.04.21\n",
    "\n",
    "2022-04-30\n",
    "2022-05-23\n",
    "2022-06-12\n",
    "2022-07-15\n",
    "2022-08-19\n",
    "\n",
    "2022/04/22\n",
    "\n",
    "2022_04_04\n",
    "\"\"\""
   ]
  },
  {
   "cell_type": "code",
   "execution_count": 88,
   "id": "073ca63d",
   "metadata": {},
   "outputs": [
    {
     "name": "stdout",
     "output_type": "stream",
     "text": [
      "<re.Match object; span=(33, 41), match='22-04-30'>\n",
      "<re.Match object; span=(44, 52), match='22-05-23'>\n",
      "<re.Match object; span=(55, 63), match='22-06-12'>\n",
      "<re.Match object; span=(66, 74), match='22-07-15'>\n",
      "<re.Match object; span=(77, 85), match='22-08-19'>\n"
     ]
    }
   ],
   "source": [
    "#1. find all date in this 2020-04-01 format\n",
    "\n",
    "pattern = re.compile(r\"\\d.-\\d.-\\d.\")\n",
    "matches = pattern.finditer(dates)\n",
    "\n",
    "for match in matches:\n",
    "    print(match)"
   ]
  },
  {
   "cell_type": "code",
   "execution_count": 89,
   "id": "20a176da",
   "metadata": {},
   "outputs": [
    {
     "name": "stdout",
     "output_type": "stream",
     "text": [
      "<re.Match object; span=(31, 41), match='2022-04-30'>\n",
      "<re.Match object; span=(42, 52), match='2022-05-23'>\n",
      "<re.Match object; span=(53, 63), match='2022-06-12'>\n",
      "<re.Match object; span=(64, 74), match='2022-07-15'>\n",
      "<re.Match object; span=(75, 85), match='2022-08-19'>\n"
     ]
    }
   ],
   "source": [
    "pattern = re.compile(r\"\\d\\d\\d\\d-\\d\\d-\\d\\d\")  \n",
    "matches = pattern.finditer(dates)\n",
    "\n",
    "for match in matches:\n",
    "    print(match)"
   ]
  },
  {
   "cell_type": "code",
   "execution_count": 90,
   "id": "677821d3",
   "metadata": {},
   "outputs": [
    {
     "name": "stdout",
     "output_type": "stream",
     "text": [
      "<re.Match object; span=(31, 41), match='2022-04-30'>\n",
      "<re.Match object; span=(42, 52), match='2022-05-23'>\n",
      "<re.Match object; span=(53, 63), match='2022-06-12'>\n",
      "<re.Match object; span=(64, 74), match='2022-07-15'>\n",
      "<re.Match object; span=(75, 85), match='2022-08-19'>\n",
      "<re.Match object; span=(87, 97), match='2022/04/22'>\n"
     ]
    }
   ],
   "source": [
    "#2. find all date in this 2020-04-01 and 2020/04/02  format\n",
    "pattern = re.compile(r\"\\d\\d\\d\\d[-/]\\d\\d[-/]\\d\\d\")  \n",
    "matches = pattern.finditer(dates)\n",
    "\n",
    "for match in matches:\n",
    "    print(match)"
   ]
  },
  {
   "cell_type": "code",
   "execution_count": 91,
   "id": "0b97bdb2",
   "metadata": {},
   "outputs": [
    {
     "name": "stdout",
     "output_type": "stream",
     "text": [
      "<re.Match object; span=(42, 52), match='2022-05-23'>\n",
      "<re.Match object; span=(53, 63), match='2022-06-12'>\n",
      "<re.Match object; span=(64, 74), match='2022-07-15'>\n"
     ]
    }
   ],
   "source": [
    "#3. find all date in may, june, july\n",
    "pattern = re.compile(r\"\\d\\d\\d\\d[-/]0[5-7][-/]\\d\\d\")  \n",
    "matches = pattern.finditer(dates)\n",
    "\n",
    "for match in matches:\n",
    "    print(match)"
   ]
  },
  {
   "cell_type": "code",
   "execution_count": 92,
   "id": "f964c012",
   "metadata": {},
   "outputs": [
    {
     "name": "stdout",
     "output_type": "stream",
     "text": [
      "<re.Match object; span=(42, 52), match='2022-05-23'>\n",
      "<re.Match object; span=(53, 63), match='2022-06-12'>\n",
      "<re.Match object; span=(64, 74), match='2022-07-15'>\n"
     ]
    }
   ],
   "source": [
    "pattern = re.compile(r\"\\d{4}[-/]0[5-7][-/]\\d{2}\")  \n",
    "matches = pattern.finditer(dates)\n",
    "\n",
    "for match in matches:\n",
    "    print(match)"
   ]
  },
  {
   "cell_type": "markdown",
   "id": "d26d1fde",
   "metadata": {},
   "source": [
    "### Conditions\n",
    "**Use the `|` for either or condition**"
   ]
  },
  {
   "cell_type": "code",
   "execution_count": 2,
   "id": "1935fd98",
   "metadata": {},
   "outputs": [],
   "source": [
    "my_str = \"\"\"\n",
    "hello world\n",
    "1223\n",
    "2022-05-20\n",
    "Mr Curry\n",
    "Mrs Curry\n",
    "Mr. Thompson\n",
    "Mrs Green\n",
    "Mr. T\n",
    "\"\"\"\n",
    "# return all names"
   ]
  },
  {
   "cell_type": "code",
   "execution_count": 3,
   "id": "93591832",
   "metadata": {},
   "outputs": [
    {
     "name": "stdout",
     "output_type": "stream",
     "text": [
      "<re.Match object; span=(29, 37), match='Mr Curry'>\n"
     ]
    }
   ],
   "source": [
    "pattern = re.compile(r\"Mr\\s\\w+\")  \n",
    "matches = pattern.finditer(my_str)\n",
    "\n",
    "for match in matches:\n",
    "    print(match)"
   ]
  },
  {
   "cell_type": "code",
   "execution_count": 4,
   "id": "56f15e82",
   "metadata": {},
   "outputs": [
    {
     "name": "stdout",
     "output_type": "stream",
     "text": [
      "<re.Match object; span=(48, 60), match='Mr. Thompson'>\n",
      "<re.Match object; span=(71, 76), match='Mr. T'>\n"
     ]
    }
   ],
   "source": [
    "pattern = re.compile(r\"Mr\\.\\s\\w+\")   #'\\' is used to treat . as dot\n",
    "matches = pattern.finditer(my_str)\n",
    "\n",
    "for match in matches:\n",
    "    print(match)"
   ]
  },
  {
   "cell_type": "code",
   "execution_count": 5,
   "id": "0346187b",
   "metadata": {},
   "outputs": [
    {
     "name": "stdout",
     "output_type": "stream",
     "text": [
      "<re.Match object; span=(29, 37), match='Mr Curry'>\n",
      "<re.Match object; span=(48, 60), match='Mr. Thompson'>\n",
      "<re.Match object; span=(71, 76), match='Mr. T'>\n"
     ]
    }
   ],
   "source": [
    "pattern = re.compile(r\"Mr\\.?\\s\\w+\")  \n",
    "matches = pattern.finditer(my_str)\n",
    "\n",
    "for match in matches:\n",
    "    print(match)"
   ]
  },
  {
   "cell_type": "code",
   "execution_count": 6,
   "id": "638a62fe",
   "metadata": {},
   "outputs": [
    {
     "name": "stdout",
     "output_type": "stream",
     "text": [
      "<re.Match object; span=(29, 37), match='Mr Curry'>\n",
      "<re.Match object; span=(38, 47), match='Mrs Curry'>\n",
      "<re.Match object; span=(48, 60), match='Mr. Thompson'>\n",
      "<re.Match object; span=(61, 70), match='Mrs Green'>\n",
      "<re.Match object; span=(71, 76), match='Mr. T'>\n"
     ]
    }
   ],
   "source": [
    "pattern = re.compile(r\"(Mr|Ms|Mrs)\\.?\\s\\w+\")  \n",
    "matches = pattern.finditer(my_str)\n",
    "\n",
    "for match in matches:\n",
    "    print(match)"
   ]
  },
  {
   "cell_type": "markdown",
   "id": "559d03f8",
   "metadata": {},
   "source": [
    "### Grouping\n",
    "**`( )` is used to group substrings in the matches.**"
   ]
  },
  {
   "cell_type": "code",
   "execution_count": 7,
   "id": "f0f5146d",
   "metadata": {},
   "outputs": [],
   "source": [
    "emails = \"\"\"\n",
    "hello world\n",
    "1223\n",
    "2022-05-20\n",
    "Mr Curry\n",
    "Mrs Curry\n",
    "Mr. Thompson\n",
    "Mrs Green\n",
    "Mr. T\n",
    "stephencurry@gmail.com\n",
    "Stephen-curry@gmx.de\n",
    "stephen-curry123@my-domain.org\n",
    "\"\"\"\n",
    "# return all emails"
   ]
  },
  {
   "cell_type": "code",
   "execution_count": 8,
   "id": "116d375b",
   "metadata": {},
   "outputs": [
    {
     "name": "stdout",
     "output_type": "stream",
     "text": [
      "<re.Match object; span=(77, 99), match='stephencurry@gmail.com'>\n",
      "<re.Match object; span=(100, 120), match='Stephen-curry@gmx.de'>\n",
      "<re.Match object; span=(121, 151), match='stephen-curry123@my-domain.org'>\n"
     ]
    }
   ],
   "source": [
    "pattern = re.compile(r\"[a-zA-z0-9-]+@[a-zA-Z-]+\\.(com|de|org)\")  \n",
    "matches = pattern.finditer(emails)\n",
    "\n",
    "for match in matches:\n",
    "    print(match)"
   ]
  },
  {
   "cell_type": "code",
   "execution_count": 9,
   "id": "468fbc5b",
   "metadata": {},
   "outputs": [
    {
     "name": "stdout",
     "output_type": "stream",
     "text": [
      "<re.Match object; span=(77, 99), match='stephencurry@gmail.com'>\n",
      "<re.Match object; span=(100, 120), match='Stephen-curry@gmx.de'>\n",
      "<re.Match object; span=(121, 151), match='stephen-curry123@my-domain.org'>\n"
     ]
    }
   ],
   "source": [
    "pattern = re.compile(r\"[a-zA-z0-9-]+@[a-zA-Z-]+\\.[a-zA-Z]*\")  \n",
    "matches = pattern.finditer(emails)\n",
    "\n",
    "for match in matches:\n",
    "    print(match)"
   ]
  },
  {
   "cell_type": "code",
   "execution_count": 10,
   "id": "8303d136",
   "metadata": {},
   "outputs": [
    {
     "name": "stdout",
     "output_type": "stream",
     "text": [
      "all groups:  stephencurry@gmail.com\n",
      "first groups:  stephencurry\n",
      "second groups:  gmail\n",
      "third groups:  com\n",
      "all groups:  Stephen-curry@gmx.de\n",
      "first groups:  Stephen-curry\n",
      "second groups:  gmx\n",
      "third groups:  de\n",
      "all groups:  stephen-curry123@my-domain.org\n",
      "first groups:  stephen-curry123\n",
      "second groups:  my-domain\n",
      "third groups:  org\n"
     ]
    }
   ],
   "source": [
    "pattern = re.compile(r\"([a-zA-z0-9-]+)@([a-zA-Z-]+)\\.([a-zA-Z]+)\")  \n",
    "matches = pattern.finditer(emails)\n",
    "\n",
    "for match in matches:\n",
    "    print(\"all groups: \",match.group(0)) #this means all groups\n",
    "    print(\"first groups: \",match.group(1)) #this means first groups\n",
    "    print(\"second groups: \",match.group(2)) #this means second groups\n",
    "    print(\"third groups: \",match.group(3)) #this means third groups"
   ]
  },
  {
   "cell_type": "markdown",
   "id": "16315143",
   "metadata": {},
   "source": [
    "### Modifying strings\n",
    "1. `split()`: Split the string into a list, splitting it wherever the RE matches\n",
    "2. `sub()`: Find all substrings where the RE matches, and replace them with a different string"
   ]
  },
  {
   "cell_type": "code",
   "execution_count": 11,
   "id": "fd2b9cfc",
   "metadata": {},
   "outputs": [],
   "source": [
    "my_string = '123abc456789abc123ABC'"
   ]
  },
  {
   "cell_type": "code",
   "execution_count": 12,
   "id": "993a68b1",
   "metadata": {},
   "outputs": [
    {
     "name": "stdout",
     "output_type": "stream",
     "text": [
      "['123', '456789', '123ABC']\n"
     ]
    }
   ],
   "source": [
    "pattern = re.compile(r\"abc\")  \n",
    "splitted = pattern.split(my_string)\n",
    "print(splitted)"
   ]
  },
  {
   "cell_type": "code",
   "execution_count": 13,
   "id": "eac9782b",
   "metadata": {},
   "outputs": [],
   "source": [
    "test_str = 'hello world, you are the best world'"
   ]
  },
  {
   "cell_type": "code",
   "execution_count": 14,
   "id": "6711af1e",
   "metadata": {},
   "outputs": [
    {
     "name": "stdout",
     "output_type": "stream",
     "text": [
      "hello planet, you are the best planet\n"
     ]
    }
   ],
   "source": [
    "pattern = re.compile(r\"world\")\n",
    "subbed_string = pattern.sub(\"planet\", test_str)\n",
    "print(subbed_string)"
   ]
  },
  {
   "cell_type": "code",
   "execution_count": 16,
   "id": "602debf8",
   "metadata": {},
   "outputs": [],
   "source": [
    "# Task 2\n",
    "urls = \"\"\"\n",
    "http://zara-fashion.com\n",
    "https://www.world-healthorganisation.org\n",
    "http://www.iNeuron.ai\n",
    "\"\"\"\n",
    "\n",
    "# return url"
   ]
  },
  {
   "cell_type": "code",
   "execution_count": 17,
   "id": "8a7a080f",
   "metadata": {},
   "outputs": [
    {
     "name": "stdout",
     "output_type": "stream",
     "text": [
      "<re.Match object; span=(1, 24), match='http://zara-fashion.com'>\n",
      "<re.Match object; span=(25, 65), match='https://www.world-healthorganisation.org'>\n",
      "<re.Match object; span=(66, 87), match='http://www.iNeuron.ai'>\n"
     ]
    }
   ],
   "source": [
    "pattern = re.compile(r\"(https?://)(www\\.)?([a-zA-Z-]+)\\.[a-zA-Z]+\")\n",
    "matches = pattern.finditer(urls)\n",
    "\n",
    "for match in matches:\n",
    "    print(match)"
   ]
  },
  {
   "cell_type": "code",
   "execution_count": 18,
   "id": "32a7c9ed",
   "metadata": {},
   "outputs": [
    {
     "name": "stdout",
     "output_type": "stream",
     "text": [
      "<re.Match object; span=(1, 24), match='http://zara-fashion.com'>\n",
      "<re.Match object; span=(25, 65), match='https://www.world-healthorganisation.org'>\n",
      "<re.Match object; span=(66, 87), match='http://www.iNeuron.ai'>\n"
     ]
    }
   ],
   "source": [
    "pattern = re.compile(r\"(https?://)(www\\.)?([a-zA-Z-]+)\\.([a-zA-Z]+)\")\n",
    "matches = pattern.finditer(urls)\n",
    "\n",
    "for match in matches:\n",
    "    print(match)"
   ]
  },
  {
   "cell_type": "code",
   "execution_count": 19,
   "id": "c3ef9513",
   "metadata": {},
   "outputs": [
    {
     "name": "stdout",
     "output_type": "stream",
     "text": [
      "zara-fashion\n",
      "world-healthorganisation\n",
      "iNeuron\n"
     ]
    }
   ],
   "source": [
    "pattern = re.compile(r\"https?://(www\\.)?([a-zA-Z-]+)\\.([a-zA-Z]+)\")\n",
    "matches = pattern.finditer(urls)\n",
    "\n",
    "for match in matches:\n",
    "    print(match.group(2))"
   ]
  },
  {
   "cell_type": "code",
   "execution_count": 20,
   "id": "bc742d9f",
   "metadata": {},
   "outputs": [
    {
     "name": "stdout",
     "output_type": "stream",
     "text": [
      "\n",
      "hello\n",
      "hello\n",
      "hello\n",
      "\n"
     ]
    }
   ],
   "source": [
    "subbed_url = pattern.sub(\"hello\", urls)\n",
    "print(subbed_url)"
   ]
  },
  {
   "cell_type": "code",
   "execution_count": 21,
   "id": "1f9191de",
   "metadata": {},
   "outputs": [
    {
     "name": "stdout",
     "output_type": "stream",
     "text": [
      "\n",
      "zara-fashioncom\n",
      "world-healthorganisationorg\n",
      "iNeuronai\n",
      "\n"
     ]
    }
   ],
   "source": [
    "subbed_url = pattern.sub(r\"\\2\\3\", urls) #\\2 and \\3 are used for specifying groups\n",
    "print(subbed_url) "
   ]
  },
  {
   "cell_type": "markdown",
   "id": "55add7c0",
   "metadata": {},
   "source": [
    "### Compilation Flags\n",
    "1. ASCII, A : Makes several escapes like \\w, \\b, \\s and \\d match only on ASCII characters with the respective property.\n",
    "2. DOTALL, S : Make . match any character, including newlines.\n",
    "3. IGNORECASE, I : Do case-insensitive matches.\n",
    "4. LOCALE, L : Do a locale-aware match.\n",
    "5. MULTILINE, M : Multi-line matching, affecting ^ and $.\n",
    "6. VERBOSE, X (for ‘extended’) : Enable verbose REs, which can be organized more cleanly and understandably."
   ]
  },
  {
   "cell_type": "code",
   "execution_count": 22,
   "id": "1b2b2519",
   "metadata": {},
   "outputs": [],
   "source": [
    "my_string = \"Hello World\"\n",
    "\n",
    "pattern = re.compile(r\"world\")\n",
    "matches = pattern.finditer(my_string)\n",
    "\n",
    "for match in matches:\n",
    "    print(match)\n",
    "    \n",
    "# no match # case sensitive"
   ]
  },
  {
   "cell_type": "code",
   "execution_count": 23,
   "id": "16f5f327",
   "metadata": {},
   "outputs": [
    {
     "name": "stdout",
     "output_type": "stream",
     "text": [
      "<re.Match object; span=(6, 11), match='World'>\n"
     ]
    }
   ],
   "source": [
    "my_string = \"Hello World\"\n",
    "\n",
    "pattern = re.compile(r\"world\", re.IGNORECASE)  #in place of re.IGNORECASE we can use re.I\n",
    "matches = pattern.finditer(my_string)\n",
    "\n",
    "for match in matches:\n",
    "    print(match)"
   ]
  }
 ],
 "metadata": {
  "kernelspec": {
   "display_name": "Python 3 (ipykernel)",
   "language": "python",
   "name": "python3"
  },
  "language_info": {
   "codemirror_mode": {
    "name": "ipython",
    "version": 3
   },
   "file_extension": ".py",
   "mimetype": "text/x-python",
   "name": "python",
   "nbconvert_exporter": "python",
   "pygments_lexer": "ipython3",
   "version": "3.9.12"
  }
 },
 "nbformat": 4,
 "nbformat_minor": 5
}
