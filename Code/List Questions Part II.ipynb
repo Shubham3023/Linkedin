{
 "cells": [
  {
   "cell_type": "markdown",
   "id": "fa71660f",
   "metadata": {},
   "source": [
    "# Questions on List PART II\n",
    "**Shubham Verma**\n",
    "\n",
    "**List Theory:** https://lnkd.in/ezAmJb4U\n",
    "\n",
    "**Questions Part I:** https://lnkd.in/gfu3x5QH\n",
    "\n",
    "**Linkedin:** https://www.linkedin.com/in/shubham-verma-3968a5119\n",
    "\n",
    "**GitHub** https://lnkd.in/gky-wyFJ\n",
    "\n",
    "**Credits:** W3School for questions"
   ]
  },
  {
   "cell_type": "markdown",
   "id": "7d991625",
   "metadata": {},
   "source": [
    "### 51. Write a python program to dispay following output.\n",
    "\n",
    "{\"title\":['a', 'b', 'c'], 'city':['x', 'y', 'z'], 'likes':[1,2,3], 'views':[10,20,30]}\n",
    "\n",
    "output : [['a', 'x', 1, 10], ['b', 'y', 2, 20], ['c', 'z', 3, 30]]"
   ]
  },
  {
   "cell_type": "code",
   "execution_count": 3,
   "id": "af2f722c",
   "metadata": {},
   "outputs": [
    {
     "data": {
      "text/plain": [
       "[['a', 'x', 1, 10], ['b', 'y', 2, 20], ['c', 'z', 3, 30]]"
      ]
     },
     "execution_count": 3,
     "metadata": {},
     "output_type": "execute_result"
    }
   ],
   "source": [
    "d = {\"title\":['a', 'b', 'c'], 'city':['x', 'y', 'z'], 'likes':[1,2,3], 'views':[10,20,30]}\n",
    "\n",
    "def custom_dict_printer(in_dict):\n",
    "    title, city, likes, views = list(in_dict.values())\n",
    "    return [list(i) for i in zip(title, city, likes,views) ]\n",
    "    \n",
    "custom_dict_printer(d)"
   ]
  },
  {
   "cell_type": "markdown",
   "id": "1695b79d",
   "metadata": {},
   "source": [
    "### 52. Write a Python program to check whether the n-th element exists in a given list."
   ]
  },
  {
   "cell_type": "code",
   "execution_count": 9,
   "id": "a39a01d5",
   "metadata": {},
   "outputs": [
    {
     "data": {
      "text/plain": [
       "'element is not present at 8th index'"
      ]
     },
     "execution_count": 9,
     "metadata": {},
     "output_type": "execute_result"
    }
   ],
   "source": [
    "l = [1,2,3,4,5,6,7]\n",
    "\n",
    "def element_checker_nth_place(in_l, nth_num):\n",
    "    if nth_num > len(in_l):\n",
    "        return \"element is not present at {}th index\".format(nth_num)\n",
    "    else: \n",
    "        return \"element is present at {}th index\".format(nth_num)\n",
    "    \n",
    "element_checker_nth_place(l,8)"
   ]
  },
  {
   "cell_type": "code",
   "execution_count": 10,
   "id": "0ee62d5c",
   "metadata": {},
   "outputs": [
    {
     "data": {
      "text/plain": [
       "'element is present at 7th index'"
      ]
     },
     "execution_count": 10,
     "metadata": {},
     "output_type": "execute_result"
    }
   ],
   "source": [
    "element_checker_nth_place(l,7)"
   ]
  },
  {
   "cell_type": "markdown",
   "id": "f3166eeb",
   "metadata": {},
   "source": [
    "### 53. Write a Python program to find a tuple, the smallest second element value from a list of tuples."
   ]
  },
  {
   "cell_type": "code",
   "execution_count": 12,
   "id": "b1f5daaf",
   "metadata": {},
   "outputs": [
    {
     "data": {
      "text/plain": [
       "0"
      ]
     },
     "execution_count": 12,
     "metadata": {},
     "output_type": "execute_result"
    }
   ],
   "source": [
    "l = [(4,5,6), (1,2,3),(7,8,9), (10,0,11)]\n",
    "\n",
    "def custom_element_extractor(in_l, position):\n",
    "    return sorted(in_l, key=lambda x:x[position])[0][position]\n",
    "\n",
    "custom_element_extractor(l,1)"
   ]
  },
  {
   "cell_type": "markdown",
   "id": "3270e82c",
   "metadata": {},
   "source": [
    "**Que: The smallest third element value from a list of tuples.**"
   ]
  },
  {
   "cell_type": "code",
   "execution_count": 13,
   "id": "2e788eca",
   "metadata": {},
   "outputs": [
    {
     "data": {
      "text/plain": [
       "3"
      ]
     },
     "execution_count": 13,
     "metadata": {},
     "output_type": "execute_result"
    }
   ],
   "source": [
    "custom_element_extractor(l,2)"
   ]
  },
  {
   "cell_type": "markdown",
   "id": "5f6a3d6e",
   "metadata": {},
   "source": [
    "### 54. Write a Python program to create a list of empty dictionaries."
   ]
  },
  {
   "cell_type": "code",
   "execution_count": 19,
   "id": "a918c172",
   "metadata": {},
   "outputs": [
    {
     "data": {
      "text/plain": [
       "[{}, {}, {}, {}, {}]"
      ]
     },
     "execution_count": 19,
     "metadata": {},
     "output_type": "execute_result"
    }
   ],
   "source": [
    "def empty_dict_creator(no_of_dict):\n",
    "    return [{} for x in range(no_of_dict)]\n",
    "\n",
    "empty_dict_creator(5)"
   ]
  },
  {
   "cell_type": "markdown",
   "id": "ed53a48c",
   "metadata": {},
   "source": [
    "### 55. Write a Python program to print space-separated elements from elements of list."
   ]
  },
  {
   "cell_type": "code",
   "execution_count": 25,
   "id": "6c17bb41",
   "metadata": {},
   "outputs": [
    {
     "name": "stdout",
     "output_type": "stream",
     "text": [
      "1 2 3 4 5 6 7 8 9 10\n"
     ]
    }
   ],
   "source": [
    "l = [1,2,3,4,5,6,7,8,9,10]\n",
    "\n",
    "def space_sep_list_element(in_l):\n",
    "    print(*in_l)\n",
    "\n",
    "space_sep_list_element(l)"
   ]
  },
  {
   "cell_type": "markdown",
   "id": "85a86baf",
   "metadata": {},
   "source": [
    "### 56. Write a Python program to insert a given string at the beginning of all items in a list."
   ]
  },
  {
   "cell_type": "code",
   "execution_count": 29,
   "id": "cbc77ae5",
   "metadata": {},
   "outputs": [
    {
     "data": {
      "text/plain": [
       "['Roll No.1', 'Roll No.2', 'Roll No.3', 'Roll No.4', 'Roll No.5']"
      ]
     },
     "execution_count": 29,
     "metadata": {},
     "output_type": "execute_result"
    }
   ],
   "source": [
    "l = [1,2,3,4,5]\n",
    "l2 = [\"Ramesh\",\"Suresh\", \"Mukesh\"]\n",
    "string_insert = \"Roll No.\"\n",
    "string_insert2 = \"First_name: \"\n",
    "\n",
    "def custom_converter_list_element(in_l, in_str):\n",
    "    l = []\n",
    "    for i in in_l:\n",
    "        if type(i) == int:\n",
    "            l.append(in_str+str(i))\n",
    "        elif type(i) == str:\n",
    "            l.append(in_str+i)\n",
    "        else:\n",
    "            pass\n",
    "    return l\n",
    "\n",
    "custom_converter_list_element(l, string_insert)"
   ]
  },
  {
   "cell_type": "code",
   "execution_count": 30,
   "id": "e5908fac",
   "metadata": {},
   "outputs": [
    {
     "data": {
      "text/plain": [
       "['First_name: Ramesh', 'First_name: Suresh', 'First_name: Mukesh']"
      ]
     },
     "execution_count": 30,
     "metadata": {},
     "output_type": "execute_result"
    }
   ],
   "source": [
    "custom_converter_list_element(l2, string_insert2)"
   ]
  },
  {
   "cell_type": "markdown",
   "id": "8032fc36",
   "metadata": {},
   "source": [
    "### 57. Write a Python program to iterate over two lists simultaneously. "
   ]
  },
  {
   "cell_type": "code",
   "execution_count": 31,
   "id": "d85557fa",
   "metadata": {},
   "outputs": [
    {
     "name": "stdout",
     "output_type": "stream",
     "text": [
      "Ramesh Daniels\n",
      "Suresh Hayden\n",
      "Mukesh Stanford\n"
     ]
    }
   ],
   "source": [
    "l_name= [\"Ramesh\",\"Suresh\", \"Mukesh\"]\n",
    "l_surname = ['Daniels','Hayden', 'Stanford']\n",
    "\n",
    "def two_list_iterator(in_l1, in_l2):\n",
    "    for first,second in zip(in_l1,in_l2):\n",
    "        print(first, second)\n",
    "        \n",
    "two_list_iterator(l_name, l_surname)"
   ]
  },
  {
   "cell_type": "markdown",
   "id": "078e2e0c",
   "metadata": {},
   "source": [
    "### 58. Write a Python program to move all zero digits to end of a given list of numbers. "
   ]
  },
  {
   "cell_type": "code",
   "execution_count": 34,
   "id": "9229efd6",
   "metadata": {},
   "outputs": [
    {
     "data": {
      "text/plain": [
       "[1, 3, 9, 4, 7, 6, 5, 8, 2, 0, 0, 0, 0, 0, 0]"
      ]
     },
     "execution_count": 34,
     "metadata": {},
     "output_type": "execute_result"
    }
   ],
   "source": [
    "l = [1,3,0,9,0,4,7,0,6,0,5,8,0,0,2]\n",
    "\n",
    "def zero_arranger_list(in_l):\n",
    "    l = []\n",
    "    l_zero = []\n",
    "    for i in in_l:\n",
    "        if i == 0:\n",
    "            l_zero.append(i)\n",
    "        else:\n",
    "            l.append(i)\n",
    "    l.extend(l_zero)\n",
    "    return l\n",
    "\n",
    "zero_arranger_list(l)"
   ]
  },
  {
   "cell_type": "markdown",
   "id": "d2ccd927",
   "metadata": {},
   "source": [
    "### 59. Write a Python program to find the list in a list of lists whose sum of elements is the highest."
   ]
  },
  {
   "cell_type": "code",
   "execution_count": 14,
   "id": "a6fe6fee",
   "metadata": {},
   "outputs": [
    {
     "data": {
      "text/plain": [
       "[10, 11, 12]"
      ]
     },
     "execution_count": 14,
     "metadata": {},
     "output_type": "execute_result"
    }
   ],
   "source": [
    "l = [[1,2,3], [4,5,6], [10,11,12], [7,8,9]]\n",
    "\n",
    "def custom_sum_sublist_highest(in_l):\n",
    "    return max(in_l, key=sum)\n",
    "        \n",
    "custom_sum_sublist_highest(l)"
   ]
  },
  {
   "cell_type": "markdown",
   "id": "5c78a5e4",
   "metadata": {},
   "source": [
    "### 60. Write a Python program to find all the values in a list are greater than a specified number. "
   ]
  },
  {
   "cell_type": "code",
   "execution_count": 16,
   "id": "e10ee99a",
   "metadata": {},
   "outputs": [
    {
     "data": {
      "text/plain": [
       "[6, 7, 8, 9, 10]"
      ]
     },
     "execution_count": 16,
     "metadata": {},
     "output_type": "execute_result"
    }
   ],
   "source": [
    "list1 = [1,2,3,4,5,6,7,8,9,10]\n",
    "\n",
    "def custom_list_greater_element(in_l, number):\n",
    "    l = []\n",
    "    for i in in_l:\n",
    "        if i > number:\n",
    "            l.append(i)\n",
    "    return l\n",
    "\n",
    "custom_list_greater_element(list1,5)"
   ]
  },
  {
   "cell_type": "markdown",
   "id": "68519717",
   "metadata": {},
   "source": [
    "### 61. Write a Python program to extend a list without append. "
   ]
  },
  {
   "cell_type": "code",
   "execution_count": 17,
   "id": "8e1936aa",
   "metadata": {},
   "outputs": [
    {
     "data": {
      "text/plain": [
       "[1, 2, 3, 'a', 'b', 'c']"
      ]
     },
     "execution_count": 17,
     "metadata": {},
     "output_type": "execute_result"
    }
   ],
   "source": [
    "l1 = [1,2,3]\n",
    "l2 = [\"a\",\"b\", \"c\"]\n",
    "\n",
    "def custom_extend(in_l1, in_l2):\n",
    "    return in_l1+in_l2\n",
    "\n",
    "custom_extend(l1,l2)"
   ]
  },
  {
   "cell_type": "markdown",
   "id": "6026715f",
   "metadata": {},
   "source": [
    "### 62. Write a Python program to remove duplicates from a list of lists. "
   ]
  },
  {
   "cell_type": "code",
   "execution_count": 22,
   "id": "9e407812",
   "metadata": {},
   "outputs": [
    {
     "data": {
      "text/plain": [
       "[[10, 20], [30, 56, 25], [33], [40]]"
      ]
     },
     "execution_count": 22,
     "metadata": {},
     "output_type": "execute_result"
    }
   ],
   "source": [
    "import itertools \n",
    "l = [[10, 20], [40], [30, 56, 25], [10, 20], [33], [40]]\n",
    "\n",
    "def dup_remover_list(in_l):\n",
    "    in_l.sort()\n",
    "    return list(x for x,_ in itertools.groupby(in_l))\n",
    "\n",
    "dup_remover_list(l)"
   ]
  },
  {
   "cell_type": "markdown",
   "id": "1aefb253",
   "metadata": {},
   "source": [
    "### 63. Write a Python program to find the items starts with specific character from a given list."
   ]
  },
  {
   "cell_type": "code",
   "execution_count": 23,
   "id": "a5dd8b86",
   "metadata": {},
   "outputs": [
    {
     "data": {
      "text/plain": [
       "['abc', 'apq', 'abz']"
      ]
     },
     "execution_count": 23,
     "metadata": {},
     "output_type": "execute_result"
    }
   ],
   "source": [
    "l = [\"abc\", 'apq', 'bpq','pqr', 'abz']\n",
    "\n",
    "def custom_startswith_list(in_l, char):\n",
    "    l= []\n",
    "    for i in in_l:\n",
    "        if i.startswith(char):\n",
    "            l.append(i)\n",
    "    return l\n",
    "\n",
    "custom_startswith_list(l,'a')"
   ]
  },
  {
   "cell_type": "markdown",
   "id": "44403e86",
   "metadata": {},
   "source": [
    "### 64. Write a Python program to check whether all dictionaries in a list are empty or not. "
   ]
  },
  {
   "cell_type": "code",
   "execution_count": 25,
   "id": "a127e21d",
   "metadata": {},
   "outputs": [
    {
     "data": {
      "text/plain": [
       "True"
      ]
     },
     "execution_count": 25,
     "metadata": {},
     "output_type": "execute_result"
    }
   ],
   "source": [
    "d1 = [{},{},{}]\n",
    "d2 = [{},{'k':'v'},{}]\n",
    "\n",
    "def empty_dict_list_checker(in_l):\n",
    "    return all(not x for x in in_l)\n",
    "\n",
    "empty_dict_list_checker(d1)"
   ]
  },
  {
   "cell_type": "code",
   "execution_count": 26,
   "id": "a4767ba5",
   "metadata": {},
   "outputs": [
    {
     "data": {
      "text/plain": [
       "False"
      ]
     },
     "execution_count": 26,
     "metadata": {},
     "output_type": "execute_result"
    }
   ],
   "source": [
    "empty_dict_list_checker(d2)"
   ]
  },
  {
   "cell_type": "markdown",
   "id": "ed6d41dd",
   "metadata": {},
   "source": [
    "### 65. Write a Python program to flatten a given nested list structure. "
   ]
  },
  {
   "cell_type": "code",
   "execution_count": 30,
   "id": "c2f49bca",
   "metadata": {},
   "outputs": [
    {
     "data": {
      "text/plain": [
       "[0, 10, 20, 30, 40, 50, 60, 70, 80, 120, 90, 100, 110, 'k', 'v']"
      ]
     },
     "execution_count": 30,
     "metadata": {},
     "output_type": "execute_result"
    }
   ],
   "source": [
    "l_nested = [0, 10, [20, 30], 40, 50, (60, 70, 80), {90, 100, 110, 120},{'k':'v'}]\n",
    "\n",
    "def nested_to_flat_list(in_list):\n",
    "    l=[]\n",
    "    for i in in_list:\n",
    "        if type(i) in [list,set,tuple]:\n",
    "            for j in i:\n",
    "                l.append(j)\n",
    "        elif type(i) == dict:\n",
    "            for j,k in i.items():\n",
    "                l.append(j)\n",
    "                l.append(k)\n",
    "        else:\n",
    "            l.append(i)\n",
    "    return l\n",
    "\n",
    "nested_to_flat_list(l_nested)\n",
    "            \n",
    "            "
   ]
  },
  {
   "cell_type": "markdown",
   "id": "78ea62f7",
   "metadata": {},
   "source": [
    "### 66. Write a Python program to remove consecutive duplicates of a given list."
   ]
  },
  {
   "cell_type": "code",
   "execution_count": 31,
   "id": "79a9d324",
   "metadata": {},
   "outputs": [
    {
     "data": {
      "text/plain": [
       "[1, 2, 1, 2, 3, 4, 5, 4, 6, 7, 1]"
      ]
     },
     "execution_count": 31,
     "metadata": {},
     "output_type": "execute_result"
    }
   ],
   "source": [
    "from itertools import groupby\n",
    "\n",
    "l = [1,1,2,1,2,2,3,3,4,4,4,4,5,4,6,6,7,7,7,1]\n",
    "\n",
    "def compress_list(in_l):\n",
    "    return [x for x, group in groupby(in_l)]\n",
    "\n",
    "compress_list(l)"
   ]
  },
  {
   "cell_type": "markdown",
   "id": "752fc4cd",
   "metadata": {},
   "source": [
    "### 67. Write a Python program to pack consecutive duplicates of a given list elements into sublists. "
   ]
  },
  {
   "cell_type": "code",
   "execution_count": 33,
   "id": "67f1bd28",
   "metadata": {},
   "outputs": [
    {
     "data": {
      "text/plain": [
       "[[1, 1], [2], [1], [2, 2], [3, 3], [4, 4, 4, 4]]"
      ]
     },
     "execution_count": 33,
     "metadata": {},
     "output_type": "execute_result"
    }
   ],
   "source": [
    "from itertools import groupby\n",
    "\n",
    "l = [1,1,2,1,2,2,3,3,4,4,4,4]\n",
    "\n",
    "def pack_duplicate_list(in_l):\n",
    "    return [list(group) for x, group in groupby(in_l)]\n",
    "\n",
    "pack_duplicate_list(l)"
   ]
  },
  {
   "cell_type": "markdown",
   "id": "5e3d908f",
   "metadata": {},
   "source": [
    "### 68. Write a Python program to create a list reflecting the modified run-length encoding from a given list of integers or a given list of characters."
   ]
  },
  {
   "cell_type": "code",
   "execution_count": 35,
   "id": "49fe1876",
   "metadata": {},
   "outputs": [
    {
     "data": {
      "text/plain": [
       "[[2, 1], [1, 2], [1, 3], [2, 4], [1, 5], [1, 1]]"
      ]
     },
     "execution_count": 35,
     "metadata": {},
     "output_type": "execute_result"
    }
   ],
   "source": [
    "from itertools import groupby\n",
    "\n",
    "l = [1, 1, 2, 3, 4, 4, 5, 1]\n",
    "\n",
    "def encoding_list(in_l):\n",
    "    return [[len(list(group)),x] for x, group in groupby(in_l)]\n",
    "\n",
    "encoding_list(l)"
   ]
  },
  {
   "cell_type": "markdown",
   "id": "067081de",
   "metadata": {},
   "source": [
    "### 69. Write a Python program to split a given list into two parts where the length of the first part of the list is given."
   ]
  },
  {
   "cell_type": "code",
   "execution_count": 39,
   "id": "ce822b9c",
   "metadata": {},
   "outputs": [
    {
     "data": {
      "text/plain": [
       "[[1, 2, 3, 4, 5], [6, 7, 8, 9, 10]]"
      ]
     },
     "execution_count": 39,
     "metadata": {},
     "output_type": "execute_result"
    }
   ],
   "source": [
    "l = [1,2,3,4,5,6,7,8,9,10]\n",
    "\n",
    "def list_splitter(in_l, length_at_split):\n",
    "       return [in_l[:length_at_split], in_l[length_at_split:]]\n",
    "    \n",
    "list_splitter(l,5)"
   ]
  },
  {
   "cell_type": "markdown",
   "id": "3d966bed",
   "metadata": {},
   "source": [
    "### 70. Write a Python program to remove the K'th element from a given list"
   ]
  },
  {
   "cell_type": "code",
   "execution_count": 5,
   "id": "b7545ce1",
   "metadata": {},
   "outputs": [
    {
     "data": {
      "text/plain": [
       "[1, 2, 3, 4, 5, 6, 7, 8, 9]"
      ]
     },
     "execution_count": 5,
     "metadata": {},
     "output_type": "execute_result"
    }
   ],
   "source": [
    "l = [1,2,3,4,5,6,7,8,9,10]\n",
    "\n",
    "def kth_element_remove_list(in_l, kth_element):\n",
    "    in_l.pop(kth_element-1)\n",
    "    return in_l\n",
    "\n",
    "kth_element_remove_list(l, 10)"
   ]
  },
  {
   "cell_type": "markdown",
   "id": "c8e2f1ad",
   "metadata": {},
   "source": [
    "### 71. Write a Python program to insert an element at a specified position into a given list."
   ]
  },
  {
   "cell_type": "code",
   "execution_count": 6,
   "id": "ca9d4eac",
   "metadata": {},
   "outputs": [
    {
     "data": {
      "text/plain": [
       "['Shubham', 1, 2, 3, 4, 5, 6, 7, 8, 9, 10]"
      ]
     },
     "execution_count": 6,
     "metadata": {},
     "output_type": "execute_result"
    }
   ],
   "source": [
    "l = [1,2,3,4,5,6,7,8,9,10]\n",
    "\n",
    "def list_insert(in_l, element, position):\n",
    "    in_l.insert(position-1, element)\n",
    "    return in_l\n",
    "\n",
    "list_insert(l,\"Shubham\", 1)"
   ]
  },
  {
   "cell_type": "markdown",
   "id": "da322aa0",
   "metadata": {},
   "source": [
    "### 72. Write a Python program to extract a given number of randomly selected elements from a given list."
   ]
  },
  {
   "cell_type": "code",
   "execution_count": 8,
   "id": "ccdc427c",
   "metadata": {},
   "outputs": [
    {
     "data": {
      "text/plain": [
       "[2, 4, 5, 9, 3]"
      ]
     },
     "execution_count": 8,
     "metadata": {},
     "output_type": "execute_result"
    }
   ],
   "source": [
    "import random\n",
    "l = [1,2,3,4,5,6,7,8,9,10]\n",
    "\n",
    "def random_selection_list(in_l, no_of_element):\n",
    "    return random.sample(in_l, no_of_element)\n",
    "\n",
    "random_selection_list(l,5)"
   ]
  },
  {
   "cell_type": "markdown",
   "id": "e5fb5f83",
   "metadata": {},
   "source": [
    "### 73. Write a Python program to round every number of a given list of numbers and print the total sum multiplied by the length of the list. "
   ]
  },
  {
   "cell_type": "code",
   "execution_count": 9,
   "id": "a2139ea7",
   "metadata": {},
   "outputs": [
    {
     "data": {
      "text/plain": [
       "243"
      ]
     },
     "execution_count": 9,
     "metadata": {},
     "output_type": "execute_result"
    }
   ],
   "source": [
    "l = [22.4, 4.0, -16.22, -9.1, 11.0, -12.22, 14.2, -5.2, 17.5]\n",
    "\n",
    "def custom_list_sum_round(in_l):\n",
    "    sum = 0\n",
    "    for i in in_l:\n",
    "        sum += round(i)\n",
    "    return sum*len(in_l)\n",
    "\n",
    "custom_list_sum_round(l)"
   ]
  },
  {
   "cell_type": "markdown",
   "id": "2ac865e6",
   "metadata": {},
   "source": [
    "### 74. Write a Python program to round the numbers of a given list, print the minimum and maximum numbers."
   ]
  },
  {
   "cell_type": "code",
   "execution_count": 13,
   "id": "0575e198",
   "metadata": {},
   "outputs": [
    {
     "data": {
      "text/plain": [
       "'Minimun: -16 and Maximum: 22'"
      ]
     },
     "execution_count": 13,
     "metadata": {},
     "output_type": "execute_result"
    }
   ],
   "source": [
    "l = [22.4, 4.0, -16.22, -9.1, 11.0, -12.22, 14.2, -5.2, 17.5]\n",
    "\n",
    "def min_max_round_list(in_l):\n",
    "    l = sorted([round(i) for i in in_l])\n",
    "    return \"Minimun: {} and Maximum: {}\".format(l[0],l[-1])\n",
    "\n",
    "min_max_round_list(l)"
   ]
  },
  {
   "cell_type": "markdown",
   "id": "e65aba56",
   "metadata": {},
   "source": [
    "### 75. Write a Python program to create a multidimensional list (lists of lists) with zeros. for example: Multidimensional list: [[0, 0], [0, 0], [0, 0]]"
   ]
  },
  {
   "cell_type": "code",
   "execution_count": 1,
   "id": "8ae1030f",
   "metadata": {},
   "outputs": [
    {
     "data": {
      "text/plain": [
       "[[0, 0], [0, 0], [0, 0]]"
      ]
     },
     "execution_count": 1,
     "metadata": {},
     "output_type": "execute_result"
    }
   ],
   "source": [
    "def return_multi_dim_list_zeros(n_row, n_col):\n",
    "    l = []\n",
    "    for i in range(n_row):\n",
    "        l.append([])\n",
    "        for j in range(n_col):\n",
    "            l[i].append(0)\n",
    "    return l\n",
    "\n",
    "return_multi_dim_list_zeros(3,2)"
   ]
  },
  {
   "cell_type": "markdown",
   "id": "2f0f40ca",
   "metadata": {},
   "source": [
    "### 76. Write a Python program to create a 3X3 grid with numbers. For example 3X3 grid with numbers: [[1, 2, 3], [1, 2, 3], [1, 2, 3]]"
   ]
  },
  {
   "cell_type": "code",
   "execution_count": 3,
   "id": "c1b94ce3",
   "metadata": {},
   "outputs": [
    {
     "data": {
      "text/plain": [
       "[[1, 2, 3], [1, 2, 3], [1, 2, 3]]"
      ]
     },
     "execution_count": 3,
     "metadata": {},
     "output_type": "execute_result"
    }
   ],
   "source": [
    "def custom_grid_numbers(n_row, n_col):\n",
    "    l = []\n",
    "    for i in range(n_row):\n",
    "        l.append([])\n",
    "        for j in range(1, n_col+1):\n",
    "            l[i].append(j)\n",
    "    return l\n",
    "\n",
    "custom_grid_numbers(3,3)\n"
   ]
  },
  {
   "cell_type": "markdown",
   "id": "56eb0bea",
   "metadata": {},
   "source": [
    "### 77. Write a Python program to read a matrix from console and print the sum for each column. Accept matrix rows, columns and elements for each column separated with a space(for every row) as input from the user."
   ]
  },
  {
   "cell_type": "code",
   "execution_count": 24,
   "id": "e4e9d650",
   "metadata": {},
   "outputs": [
    {
     "name": "stdout",
     "output_type": "stream",
     "text": [
      "Input number of elements in a row seprated by space\n",
      "1 2\n",
      "3 4\n",
      "sum for each column:\n",
      "4  6  "
     ]
    }
   ],
   "source": [
    "def matrix_console_value(n_row, n_col):\n",
    "    matrix = [[0]*n_col for row in range(n_row)]\n",
    "    print('Input number of elements in a row seprated by space')\n",
    "    for row in range(n_row):\n",
    "        lines = list(map(int, input().split()))\n",
    "        for column in range(n_col):\n",
    "            matrix[row][column] = lines[column]\n",
    "\n",
    "    sum = [0]*n_col\n",
    "    print(\"sum for each column:\")\n",
    "    for column in range(n_col):\n",
    "        for row in range(n_row):\n",
    "            sum[column] += matrix[row][column]\n",
    "        print((sum[column]), ' ', end = '')\n",
    "        \n",
    "matrix_console_value(2,2)"
   ]
  },
  {
   "cell_type": "markdown",
   "id": "ea3b3f25",
   "metadata": {},
   "source": [
    "### 78. Write a Python program to Zip two given lists of lists.\n",
    "Original lists:\n",
    "\n",
    "[[1, 3], [5, 7], [9, 11]]\n",
    "\n",
    "[[2, 4], [6, 8], [10, 12, 14]]\n",
    "\n",
    "Zipped list:\n",
    "\n",
    "[[1, 3, 2, 4], [5, 7, 6, 8], [9, 11, 10, 12, 14]]"
   ]
  },
  {
   "cell_type": "code",
   "execution_count": 25,
   "id": "31f58602",
   "metadata": {},
   "outputs": [
    {
     "data": {
      "text/plain": [
       "[[1, 3, 2, 4], [5, 7, 6, 8], [9, 11, 10, 12, 14]]"
      ]
     },
     "execution_count": 25,
     "metadata": {},
     "output_type": "execute_result"
    }
   ],
   "source": [
    "l1 = [[1, 3], [5, 7], [9, 11]]\n",
    "l2 = [[2, 4], [6, 8], [10, 12, 14]]\n",
    "\n",
    "def custom_zip(in_l1, in_l2):\n",
    "    return list(map(list.__add__, in_l1, in_l2))\n",
    "\n",
    "custom_zip(l1,l2)"
   ]
  },
  {
   "cell_type": "markdown",
   "id": "8f877a1d",
   "metadata": {},
   "source": [
    "### 79. Write a Python program to count number of lists in a given list of lists."
   ]
  },
  {
   "cell_type": "code",
   "execution_count": 26,
   "id": "057e3e8d",
   "metadata": {},
   "outputs": [
    {
     "data": {
      "text/plain": [
       "4"
      ]
     },
     "execution_count": 26,
     "metadata": {},
     "output_type": "execute_result"
    }
   ],
   "source": [
    "l = [[1, 3], [5, 7], [9, 11], [13, 15, 17]]\n",
    "\n",
    "def list_counter(in_l):\n",
    "    count = 0\n",
    "    for i in in_l:\n",
    "        if type(i) == list:\n",
    "            count+=1\n",
    "    return count\n",
    "\n",
    "list_counter(l)"
   ]
  },
  {
   "cell_type": "markdown",
   "id": "0119c33b",
   "metadata": {},
   "source": [
    "### 80. Write a Python program to find the list with maximum and minimum length."
   ]
  },
  {
   "cell_type": "code",
   "execution_count": 28,
   "id": "e56336e9",
   "metadata": {},
   "outputs": [
    {
     "data": {
      "text/plain": [
       "'Max length and list (3, [13, 15, 17]) and Min length and list (1, [0])'"
      ]
     },
     "execution_count": 28,
     "metadata": {},
     "output_type": "execute_result"
    }
   ],
   "source": [
    "l = [[0], [1, 3], [5, 7], [9, 11], [13, 15, 17]]\n",
    "\n",
    "def list_max_min_length(in_l):\n",
    "    max_length = (max(len(x) for x in in_l), max(in_l, key = len))\n",
    "    min_length = (min(len(x) for x in in_l), min(in_l, key = len))\n",
    "    return \"Max length and list {} and Min length and list {}\". format(max_length, min_length)\n",
    "\n",
    "list_max_min_length(l)"
   ]
  },
  {
   "cell_type": "markdown",
   "id": "865cf1c5",
   "metadata": {},
   "source": [
    "### 81. Write a Python program to count the number of sublists contain a particular element."
   ]
  },
  {
   "cell_type": "code",
   "execution_count": 3,
   "id": "9d2649c6",
   "metadata": {},
   "outputs": [
    {
     "data": {
      "text/plain": [
       "3"
      ]
     },
     "execution_count": 3,
     "metadata": {},
     "output_type": "execute_result"
    }
   ],
   "source": [
    "l = [['A', 'B'], ['A', 'C'], ['A', 'D', 'E'], ['B', 'C', 'D']]\n",
    "l1 =[[1, 3], [5, 1], [1, 11], [1, 15, 7]]\n",
    "\n",
    "def count_element_in_sublist(in_l, element):\n",
    "    count=0\n",
    "    for i in in_l:\n",
    "        if element in i:\n",
    "            count+=1\n",
    "    return count\n",
    "\n",
    "count_element_in_sublist(l,'A')"
   ]
  },
  {
   "cell_type": "code",
   "execution_count": 4,
   "id": "9e4f6202",
   "metadata": {},
   "outputs": [
    {
     "data": {
      "text/plain": [
       "4"
      ]
     },
     "execution_count": 4,
     "metadata": {},
     "output_type": "execute_result"
    }
   ],
   "source": [
    "count_element_in_sublist(l1,1)"
   ]
  },
  {
   "cell_type": "markdown",
   "id": "ea7be828",
   "metadata": {},
   "source": [
    "### 82. Write a Python program to sort each sublist  in a given list of lists."
   ]
  },
  {
   "cell_type": "code",
   "execution_count": 14,
   "id": "347ce303",
   "metadata": {},
   "outputs": [
    {
     "data": {
      "text/plain": [
       "[[0], [0, 7], [1, 3], [2], [9, 11], [13, 15, 17]]"
      ]
     },
     "execution_count": 14,
     "metadata": {},
     "output_type": "execute_result"
    }
   ],
   "source": [
    "l = [[2], [0], [1, 3], [0, 7], [9, 11], [13, 15, 17]]\n",
    "\n",
    "def custom_sort_sublist(in_l):\n",
    "    return sorted(in_l, key=lambda x: x[0])\n",
    "\n",
    "custom_sort_sublist(l)"
   ]
  },
  {
   "cell_type": "markdown",
   "id": "9c0fdd21",
   "metadata": {},
   "source": [
    "### 83. Write a Python program to sort a given list of lists by length and value. "
   ]
  },
  {
   "cell_type": "code",
   "execution_count": 16,
   "id": "4939f096",
   "metadata": {},
   "outputs": [
    {
     "data": {
      "text/plain": [
       "[[0], [2], [0, 7], [1, 3], [9, 11], [13, 15, 17]]"
      ]
     },
     "execution_count": 16,
     "metadata": {},
     "output_type": "execute_result"
    }
   ],
   "source": [
    "l = [[2], [0], [1, 3], [0, 7], [9, 11], [13, 15, 17]]\n",
    "\n",
    "def custom_sort_sublist(in_l):\n",
    "    in_l.sort()\n",
    "    in_l.sort(key=len)\n",
    "    return in_l\n",
    "\n",
    "custom_sort_sublist(l)"
   ]
  },
  {
   "cell_type": "markdown",
   "id": "60f798cb",
   "metadata": {},
   "source": [
    "### 84. Write a Python program to remove sublists from a given list of lists, which contains an element outside a given range"
   ]
  },
  {
   "cell_type": "code",
   "execution_count": 18,
   "id": "21a4ebee",
   "metadata": {},
   "outputs": [
    {
     "data": {
      "text/plain": [
       "[[13, 14, 15, 17]]"
      ]
     },
     "execution_count": 18,
     "metadata": {},
     "output_type": "execute_result"
    }
   ],
   "source": [
    "l = [[2], [0], [1, 2, 3], [0, 1, 2, 3, 6, 7], [9, 11], [13, 14, 15, 17]]\n",
    "\n",
    "def custom_sublist_remover(in_l, a,b):\n",
    "    l = [i for i in in_l if min(i)>=a and max(i)<=b]\n",
    "    return l\n",
    "\n",
    "custom_sublist_remover(l,13,17)"
   ]
  },
  {
   "cell_type": "markdown",
   "id": "23963a7d",
   "metadata": {},
   "source": [
    "### 85. Write a Python program to scramble the letters of string in a given list. "
   ]
  },
  {
   "cell_type": "code",
   "execution_count": 33,
   "id": "bad1ecb9",
   "metadata": {},
   "outputs": [],
   "source": [
    "#pip install python_string_utils"
   ]
  },
  {
   "cell_type": "code",
   "execution_count": 35,
   "id": "ac5d3989",
   "metadata": {},
   "outputs": [
    {
     "data": {
      "text/plain": [
       "['htoPny', 'list', 'eseesxcir', 'rtiacpce', 'ooulnsit']"
      ]
     },
     "execution_count": 35,
     "metadata": {},
     "output_type": "execute_result"
    }
   ],
   "source": [
    "import string_utils\n",
    "l = ['Python', 'list', 'exercises', 'practice', 'solution']\n",
    "\n",
    "def string_list_scramble(in_l):\n",
    "    l=[]\n",
    "    for i in in_l:\n",
    "        l.append(string_utils.shuffle(i))\n",
    "    return l\n",
    "\n",
    "string_list_scramble(l)"
   ]
  },
  {
   "cell_type": "markdown",
   "id": "d4c201d3",
   "metadata": {},
   "source": [
    "### 86. Write a Python program to find the maximum and minimum values in a given heterogeneous list."
   ]
  },
  {
   "cell_type": "code",
   "execution_count": 38,
   "id": "3677e05a",
   "metadata": {},
   "outputs": [
    {
     "data": {
      "text/plain": [
       "'maximum value: 5 and minimum value: 2'"
      ]
     },
     "execution_count": 38,
     "metadata": {},
     "output_type": "execute_result"
    }
   ],
   "source": [
    "l =['Python', 3, 2, 4, 5, 'version'] \n",
    "\n",
    "def max_min_list_hetrogeneous(in_l):\n",
    "    l = []\n",
    "    for i in in_l:\n",
    "        if type(i) == int:\n",
    "            l.append(i)\n",
    "    return \"maximum value: {} and minimum value: {}\".format(max(l), min(l))\n",
    "\n",
    "max_min_list_hetrogeneous(l)"
   ]
  },
  {
   "cell_type": "markdown",
   "id": "535f7c13",
   "metadata": {},
   "source": [
    "### 87. Write a Python program to extract common index elements from three given list. "
   ]
  },
  {
   "cell_type": "code",
   "execution_count": 42,
   "id": "d3e194e9",
   "metadata": {},
   "outputs": [
    {
     "data": {
      "text/plain": [
       "[0, 4, 6]"
      ]
     },
     "execution_count": 42,
     "metadata": {},
     "output_type": "execute_result"
    }
   ],
   "source": [
    "l1 = [0,1,2,3,4,5,6]\n",
    "l2 = [0,2,3,4,4,6,6]\n",
    "l3 = [0,1,2,3,4,5,6]\n",
    "\n",
    "def common_index_element(in_l1,in_l2, in_l3):\n",
    "    l=[]\n",
    "    for i,j,k in zip(in_l1,in_l2, in_l3):\n",
    "        if i==j==k:\n",
    "            l.append(i)\n",
    "    return l\n",
    "\n",
    "common_index_element(l1,l2,l3)"
   ]
  },
  {
   "cell_type": "markdown",
   "id": "86e1b965",
   "metadata": {},
   "source": [
    "### 88. Write a Python program to extract specified size of strings from a give list of string values"
   ]
  },
  {
   "cell_type": "code",
   "execution_count": 44,
   "id": "e8d2ec6f",
   "metadata": {},
   "outputs": [
    {
     "data": {
      "text/plain": [
       "['my', 'is', 'in']"
      ]
     },
     "execution_count": 44,
     "metadata": {},
     "output_type": "execute_result"
    }
   ],
   "source": [
    "l = ['my', \"name\",\"is\",\"samrinjeet\",\"and\",\"i\",\"live\", \"in\",\"chandigarh\"]\n",
    "\n",
    "def string_from_list_len(in_l, length):\n",
    "    l=[]\n",
    "    for i in in_l:\n",
    "        if len(i) == length:\n",
    "            l.append(i)\n",
    "    return l\n",
    "\n",
    "string_from_list_len(l,2)"
   ]
  },
  {
   "cell_type": "markdown",
   "id": "78221c65",
   "metadata": {},
   "source": [
    "### 89. Write a Python program to extract specified number of elements from a given list, which follows each other continuously."
   ]
  },
  {
   "cell_type": "code",
   "execution_count": 47,
   "id": "a108ec3e",
   "metadata": {},
   "outputs": [
    {
     "data": {
      "text/plain": [
       "[22, 4]"
      ]
     },
     "execution_count": 47,
     "metadata": {},
     "output_type": "execute_result"
    }
   ],
   "source": [
    "from itertools import groupby \n",
    "l = [1,22,22,22,22,3,3,4,4,4,4]\n",
    "\n",
    "def custom_len_number(in_l, no_of_times_repeting):\n",
    "    return [i for i, j in groupby(in_l) if len(list(j)) == no_of_times_repeting] \n",
    "\n",
    "custom_len_number(l,4)"
   ]
  },
  {
   "cell_type": "markdown",
   "id": "4e58a2a2",
   "metadata": {},
   "source": [
    "### 90. Write a Python program to compute average of two given lists."
   ]
  },
  {
   "cell_type": "code",
   "execution_count": 54,
   "id": "335e1e24",
   "metadata": {},
   "outputs": [
    {
     "data": {
      "text/plain": [
       "9.474"
      ]
     },
     "execution_count": 54,
     "metadata": {},
     "output_type": "execute_result"
    }
   ],
   "source": [
    "l1= [i for i in range(10)]\n",
    "l2= [i for i in range(11,20)]\n",
    "\n",
    "def average_two_list(in_l1, in_l2):\n",
    "    return round((sum(in_l1)+sum(in_l2))/(len(in_l1)+len(in_l2)),3)\n",
    "\n",
    "average_two_list(l1,l2)"
   ]
  },
  {
   "cell_type": "markdown",
   "id": "d7fa932c",
   "metadata": {},
   "source": [
    "### 91. Write a Python program to count integer in a given mixed list. "
   ]
  },
  {
   "cell_type": "code",
   "execution_count": 55,
   "id": "ee676ddc",
   "metadata": {},
   "outputs": [
    {
     "data": {
      "text/plain": [
       "6"
      ]
     },
     "execution_count": 55,
     "metadata": {},
     "output_type": "execute_result"
    }
   ],
   "source": [
    "l = [1, 'abcd', 3, 1.2, 4, 'xyz', 5, 'pqr', 7, -5, -12.22]\n",
    "\n",
    "def int_counter_mixed_list(in_l):\n",
    "    count=0\n",
    "    for i in in_l:\n",
    "        if type(i) == int:\n",
    "            count+=1\n",
    "    return count\n",
    "\n",
    "int_counter_mixed_list(l)"
   ]
  },
  {
   "cell_type": "markdown",
   "id": "21a84885",
   "metadata": {},
   "source": [
    "### 92. Write a Python program to remove a specified column from a given nested list."
   ]
  },
  {
   "cell_type": "code",
   "execution_count": 56,
   "id": "19c348ec",
   "metadata": {},
   "outputs": [
    {
     "data": {
      "text/plain": [
       "[[2, 3, 4], [6, 7, 8], [10, 11, 12], [14, 15, 16]]"
      ]
     },
     "execution_count": 56,
     "metadata": {},
     "output_type": "execute_result"
    }
   ],
   "source": [
    "l = [[1,2,3,4],[5,6,7,8],[9,10,11,12],[13,14,15,16]]\n",
    "\n",
    "def custom_column_remover(in_l, col_number):\n",
    "    for i in in_l:\n",
    "        del i[col_number-1]\n",
    "    return in_l\n",
    "\n",
    "custom_column_remover(l,1)"
   ]
  },
  {
   "cell_type": "code",
   "execution_count": 58,
   "id": "3760b0dd",
   "metadata": {},
   "outputs": [
    {
     "data": {
      "text/plain": [
       "[[1, 3, 4], [5, 7, 8], [9, 11, 12], [13, 15, 16]]"
      ]
     },
     "execution_count": 58,
     "metadata": {},
     "output_type": "execute_result"
    }
   ],
   "source": [
    "l = [[1,2,3,4],[5,6,7,8],[9,10,11,12],[13,14,15,16]]\n",
    "custom_column_remover(l,2)"
   ]
  },
  {
   "cell_type": "markdown",
   "id": "36a29ec1",
   "metadata": {},
   "source": [
    "### 93. Write a Python program to extract a specified column from a given nested list. "
   ]
  },
  {
   "cell_type": "code",
   "execution_count": 62,
   "id": "b88e9432",
   "metadata": {},
   "outputs": [
    {
     "data": {
      "text/plain": [
       "[2, 6, 10, 14]"
      ]
     },
     "execution_count": 62,
     "metadata": {},
     "output_type": "execute_result"
    }
   ],
   "source": [
    "l = [[1,2,3,4],[5,6,7,8],[9,10,11,12],[13,14,15,16]]\n",
    "\n",
    "def custom_column_extractor(in_l, column_number):\n",
    "    return [i.pop(column_number-1) for i in in_l]\n",
    "    \n",
    "custom_column_extractor(l,2)"
   ]
  },
  {
   "cell_type": "markdown",
   "id": "0a5e0715",
   "metadata": {},
   "source": [
    "### 94. Write a Python program to rotate a given list by specified number of items to the right."
   ]
  },
  {
   "cell_type": "code",
   "execution_count": 65,
   "id": "ed223e81",
   "metadata": {},
   "outputs": [
    {
     "data": {
      "text/plain": [
       "[8, 9, 10, 1, 2, 3, 4, 5, 6]"
      ]
     },
     "execution_count": 65,
     "metadata": {},
     "output_type": "execute_result"
    }
   ],
   "source": [
    "l = [1,2,3,4,5,6,7,8,9,10]\n",
    "\n",
    "def list_right_rotate(in_list, position):\n",
    "    return in_list[-(position-1):]+in_list[:-position]\n",
    "\n",
    "list_right_rotate(l,4)"
   ]
  },
  {
   "cell_type": "markdown",
   "id": "0fe4ebcf",
   "metadata": {},
   "source": [
    "### 95. Write a Python program to rotate a given list by specified number of items to the left direction."
   ]
  },
  {
   "cell_type": "code",
   "execution_count": 67,
   "id": "88951abd",
   "metadata": {},
   "outputs": [
    {
     "data": {
      "text/plain": [
       "[4, 5, 6, 7, 8, 9, 10, 1, 2, 3, 4]"
      ]
     },
     "execution_count": 67,
     "metadata": {},
     "output_type": "execute_result"
    }
   ],
   "source": [
    "l = [1,2,3,4,5,6,7,8,9,10]\n",
    "\n",
    "def list_left_rotate(in_list, position):\n",
    "    return in_list[(position-1):]+in_list[:position]\n",
    "\n",
    "list_left_rotate(l,4)"
   ]
  },
  {
   "cell_type": "markdown",
   "id": "f1f89ba9",
   "metadata": {},
   "source": [
    "### 96. Write a Python program to find the item with maximum occurrences in a given list."
   ]
  },
  {
   "cell_type": "code",
   "execution_count": 68,
   "id": "13865e4a",
   "metadata": {},
   "outputs": [
    {
     "data": {
      "text/plain": [
       "1"
      ]
     },
     "execution_count": 68,
     "metadata": {},
     "output_type": "execute_result"
    }
   ],
   "source": [
    "l = [1,1,1,1,1,1,1,2,2,2,3,3,3,4,4,4,5,5,5]\n",
    "\n",
    "def max_occur_element_list(in_l):\n",
    "    count_ele=0\n",
    "    for i in in_l:\n",
    "        occurance_ele=in_l.count(i)\n",
    "        if occurance_ele>count_ele:\n",
    "            count_ele=occurance_ele\n",
    "            result = i\n",
    "    return result\n",
    "\n",
    "max_occur_element_list(l)"
   ]
  },
  {
   "cell_type": "markdown",
   "id": "1c81948b",
   "metadata": {},
   "source": [
    "### 97. Write a Python program to check whether a specified list is sorted or not."
   ]
  },
  {
   "cell_type": "code",
   "execution_count": 72,
   "id": "c929c464",
   "metadata": {},
   "outputs": [
    {
     "data": {
      "text/plain": [
       "True"
      ]
     },
     "execution_count": 72,
     "metadata": {},
     "output_type": "execute_result"
    }
   ],
   "source": [
    "l = [1,2,3,4,5,6,7,8,9,10]\n",
    "l1= [1,3,2,4,5,6,7,8,9,10]\n",
    "l2 = [10,9,8,7,6,5,4,3,2,1]\n",
    "\n",
    "def sorted_list_checker(in_l):\n",
    "    if in_l == sorted(in_l) or in_l == sorted(in_l, reverse=True):\n",
    "        return True\n",
    "    else:\n",
    "        return False\n",
    "    \n",
    "sorted_list_checker(l)"
   ]
  },
  {
   "cell_type": "code",
   "execution_count": 71,
   "id": "22fe1cd9",
   "metadata": {},
   "outputs": [
    {
     "data": {
      "text/plain": [
       "False"
      ]
     },
     "execution_count": 71,
     "metadata": {},
     "output_type": "execute_result"
    }
   ],
   "source": [
    "sorted_list_checker(l1)"
   ]
  },
  {
   "cell_type": "code",
   "execution_count": 73,
   "id": "fa2270aa",
   "metadata": {},
   "outputs": [
    {
     "data": {
      "text/plain": [
       "True"
      ]
     },
     "execution_count": 73,
     "metadata": {},
     "output_type": "execute_result"
    }
   ],
   "source": [
    "sorted_list_checker(l2)"
   ]
  },
  {
   "cell_type": "markdown",
   "id": "4b88e791",
   "metadata": {},
   "source": [
    "### 98. Write a Python program to extract the nth element from a given list of tuples. "
   ]
  },
  {
   "cell_type": "code",
   "execution_count": 74,
   "id": "d6a5e14a",
   "metadata": {},
   "outputs": [
    {
     "data": {
      "text/plain": [
       "['Greyson Fulton', 'Brady Kent', 'Wyatt Knott', 'Beau Turnbull']"
      ]
     },
     "execution_count": 74,
     "metadata": {},
     "output_type": "execute_result"
    }
   ],
   "source": [
    "l = [('Greyson Fulton', 98, 99), ('Brady Kent', 97, 96), ('Wyatt Knott', 91, 94), ('Beau Turnbull', 94, 98)]\n",
    "\n",
    "def nth_element_list_tuple_extractor(in_l, nth_element):\n",
    "    l = []\n",
    "    for i in in_l:\n",
    "        l.append(i[nth_element])\n",
    "    return l\n",
    "\n",
    "nth_element_list_tuple_extractor(l,0)\n",
    "        "
   ]
  },
  {
   "cell_type": "markdown",
   "id": "df37645e",
   "metadata": {},
   "source": [
    "### 99. Write a Python program to check if the elements of a given list are unique or not. "
   ]
  },
  {
   "cell_type": "code",
   "execution_count": 75,
   "id": "c3200026",
   "metadata": {},
   "outputs": [
    {
     "data": {
      "text/plain": [
       "False"
      ]
     },
     "execution_count": 75,
     "metadata": {},
     "output_type": "execute_result"
    }
   ],
   "source": [
    "l = [1,1,2,2,3,3,4,4]\n",
    "l1 = [1,2,3,4,5,6,7,8]\n",
    "\n",
    "def unique_all_element_list_checker(in_l):\n",
    "    if len(in_l) == len(set(in_l)):\n",
    "        return True\n",
    "    else:\n",
    "        return False\n",
    "    \n",
    "unique_all_element_list_checker(l)"
   ]
  },
  {
   "cell_type": "code",
   "execution_count": 76,
   "id": "bb76bcb0",
   "metadata": {},
   "outputs": [
    {
     "data": {
      "text/plain": [
       "True"
      ]
     },
     "execution_count": 76,
     "metadata": {},
     "output_type": "execute_result"
    }
   ],
   "source": [
    "unique_all_element_list_checker(l1)"
   ]
  },
  {
   "cell_type": "markdown",
   "id": "d489c9f0",
   "metadata": {},
   "source": [
    "### 100. Write a Python program to sort a list of lists or tuples by a given index of the inner list or tuple."
   ]
  },
  {
   "cell_type": "code",
   "execution_count": 77,
   "id": "5b1b9934",
   "metadata": {},
   "outputs": [
    {
     "data": {
      "text/plain": [
       "[('Beau Turnbull', 94, 98),\n",
       " ('Brady Kent', 97, 96),\n",
       " ('Greyson Fulton', 98, 99),\n",
       " ('Wyatt Knott', 91, 94)]"
      ]
     },
     "execution_count": 77,
     "metadata": {},
     "output_type": "execute_result"
    }
   ],
   "source": [
    "l = [('Greyson Fulton', 98, 99), ('Brady Kent', 97, 96), ('Wyatt Knott', 91, 94), ('Beau Turnbull', 94, 98)]\n",
    "\n",
    "def custom_sort_list_by_index(in_l, index_inner_list):\n",
    "    return sorted(in_l, key=lambda x:x[index_inner_list])\n",
    "\n",
    "custom_sort_list_by_index(l,0)"
   ]
  },
  {
   "cell_type": "code",
   "execution_count": 78,
   "id": "ce73d15b",
   "metadata": {},
   "outputs": [
    {
     "data": {
      "text/plain": [
       "[('Wyatt Knott', 91, 94),\n",
       " ('Brady Kent', 97, 96),\n",
       " ('Beau Turnbull', 94, 98),\n",
       " ('Greyson Fulton', 98, 99)]"
      ]
     },
     "execution_count": 78,
     "metadata": {},
     "output_type": "execute_result"
    }
   ],
   "source": [
    "custom_sort_list_by_index(l,2)"
   ]
  },
  {
   "cell_type": "code",
   "execution_count": 79,
   "id": "ea4c10fc",
   "metadata": {},
   "outputs": [
    {
     "data": {
      "text/plain": [
       "[('Wyatt Knott', 91, 94),\n",
       " ('Beau Turnbull', 94, 98),\n",
       " ('Brady Kent', 97, 96),\n",
       " ('Greyson Fulton', 98, 99)]"
      ]
     },
     "execution_count": 79,
     "metadata": {},
     "output_type": "execute_result"
    }
   ],
   "source": [
    "custom_sort_list_by_index(l,1)"
   ]
  }
 ],
 "metadata": {
  "kernelspec": {
   "display_name": "Python 3 (ipykernel)",
   "language": "python",
   "name": "python3"
  },
  "language_info": {
   "codemirror_mode": {
    "name": "ipython",
    "version": 3
   },
   "file_extension": ".py",
   "mimetype": "text/x-python",
   "name": "python",
   "nbconvert_exporter": "python",
   "pygments_lexer": "ipython3",
   "version": "3.9.12"
  }
 },
 "nbformat": 4,
 "nbformat_minor": 5
}
